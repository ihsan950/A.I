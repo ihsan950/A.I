{
 "cells": [
  {
   "cell_type": "code",
   "execution_count": 1,
   "id": "d51c4053",
   "metadata": {},
   "outputs": [
    {
     "name": "stdout",
     "output_type": "stream",
     "text": [
      "Finsihed loading libraries\n"
     ]
    }
   ],
   "source": [
    "import numpy as np\n",
    "import pandas as pd \n",
    "import seaborn as sns\n",
    "import matplotlib\n",
    "from matplotlib import pyplot as plt\n",
    "import nltk \n",
    "import string\n",
    "string.punctuation\n",
    "print('Finsihed loading libraries')"
   ]
  },
  {
   "cell_type": "code",
   "execution_count": 2,
   "id": "7756fae4",
   "metadata": {},
   "outputs": [
    {
     "name": "stdout",
     "output_type": "stream",
     "text": [
      "\n",
      "Data columns:\n",
      "Index(['_unit_id', '_golden', '_unit_state', '_trusted_judgments',\n",
      "       '_last_judgment_at', 'positivity', 'positivity:confidence', 'relevance',\n",
      "       'relevance:confidence', 'articleid', 'date', 'headline',\n",
      "       'positivity_gold', 'relevance_gold', 'text'],\n",
      "      dtype='object')\n",
      "\n",
      "meta data:\n",
      "       _unit_id  _golden _unit_state  _trusted_judgments _last_judgment_at  \\\n",
      "0     842613455    False   finalized                   3     12/5/15 17:48   \n",
      "1     842613456    False   finalized                   3     12/5/15 16:54   \n",
      "2     842613457    False   finalized                   3      12/5/15 1:59   \n",
      "3     842613458    False   finalized                   3      12/5/15 2:19   \n",
      "4     842613459    False   finalized                   3     12/5/15 17:48   \n",
      "...         ...      ...         ...                 ...               ...   \n",
      "7995  830985632    False   finalized                   3    11/17/15 18:16   \n",
      "7996  830985633    False   finalized                   3     11/18/15 8:10   \n",
      "7997  830985634    False   finalized                   3    11/18/15 12:12   \n",
      "7998  830985635    False   finalized                   3     11/18/15 7:17   \n",
      "7999  830985636    False   finalized                   3    11/18/15 11:05   \n",
      "\n",
      "      positivity  positivity:confidence relevance  relevance:confidence  \\\n",
      "0            3.0                 0.6400       yes                0.6400   \n",
      "1            NaN                    NaN        no                1.0000   \n",
      "2            NaN                    NaN        no                1.0000   \n",
      "3            NaN                 0.0000        no                0.6750   \n",
      "4            3.0                 0.3257       yes                0.6400   \n",
      "...          ...                    ...       ...                   ...   \n",
      "7995         7.0                 0.3511       yes                0.6641   \n",
      "7996         NaN                    NaN        no                1.0000   \n",
      "7997         NaN                    NaN        no                1.0000   \n",
      "7998         NaN                 0.0000        no                0.6855   \n",
      "7999         NaN                    NaN        no                1.0000   \n",
      "\n",
      "           articleid      date  \\\n",
      "0      wsj_398217788   8/14/91   \n",
      "1      wsj_399019502   8/21/07   \n",
      "2      wsj_398284048  11/14/91   \n",
      "3      wsj_397959018   6/16/86   \n",
      "4      wsj_398838054   10/4/02   \n",
      "...              ...       ...   \n",
      "7995  wapo_152454634   2/11/52   \n",
      "7996  wapo_410349039  12/13/09   \n",
      "7997  wapo_410346237  12/18/09   \n",
      "7998  wapo_307808606   1/10/95   \n",
      "7999  wapo_143151328   4/18/67   \n",
      "\n",
      "                                               headline  positivity_gold  \\\n",
      "0                 Yields on CDs Fell in the Latest Week              NaN   \n",
      "1     The Morning Brief: White House Seeks to Limit ...              NaN   \n",
      "2     Banking Bill Negotiators Set Compromise --- Pl...              NaN   \n",
      "3     Manager's Journal: Sniffing Out Drug Abusers I...              NaN   \n",
      "4     Currency Trading: Dollar Remains in Tight Rang...              NaN   \n",
      "...                                                 ...              ...   \n",
      "7995  Sawyer Sees Strong Economy For 2 Years, Truce ...              NaN   \n",
      "7996                   Oil's losses are airlines' gains              NaN   \n",
      "7997  Full Senate to vote on Bernanke; PANEL ADVANCE...              NaN   \n",
      "7998                          Reinventing Opportunities              NaN   \n",
      "7999  Stocks Rise On News of Auto Output: Dow Climbs...              NaN   \n",
      "\n",
      "      relevance_gold                                               text  \n",
      "0                NaN  NEW YORK -- Yields on most certificates of dep...  \n",
      "1                NaN  The Wall Street Journal Online</br></br>The Mo...  \n",
      "2                NaN  WASHINGTON -- In an effort to achieve banking ...  \n",
      "3                NaN  The statistics on the enormous costs of employ...  \n",
      "4                NaN  NEW YORK -- Indecision marked the dollar's ton...  \n",
      "...              ...                                                ...  \n",
      "7995             NaN  Secretary of Commerce Charles W. Sawyer said y...  \n",
      "7996             NaN  U.S. stocks inched up last week, overcoming co...  \n",
      "7997             NaN  Ben S. Bernanke cleared a key hurdle Thursday ...  \n",
      "7998             NaN  The White House's push to contract out many fe...  \n",
      "7999             NaN  NEW YORK. April 17-Automobile stocks put on th...  \n",
      "\n",
      "[8000 rows x 15 columns]\n"
     ]
    }
   ],
   "source": [
    "\n",
    "fileName='Full-Economic-News-DFE-839861.txt'\n",
    "metaDf=pd.read_csv(fileName, encoding= 'unicode_escape')\n",
    "\n",
    "#check columns\n",
    "print('\\nData columns:')\n",
    "print(metaDf.columns)\n",
    "\n",
    "#data head\n",
    "print('\\nmeta data:')\n",
    "print(metaDf)"
   ]
  },
  {
   "cell_type": "code",
   "execution_count": 3,
   "id": "ee8cfcbb",
   "metadata": {},
   "outputs": [
    {
     "name": "stdout",
     "output_type": "stream",
     "text": [
      "(7991, 2)\n",
      "                                                text  relevance\n",
      "0  NEW YORK -- Yields on most certificates of dep...          1\n",
      "1  The Wall Street Journal Online</br></br>The Mo...          0\n",
      "2  WASHINGTON -- In an effort to achieve banking ...          0\n",
      "3  The statistics on the enormous costs of employ...          0\n",
      "4  NEW YORK -- Indecision marked the dollar's ton...          1\n"
     ]
    }
   ],
   "source": [
    "data = pd.read_csv(\"Full-Economic-News-DFE-839861.txt\" , encoding = \"ISO-8859-1\" )\n",
    "data.shape\n",
    "data = data[data.relevance != \"not sure\"] \n",
    "data.shape\n",
    "data['relevance'] = data.relevance.map({'yes':1, 'no':0}) \n",
    "data = data[[\"text\",\"relevance\"]] \n",
    "print(data.shape)\n",
    "print(data.head())"
   ]
  },
  {
   "cell_type": "code",
   "execution_count": 4,
   "id": "a87517ba",
   "metadata": {},
   "outputs": [],
   "source": [
    "from sklearn.feature_extraction import _stop_words\n",
    "stopwords = _stop_words.ENGLISH_STOP_WORDS\n",
    "def clean(doc): # doc is a string of text\n",
    "    doc = doc.replace(\"</br>\", \" \") # This text contains a lot of <br/> tags.\n",
    "    doc = \"\".join([char for char in doc if char not in string.punctuation and not char.isdigit()])\n",
    "    doc = \" \".join([token for token in doc.split() if token not in stopwords])\n",
    "    # remove punctuation and numbers\n",
    "    return doc"
   ]
  },
  {
   "cell_type": "markdown",
   "id": "bbb5a4ae",
   "metadata": {},
   "source": [
    "# Count Vectorizer"
   ]
  },
  {
   "cell_type": "code",
   "execution_count": 5,
   "id": "3156450e",
   "metadata": {},
   "outputs": [],
   "source": [
    "from sklearn.feature_extraction.text import CountVectorizer\n",
    "from sklearn.naive_bayes import MultinomialNB\n",
    "from sklearn.linear_model import LogisticRegression\n",
    "from sklearn.model_selection import train_test_split"
   ]
  },
  {
   "cell_type": "code",
   "execution_count": 6,
   "id": "2943b808",
   "metadata": {},
   "outputs": [
    {
     "name": "stdout",
     "output_type": "stream",
     "text": [
      "(7991,) (7991,)\n"
     ]
    }
   ],
   "source": [
    "x = data.text # the column text contains textual data to extract features from\n",
    "y = data.relevance # this is the column we are learning to predict. \n",
    "print(x.shape, y.shape)"
   ]
  },
  {
   "cell_type": "code",
   "execution_count": 7,
   "id": "ab07065b",
   "metadata": {},
   "outputs": [
    {
     "name": "stdout",
     "output_type": "stream",
     "text": [
      "(6392,)\n",
      "(6392,)\n",
      "(1599,)\n",
      "(1599,)\n"
     ]
    }
   ],
   "source": [
    "x_train, x_test, y_train, y_test = train_test_split(x, y, test_size=0.2,random_state=1)\n",
    "print(x_train.shape)\n",
    "print(y_train.shape)\n",
    "print(x_test.shape)\n",
    "print(y_test.shape)"
   ]
  },
  {
   "cell_type": "code",
   "execution_count": 8,
   "id": "05001575",
   "metadata": {},
   "outputs": [
    {
     "name": "stdout",
     "output_type": "stream",
     "text": [
      "(6392, 51416) (1599, 51416)\n"
     ]
    }
   ],
   "source": [
    "vect = CountVectorizer(preprocessor=clean) # instantiate a vectoriezer\n",
    "x_train_dtm = vect.fit_transform(x_train)# use it to extract features from training data\n",
    "# transform testing data (using training data's features)\n",
    "x_test_dtm = vect.transform(x_test)\n",
    "print(x_train_dtm.shape, x_test_dtm.shape)"
   ]
  },
  {
   "cell_type": "code",
   "execution_count": 9,
   "id": "f651c6b9",
   "metadata": {},
   "outputs": [
    {
     "data": {
      "text/plain": [
       "MultinomialNB()"
      ]
     },
     "execution_count": 9,
     "metadata": {},
     "output_type": "execute_result"
    }
   ],
   "source": [
    "nb = MultinomialNB() # instantiate a Multinomial Naive Bayes model\n",
    "nb.fit(x_train_dtm, y_train) # train the model(timing it with an IPython \"magic command"
   ]
  },
  {
   "cell_type": "code",
   "execution_count": 10,
   "id": "d4f81bd7",
   "metadata": {},
   "outputs": [],
   "source": [
    " y_pred_class = nb.predict(x_test_dtm)"
   ]
  },
  {
   "cell_type": "code",
   "execution_count": 11,
   "id": "f72efd19",
   "metadata": {},
   "outputs": [
    {
     "name": "stdout",
     "output_type": "stream",
     "text": [
      "Accuracy:  0.7779862414008756\n"
     ]
    }
   ],
   "source": [
    "from sklearn.metrics import accuracy_score\n",
    "#check the accuracy\n",
    "# Print accuracy:\n",
    "print(\"Accuracy: \", accuracy_score(y_test, y_pred_class))"
   ]
  },
  {
   "cell_type": "code",
   "execution_count": 12,
   "id": "ae609c40",
   "metadata": {},
   "outputs": [
    {
     "data": {
      "image/png": "[encoded data removed]",
      "text/plain": [
       "<Figure size 432x288 with 2 Axes>"
      ]
     },
     "metadata": {
      "needs_background": "light"
     },
     "output_type": "display_data"
    }
   ],
   "source": [
    "# Make the Confusion Matrix\n",
    "from sklearn.metrics import confusion_matrix\n",
    "cm = confusion_matrix(y_test, y_pred_class)\n",
    "class_label = [\"Not relevant\", \"Relevant\"]\n",
    "df_cm = pd.DataFrame(cm, index=class_label,columns=class_label)\n",
    "sns.heatmap(df_cm, annot=True, fmt='d', cmap='Blues')\n",
    "plt.title(\"Confusion Matrix\")\n",
    "plt.xlabel(\"Predicted Label\")\n",
    "plt.ylabel(\"True Label\")\n",
    "plt.show()"
   ]
  },
  {
   "cell_type": "markdown",
   "id": "66c06b9d",
   "metadata": {},
   "source": [
    "# TF-IDF"
   ]
  },
  {
   "cell_type": "code",
   "execution_count": 13,
   "id": "0eedbb05",
   "metadata": {},
   "outputs": [],
   "source": [
    "import string\n",
    "import re\n",
    "import nltk\n",
    "stopword = nltk.corpus.stopwords.words('english')\n",
    "ps = nltk.PorterStemmer()"
   ]
  },
  {
   "cell_type": "code",
   "execution_count": 14,
   "id": "f36dfe31",
   "metadata": {},
   "outputs": [],
   "source": [
    "def stemming(tokenized_text):\n",
    "    text = [ps.stem(word) for word in tokenized_text]\n",
    "    return text\n",
    "# Function to remove Stopwords\n",
    "def remove_stopwords(tokenized_list):\n",
    "    text = [word for word in tokenized_list if word not in stopword]\n",
    "    return text\n",
    "def clean_text(text):\n",
    "    text = text.replace(\"</br>\", \" \")\n",
    "    text = \"\".join([word.lower() for word in text if word not in string.punctuation])\n",
    "    tokens = re.split('\\W+', text)\n",
    "    text = [ps.stem(word) for word in tokens if word not in stopword]\n",
    "    return text"
   ]
  },
  {
   "cell_type": "code",
   "execution_count": 31,
   "id": "8701ef45",
   "metadata": {},
   "outputs": [
    {
     "name": "stdout",
     "output_type": "stream",
     "text": [
      "(7991,) (7991,)\n"
     ]
    }
   ],
   "source": [
    "a = data.text \n",
    "b = data.relevance \n",
    "print(a.shape, b.shape)"
   ]
  },
  {
   "cell_type": "code",
   "execution_count": 32,
   "id": "ed9bae4e",
   "metadata": {},
   "outputs": [
    {
     "name": "stdout",
     "output_type": "stream",
     "text": [
      "(6392,)\n",
      "(6392,)\n",
      "(1599,)\n",
      "(1599,)\n"
     ]
    }
   ],
   "source": [
    "a_train, a_test, b_train, b_test = train_test_split(a, b, test_size=0.2,random_state=1)\n",
    "print(a_train.shape)\n",
    "print(b_train.shape)\n",
    "print(a_test.shape)\n",
    "print(b_test.shape)"
   ]
  },
  {
   "cell_type": "code",
   "execution_count": 20,
   "id": "e4988dbf",
   "metadata": {},
   "outputs": [],
   "source": [
    "from sklearn.feature_extraction.text import TfidfVectorizer\n",
    "tf_vectorizer = TfidfVectorizer(analyzer=clean_text)"
   ]
  },
  {
   "cell_type": "code",
   "execution_count": 33,
   "id": "702c3e7d",
   "metadata": {},
   "outputs": [
    {
     "name": "stdout",
     "output_type": "stream",
     "text": [
      "(6392, 40513) (1599, 40513)\n"
     ]
    }
   ],
   "source": [
    "a_train_tf = tf_vectorizer.fit_transform(a_train)\n",
    "a_test_tf = tf_vectorizer.transform(a_test)\n",
    "print(a_train_tf.shape, a_test_tf.shape)"
   ]
  },
  {
   "cell_type": "code",
   "execution_count": 35,
   "id": "c83a9ce8",
   "metadata": {},
   "outputs": [],
   "source": [
    "nb = MultinomialNB() \n",
    "nb.fit(a_train_tf, b_train) \n",
    "b_pred_class = nb.predict(a_test_tf)"
   ]
  },
  {
   "cell_type": "code",
   "execution_count": 36,
   "id": "9c13abab",
   "metadata": {},
   "outputs": [
    {
     "name": "stdout",
     "output_type": "stream",
     "text": [
      "Accuracy:  0.8298936835522202\n"
     ]
    }
   ],
   "source": [
    "print(\"Accuracy: \", accuracy_score(b_test, b_pred_class))"
   ]
  },
  {
   "cell_type": "code",
   "execution_count": 37,
   "id": "10bc0f66",
   "metadata": {},
   "outputs": [
    {
     "data": {
      "image/png": "[encoded data removed]",
      "text/plain": [
       "<Figure size 432x288 with 2 Axes>"
      ]
     },
     "metadata": {
      "needs_background": "light"
     },
     "output_type": "display_data"
    }
   ],
   "source": [
    "from sklearn.metrics import confusion_matrix\n",
    "cm = confusion_matrix(b_test, b_pred_class)\n",
    "class_label = [\"Not relevant\", \"Relevant\"]\n",
    "df_cm = pd.DataFrame(cm, index=class_label,columns=class_label)\n",
    "sns.heatmap(df_cm, annot=True, fmt='d', cmap='Blues')\n",
    "plt.title(\"Confusion Matrix\")\n",
    "plt.xlabel(\"Predicted Label\")\n",
    "plt.ylabel(\"True Label\")\n",
    "plt.show()"
   ]
  }
 ],
 "metadata": {
  "celltoolbar": "Raw Cell Format",
  "kernelspec": {
   "display_name": "Python 3",
   "language": "python",
   "name": "python3"
  },
  "language_info": {
   "codemirror_mode": {
    "name": "ipython",
    "version": 3
   },
   "file_extension": ".py",
   "mimetype": "text/x-python",
   "name": "python",
   "nbconvert_exporter": "python",
   "pygments_lexer": "ipython3",
   "version": "3.8.8"
  }
 },
 "nbformat": 4,
 "nbformat_minor": 5
}
