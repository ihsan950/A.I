{
 "cells": [
  {
   "cell_type": "code",
   "execution_count": 37,
   "id": "01f79eca",
   "metadata": {},
   "outputs": [
    {
     "name": "stdout",
     "output_type": "stream",
     "text": [
      "Finsihed loading libs\n"
     ]
    }
   ],
   "source": [
    "import tensorflow as tf\n",
    "from tensorflow import keras\n",
    "import matplotlib\n",
    "import numpy as np\n",
    "import pandas as pd\n",
    "import matplotlib as mpl\n",
    "import matplotlib.pyplot as plt \n",
    "import matplotlib.image as mpimg\n",
    "from sklearn.linear_model import LogisticRegression\n",
    "print('Finsihed loading libs')"
   ]
  },
  {
   "cell_type": "code",
   "execution_count": 38,
   "id": "f02d0408",
   "metadata": {},
   "outputs": [
    {
     "name": "stdout",
     "output_type": "stream",
     "text": [
      "finsihed reading data\n"
     ]
    }
   ],
   "source": [
    "orig_x = np.load('X.npy')\n",
    "orig_y = np.load('Y.npy')\n",
    "print('finsihed reading data')"
   ]
  },
  {
   "cell_type": "code",
   "execution_count": 39,
   "id": "3c76fd63",
   "metadata": {},
   "outputs": [
    {
     "name": "stdout",
     "output_type": "stream",
     "text": [
      "(2062, 64, 64)\n",
      "(2062, 10)\n",
      "<class 'numpy.ndarray'>\n",
      "Finished reading input data\n",
      "(2062,)\n"
     ]
    }
   ],
   "source": [
    "print(orig_x.shape)\n",
    "print(orig_y.shape)\n",
    "print(type(orig_y))\n",
    "print(\"Finished reading input data\")\n",
    "orig_y = np.argmax(orig_y, axis = 1)\n",
    "print(orig_y.shape)"
   ]
  },
  {
   "cell_type": "code",
   "execution_count": 4,
   "id": "2dd5fd0e",
   "metadata": {},
   "outputs": [
    {
     "data": {
      "text/plain": [
       "<matplotlib.image.AxesImage at 0x228e70dd220>"
      ]
     },
     "execution_count": 4,
     "metadata": {},
     "output_type": "execute_result"
    },
    {
     "data": {
      "image/png": "[encoded data removed]",
      "text/plain": [
       "<Figure size 432x288 with 1 Axes>"
      ]
     },
     "metadata": {
      "needs_background": "light"
     },
     "output_type": "display_data"
    }
   ],
   "source": [
    "plt.imshow(orig_x[1751,:,:])"
   ]
  },
  {
   "cell_type": "code",
   "execution_count": 5,
   "id": "fcccb0de",
   "metadata": {},
   "outputs": [
    {
     "name": "stdout",
     "output_type": "stream",
     "text": [
      "<class 'numpy.ndarray'>\n",
      "<class 'numpy.ndarray'>\n",
      "(2062, 64)\n",
      "(2062,)\n"
     ]
    }
   ],
   "source": [
    "print(type(orig_x))\n",
    "print(type(orig_y))\n",
    "orig_x = orig_x[:,1]\n",
    "print(orig_x.shape)\n",
    "print(orig_y.shape)"
   ]
  },
  {
   "cell_type": "code",
   "execution_count": 6,
   "id": "a6e6d9db",
   "metadata": {},
   "outputs": [
    {
     "name": "stdout",
     "output_type": "stream",
     "text": [
      "(2062, 64)\n",
      "(2062, 1)\n",
      "<class 'pandas.core.frame.DataFrame'>\n",
      "<class 'pandas.core.frame.DataFrame'>\n"
     ]
    }
   ],
   "source": [
    "df_x = pd.DataFrame(orig_x)\n",
    "df_y = pd.DataFrame(orig_y)\n",
    "print(df_x.shape)\n",
    "print(df_y.shape)\n",
    "print(type(df_x))\n",
    "print(type(df_y))"
   ]
  },
  {
   "cell_type": "code",
   "execution_count": 7,
   "id": "f05b2ad2",
   "metadata": {},
   "outputs": [
    {
     "name": "stdout",
     "output_type": "stream",
     "text": [
      "<class 'pandas.core.frame.DataFrame'>\n",
      "<class 'pandas.core.frame.DataFrame'>\n",
      "<class 'pandas.core.series.Series'>\n",
      "(2062,)\n",
      "<bound method NDFrame.head of 0       0\n",
      "1       0\n",
      "2       0\n",
      "3       0\n",
      "4       0\n",
      "       ..\n",
      "2057    9\n",
      "2058    9\n",
      "2059    9\n",
      "2060    9\n",
      "2061    9\n",
      "Name: 0, Length: 2062, dtype: int64>\n"
     ]
    }
   ],
   "source": [
    "print(type(df_x))\n",
    "print(type(df_y))\n",
    "df_y = df_y.iloc[:,0]\n",
    "print(type(df_y))\n",
    "print(df_y.shape)\n",
    "print(df_y.head)"
   ]
  },
  {
   "cell_type": "code",
   "execution_count": 8,
   "id": "ae299ed7",
   "metadata": {},
   "outputs": [
    {
     "name": "stdout",
     "output_type": "stream",
     "text": [
      "0\n",
      "0\n"
     ]
    }
   ],
   "source": [
    "print(df_y[1])\n",
    "print(df_y[7])"
   ]
  },
  {
   "cell_type": "code",
   "execution_count": 9,
   "id": "89bc1aac",
   "metadata": {},
   "outputs": [
    {
     "name": "stdout",
     "output_type": "stream",
     "text": [
      "(64,)\n",
      "<class 'pandas.core.series.Series'>\n",
      "(8, 8)\n",
      "Finished\n"
     ]
    }
   ],
   "source": [
    "oneInst = df_x.iloc[7]\n",
    "print(oneInst.shape)\n",
    "print(type(oneInst))\n",
    "\n",
    "oneInst = oneInst.values.reshape(8,8)\n",
    "print(oneInst.shape)\n",
    "\n",
    "from PIL import Image\n",
    "img = Image.fromarray(oneInst)\n",
    "img.show()\n",
    "print(\"Finished\")"
   ]
  },
  {
   "cell_type": "code",
   "execution_count": 10,
   "id": "6bf04204",
   "metadata": {},
   "outputs": [],
   "source": [
    "from sklearn.model_selection import train_test_split\n",
    "\n",
    "x_train, x_test, y_train, y_test = train_test_split(df_x, df_y, test_size=0.20, random_state=42)"
   ]
  },
  {
   "cell_type": "code",
   "execution_count": 11,
   "id": "5a088038",
   "metadata": {},
   "outputs": [],
   "source": [
    "x_train = x_train\n",
    "x_test = x_test "
   ]
  },
  {
   "cell_type": "code",
   "execution_count": 12,
   "id": "999fc998",
   "metadata": {},
   "outputs": [
    {
     "name": "stdout",
     "output_type": "stream",
     "text": [
      "Initialized model\n"
     ]
    }
   ],
   "source": [
    "model = keras.models.Sequential()\n",
    "print(\"Initialized model\")"
   ]
  },
  {
   "cell_type": "code",
   "execution_count": 13,
   "id": "a30768d2",
   "metadata": {},
   "outputs": [
    {
     "name": "stdout",
     "output_type": "stream",
     "text": [
      "Finsihed setting the input layer\n"
     ]
    }
   ],
   "source": [
    "model.add(keras.layers.Flatten(input_shape=[8,8]))\n",
    "print('Finsihed setting the input layer')"
   ]
  },
  {
   "cell_type": "code",
   "execution_count": 14,
   "id": "c9f3b3bd",
   "metadata": {},
   "outputs": [
    {
     "name": "stdout",
     "output_type": "stream",
     "text": [
      "Added hidden layer 1\n"
     ]
    }
   ],
   "source": [
    "model.add(keras.layers.Dense( 64, activation='relu'))\n",
    "print(\"Added hidden layer 1\")"
   ]
  },
  {
   "cell_type": "code",
   "execution_count": 15,
   "id": "5d5e1e1e",
   "metadata": {},
   "outputs": [
    {
     "name": "stdout",
     "output_type": "stream",
     "text": [
      "Added hidden layer 2\n"
     ]
    }
   ],
   "source": [
    "model.add(keras.layers.Dense(64, activation=\"relu\"))\n",
    "print('Added hidden layer 2')"
   ]
  },
  {
   "cell_type": "code",
   "execution_count": 16,
   "id": "60459b3d",
   "metadata": {},
   "outputs": [
    {
     "name": "stdout",
     "output_type": "stream",
     "text": [
      "Added output layer\n"
     ]
    }
   ],
   "source": [
    "model.add(keras.layers.Dense(10, activation='softmax'))\n",
    "print(\"Added output layer\")"
   ]
  },
  {
   "cell_type": "code",
   "execution_count": 17,
   "id": "33f785d3",
   "metadata": {},
   "outputs": [
    {
     "name": "stdout",
     "output_type": "stream",
     "text": [
      "Model: \"sequential\"\n",
      "_________________________________________________________________\n",
      "Layer (type)                 Output Shape              Param #   \n",
      "=================================================================\n",
      "flatten (Flatten)            (None, 64)                0         \n",
      "_________________________________________________________________\n",
      "dense (Dense)                (None, 64)                4160      \n",
      "_________________________________________________________________\n",
      "dense_1 (Dense)              (None, 64)                4160      \n",
      "_________________________________________________________________\n",
      "dense_2 (Dense)              (None, 10)                650       \n",
      "=================================================================\n",
      "Total params: 8,970\n",
      "Trainable params: 8,970\n",
      "Non-trainable params: 0\n",
      "_________________________________________________________________\n"
     ]
    }
   ],
   "source": [
    "model.summary()"
   ]
  },
  {
   "cell_type": "code",
   "execution_count": 18,
   "id": "6020b875",
   "metadata": {},
   "outputs": [
    {
     "name": "stdout",
     "output_type": "stream",
     "text": [
      "Finished compiling\n"
     ]
    }
   ],
   "source": [
    "model.compile(loss=\"categorical_crossentropy\",\n",
    "              optimizer=\"sgd\", \n",
    "              metrics = ['accuracy'])\n",
    "print(\"Finished compiling\")"
   ]
  },
  {
   "cell_type": "code",
   "execution_count": 19,
   "id": "9f5e03a8",
   "metadata": {},
   "outputs": [
    {
     "name": "stdout",
     "output_type": "stream",
     "text": [
      "(1649, 64)\n",
      "(1649,)\n"
     ]
    }
   ],
   "source": [
    "print(x_train.shape)\n",
    "print(y_train.shape)"
   ]
  },
  {
   "cell_type": "code",
   "execution_count": 20,
   "id": "b1563bf9",
   "metadata": {},
   "outputs": [
    {
     "name": "stdout",
     "output_type": "stream",
     "text": [
      "Finished categorizing the labels (output)\n"
     ]
    }
   ],
   "source": [
    "from tensorflow.keras.utils import to_categorical\n",
    "y_train_categorical = to_categorical(y_train)\n",
    "print(\"Finished categorizing the labels (output)\")"
   ]
  },
  {
   "cell_type": "code",
   "execution_count": 21,
   "id": "70b5f198",
   "metadata": {},
   "outputs": [
    {
     "name": "stdout",
     "output_type": "stream",
     "text": [
      "(1649, 10)\n"
     ]
    }
   ],
   "source": [
    "print(y_train_categorical.shape)"
   ]
  },
  {
   "cell_type": "code",
   "execution_count": 22,
   "id": "1340dcdb",
   "metadata": {},
   "outputs": [
    {
     "name": "stdout",
     "output_type": "stream",
     "text": [
      "Epoch 1/500\n",
      "WARNING:tensorflow:Model was constructed with shape (None, 8, 8) for input Tensor(\"flatten_input:0\", shape=(None, 8, 8), dtype=float32), but it was called on an input with incompatible shape (None, 64).\n",
      "WARNING:tensorflow:Model was constructed with shape (None, 8, 8) for input Tensor(\"flatten_input:0\", shape=(None, 8, 8), dtype=float32), but it was called on an input with incompatible shape (None, 64).\n",
      "52/52 [==============================] - 0s 442us/step - loss: 2.3312 - accuracy: 0.1037\n",
      "Epoch 2/500\n",
      "52/52 [==============================] - 0s 385us/step - loss: 2.3097 - accuracy: 0.1201\n",
      "Epoch 3/500\n",
      "52/52 [==============================] - 0s 385us/step - loss: 2.3048 - accuracy: 0.1079\n",
      "Epoch 4/500\n",
      "52/52 [==============================] - 0s 365us/step - loss: 2.3028 - accuracy: 0.1158\n",
      "Epoch 5/500\n",
      "52/52 [==============================] - 0s 385us/step - loss: 2.3021 - accuracy: 0.1098\n",
      "Epoch 6/500\n",
      "52/52 [==============================] - 0s 385us/step - loss: 2.3018 - accuracy: 0.1104\n",
      "Epoch 7/500\n",
      "52/52 [==============================] - 0s 365us/step - loss: 2.3015 - accuracy: 0.1225\n",
      "Epoch 8/500\n",
      "52/52 [==============================] - 0s 385us/step - loss: 2.3013 - accuracy: 0.1176\n",
      "Epoch 9/500\n",
      "52/52 [==============================] - 0s 365us/step - loss: 2.3011 - accuracy: 0.1189\n",
      "Epoch 10/500\n",
      "52/52 [==============================] - 0s 385us/step - loss: 2.3010 - accuracy: 0.1213\n",
      "Epoch 11/500\n",
      "52/52 [==============================] - 0s 404us/step - loss: 2.3010 - accuracy: 0.1225\n",
      "Epoch 12/500\n",
      "52/52 [==============================] - 0s 404us/step - loss: 2.3009 - accuracy: 0.1146\n",
      "Epoch 13/500\n",
      "52/52 [==============================] - 0s 385us/step - loss: 2.3008 - accuracy: 0.1170\n",
      "Epoch 14/500\n",
      "52/52 [==============================] - 0s 423us/step - loss: 2.3006 - accuracy: 0.1061\n",
      "Epoch 15/500\n",
      "52/52 [==============================] - 0s 365us/step - loss: 2.3006 - accuracy: 0.1176\n",
      "Epoch 16/500\n",
      "52/52 [==============================] - 0s 385us/step - loss: 2.3005 - accuracy: 0.1134\n",
      "Epoch 17/500\n",
      "52/52 [==============================] - 0s 385us/step - loss: 2.3004 - accuracy: 0.1049\n",
      "Epoch 18/500\n",
      "52/52 [==============================] - 0s 385us/step - loss: 2.3003 - accuracy: 0.1219\n",
      "Epoch 19/500\n",
      "52/52 [==============================] - 0s 385us/step - loss: 2.3003 - accuracy: 0.1116\n",
      "Epoch 20/500\n",
      "52/52 [==============================] - 0s 365us/step - loss: 2.3001 - accuracy: 0.1213\n",
      "Epoch 21/500\n",
      "52/52 [==============================] - 0s 404us/step - loss: 2.3002 - accuracy: 0.1231\n",
      "Epoch 22/500\n",
      "52/52 [==============================] - 0s 442us/step - loss: 2.3002 - accuracy: 0.1140\n",
      "Epoch 23/500\n",
      "52/52 [==============================] - 0s 365us/step - loss: 2.2997 - accuracy: 0.1255\n",
      "Epoch 24/500\n",
      "52/52 [==============================] - 0s 385us/step - loss: 2.2998 - accuracy: 0.1231\n",
      "Epoch 25/500\n",
      "52/52 [==============================] - 0s 365us/step - loss: 2.2999 - accuracy: 0.1267\n",
      "Epoch 26/500\n",
      "52/52 [==============================] - 0s 385us/step - loss: 2.2998 - accuracy: 0.1092\n",
      "Epoch 27/500\n",
      "52/52 [==============================] - 0s 385us/step - loss: 2.2996 - accuracy: 0.1273\n",
      "Epoch 28/500\n",
      "52/52 [==============================] - 0s 385us/step - loss: 2.2995 - accuracy: 0.1195\n",
      "Epoch 29/500\n",
      "52/52 [==============================] - 0s 385us/step - loss: 2.2993 - accuracy: 0.1164\n",
      "Epoch 30/500\n",
      "52/52 [==============================] - 0s 385us/step - loss: 2.2993 - accuracy: 0.1207\n",
      "Epoch 31/500\n",
      "52/52 [==============================] - 0s 385us/step - loss: 2.2993 - accuracy: 0.1164\n",
      "Epoch 32/500\n",
      "52/52 [==============================] - 0s 423us/step - loss: 2.2994 - accuracy: 0.1152\n",
      "Epoch 33/500\n",
      "52/52 [==============================] - 0s 385us/step - loss: 2.2992 - accuracy: 0.1213\n",
      "Epoch 34/500\n",
      "52/52 [==============================] - 0s 385us/step - loss: 2.2991 - accuracy: 0.1201\n",
      "Epoch 35/500\n",
      "52/52 [==============================] - 0s 365us/step - loss: 2.2989 - accuracy: 0.1207\n",
      "Epoch 36/500\n",
      "52/52 [==============================] - 0s 385us/step - loss: 2.2989 - accuracy: 0.1280\n",
      "Epoch 37/500\n",
      "52/52 [==============================] - 0s 365us/step - loss: 2.2989 - accuracy: 0.1189\n",
      "Epoch 38/500\n",
      "52/52 [==============================] - 0s 385us/step - loss: 2.2989 - accuracy: 0.1243\n",
      "Epoch 39/500\n",
      "52/52 [==============================] - 0s 385us/step - loss: 2.2987 - accuracy: 0.1243\n",
      "Epoch 40/500\n",
      "52/52 [==============================] - 0s 385us/step - loss: 2.2987 - accuracy: 0.1219\n",
      "Epoch 41/500\n",
      "52/52 [==============================] - 0s 385us/step - loss: 2.2985 - accuracy: 0.1207\n",
      "Epoch 42/500\n",
      "52/52 [==============================] - 0s 385us/step - loss: 2.2984 - accuracy: 0.1261\n",
      "Epoch 43/500\n",
      "52/52 [==============================] - 0s 404us/step - loss: 2.2984 - accuracy: 0.1219\n",
      "Epoch 44/500\n",
      "52/52 [==============================] - 0s 365us/step - loss: 2.2983 - accuracy: 0.1358\n",
      "Epoch 45/500\n",
      "52/52 [==============================] - 0s 385us/step - loss: 2.2982 - accuracy: 0.1225\n",
      "Epoch 46/500\n",
      "52/52 [==============================] - 0s 365us/step - loss: 2.2981 - accuracy: 0.1334\n",
      "Epoch 47/500\n",
      "52/52 [==============================] - 0s 385us/step - loss: 2.2979 - accuracy: 0.1304\n",
      "Epoch 48/500\n",
      "52/52 [==============================] - 0s 385us/step - loss: 2.2980 - accuracy: 0.1243\n",
      "Epoch 49/500\n",
      "52/52 [==============================] - 0s 385us/step - loss: 2.2978 - accuracy: 0.1352\n",
      "Epoch 50/500\n",
      "52/52 [==============================] - 0s 385us/step - loss: 2.2978 - accuracy: 0.1225\n",
      "Epoch 51/500\n",
      "52/52 [==============================] - 0s 385us/step - loss: 2.2977 - accuracy: 0.1243\n",
      "Epoch 52/500\n",
      "52/52 [==============================] - 0s 385us/step - loss: 2.2977 - accuracy: 0.1304\n",
      "Epoch 53/500\n",
      "52/52 [==============================] - 0s 385us/step - loss: 2.2973 - accuracy: 0.1237\n",
      "Epoch 54/500\n",
      "52/52 [==============================] - 0s 385us/step - loss: 2.2972 - accuracy: 0.1231\n",
      "Epoch 55/500\n",
      "52/52 [==============================] - 0s 385us/step - loss: 2.2972 - accuracy: 0.1243\n",
      "Epoch 56/500\n",
      "52/52 [==============================] - 0s 385us/step - loss: 2.2973 - accuracy: 0.1183\n",
      "Epoch 57/500\n",
      "52/52 [==============================] - 0s 385us/step - loss: 2.2972 - accuracy: 0.1255\n",
      "Epoch 58/500\n",
      "52/52 [==============================] - 0s 385us/step - loss: 2.2972 - accuracy: 0.1255\n",
      "Epoch 59/500\n",
      "52/52 [==============================] - 0s 385us/step - loss: 2.2969 - accuracy: 0.1292\n",
      "Epoch 60/500\n",
      "52/52 [==============================] - 0s 365us/step - loss: 2.2970 - accuracy: 0.1249\n",
      "Epoch 61/500\n",
      "52/52 [==============================] - 0s 385us/step - loss: 2.2969 - accuracy: 0.1273\n",
      "Epoch 62/500\n",
      "52/52 [==============================] - 0s 385us/step - loss: 2.2968 - accuracy: 0.1231\n",
      "Epoch 63/500\n",
      "52/52 [==============================] - 0s 385us/step - loss: 2.2965 - accuracy: 0.1340\n",
      "Epoch 64/500\n",
      "52/52 [==============================] - 0s 365us/step - loss: 2.2964 - accuracy: 0.1298\n",
      "Epoch 65/500\n",
      "52/52 [==============================] - 0s 385us/step - loss: 2.2963 - accuracy: 0.1273\n",
      "Epoch 66/500\n",
      "52/52 [==============================] - 0s 385us/step - loss: 2.2963 - accuracy: 0.1273\n",
      "Epoch 67/500\n",
      "52/52 [==============================] - 0s 385us/step - loss: 2.2962 - accuracy: 0.1322\n",
      "Epoch 68/500\n",
      "52/52 [==============================] - 0s 385us/step - loss: 2.2963 - accuracy: 0.1298\n",
      "Epoch 69/500\n",
      "52/52 [==============================] - 0s 365us/step - loss: 2.2961 - accuracy: 0.1304\n",
      "Epoch 70/500\n",
      "52/52 [==============================] - 0s 385us/step - loss: 2.2960 - accuracy: 0.1231\n",
      "Epoch 71/500\n",
      "52/52 [==============================] - 0s 385us/step - loss: 2.2958 - accuracy: 0.1358\n",
      "Epoch 72/500\n",
      "52/52 [==============================] - 0s 404us/step - loss: 2.2956 - accuracy: 0.1280\n",
      "Epoch 73/500\n",
      "52/52 [==============================] - 0s 385us/step - loss: 2.2957 - accuracy: 0.1273\n",
      "Epoch 74/500\n",
      "52/52 [==============================] - 0s 385us/step - loss: 2.2956 - accuracy: 0.1249\n",
      "Epoch 75/500\n",
      "52/52 [==============================] - 0s 385us/step - loss: 2.2955 - accuracy: 0.1346\n",
      "Epoch 76/500\n",
      "52/52 [==============================] - 0s 385us/step - loss: 2.2954 - accuracy: 0.1261\n",
      "Epoch 77/500\n"
     ]
    },
    {
     "name": "stdout",
     "output_type": "stream",
     "text": [
      "52/52 [==============================] - 0s 365us/step - loss: 2.2954 - accuracy: 0.1310\n",
      "Epoch 78/500\n",
      "52/52 [==============================] - 0s 404us/step - loss: 2.2952 - accuracy: 0.1310\n",
      "Epoch 79/500\n",
      "52/52 [==============================] - 0s 404us/step - loss: 2.2953 - accuracy: 0.1292\n",
      "Epoch 80/500\n",
      "52/52 [==============================] - 0s 385us/step - loss: 2.2951 - accuracy: 0.1340\n",
      "Epoch 81/500\n",
      "52/52 [==============================] - 0s 404us/step - loss: 2.2950 - accuracy: 0.1261\n",
      "Epoch 82/500\n",
      "52/52 [==============================] - 0s 385us/step - loss: 2.2948 - accuracy: 0.1255\n",
      "Epoch 83/500\n",
      "52/52 [==============================] - 0s 385us/step - loss: 2.2948 - accuracy: 0.1273\n",
      "Epoch 84/500\n",
      "52/52 [==============================] - 0s 385us/step - loss: 2.2946 - accuracy: 0.1267\n",
      "Epoch 85/500\n",
      "52/52 [==============================] - 0s 385us/step - loss: 2.2946 - accuracy: 0.1255\n",
      "Epoch 86/500\n",
      "52/52 [==============================] - 0s 385us/step - loss: 2.2945 - accuracy: 0.1352\n",
      "Epoch 87/500\n",
      "52/52 [==============================] - 0s 365us/step - loss: 2.2943 - accuracy: 0.1407\n",
      "Epoch 88/500\n",
      "52/52 [==============================] - 0s 385us/step - loss: 2.2942 - accuracy: 0.1261\n",
      "Epoch 89/500\n",
      "52/52 [==============================] - 0s 385us/step - loss: 2.2942 - accuracy: 0.1298\n",
      "Epoch 90/500\n",
      "52/52 [==============================] - 0s 385us/step - loss: 2.2941 - accuracy: 0.1249\n",
      "Epoch 91/500\n",
      "52/52 [==============================] - 0s 385us/step - loss: 2.2940 - accuracy: 0.1286\n",
      "Epoch 92/500\n",
      "52/52 [==============================] - 0s 365us/step - loss: 2.2938 - accuracy: 0.1310\n",
      "Epoch 93/500\n",
      "52/52 [==============================] - 0s 385us/step - loss: 2.2936 - accuracy: 0.1352\n",
      "Epoch 94/500\n",
      "52/52 [==============================] - 0s 385us/step - loss: 2.2934 - accuracy: 0.1371\n",
      "Epoch 95/500\n",
      "52/52 [==============================] - 0s 385us/step - loss: 2.2935 - accuracy: 0.1346\n",
      "Epoch 96/500\n",
      "52/52 [==============================] - 0s 385us/step - loss: 2.2934 - accuracy: 0.1431\n",
      "Epoch 97/500\n",
      "52/52 [==============================] - 0s 365us/step - loss: 2.2933 - accuracy: 0.1377\n",
      "Epoch 98/500\n",
      "52/52 [==============================] - 0s 385us/step - loss: 2.2933 - accuracy: 0.1237\n",
      "Epoch 99/500\n",
      "52/52 [==============================] - 0s 385us/step - loss: 2.2930 - accuracy: 0.1280\n",
      "Epoch 100/500\n",
      "52/52 [==============================] - 0s 385us/step - loss: 2.2929 - accuracy: 0.1298\n",
      "Epoch 101/500\n",
      "52/52 [==============================] - 0s 404us/step - loss: 2.2928 - accuracy: 0.1316\n",
      "Epoch 102/500\n",
      "52/52 [==============================] - 0s 558us/step - loss: 2.2928 - accuracy: 0.1304\n",
      "Epoch 103/500\n",
      "52/52 [==============================] - 0s 462us/step - loss: 2.2927 - accuracy: 0.1292\n",
      "Epoch 104/500\n",
      "52/52 [==============================] - 0s 385us/step - loss: 2.2925 - accuracy: 0.1280\n",
      "Epoch 105/500\n",
      "52/52 [==============================] - 0s 404us/step - loss: 2.2923 - accuracy: 0.1255\n",
      "Epoch 106/500\n",
      "52/52 [==============================] - 0s 365us/step - loss: 2.2923 - accuracy: 0.1304\n",
      "Epoch 107/500\n",
      "52/52 [==============================] - 0s 385us/step - loss: 2.2922 - accuracy: 0.1364\n",
      "Epoch 108/500\n",
      "52/52 [==============================] - 0s 385us/step - loss: 2.2921 - accuracy: 0.1304\n",
      "Epoch 109/500\n",
      "52/52 [==============================] - 0s 385us/step - loss: 2.2918 - accuracy: 0.1298\n",
      "Epoch 110/500\n",
      "52/52 [==============================] - 0s 385us/step - loss: 2.2919 - accuracy: 0.1316\n",
      "Epoch 111/500\n",
      "52/52 [==============================] - 0s 385us/step - loss: 2.2917 - accuracy: 0.1340\n",
      "Epoch 112/500\n",
      "52/52 [==============================] - 0s 385us/step - loss: 2.2915 - accuracy: 0.1219\n",
      "Epoch 113/500\n",
      "52/52 [==============================] - 0s 365us/step - loss: 2.2913 - accuracy: 0.1273\n",
      "Epoch 114/500\n",
      "52/52 [==============================] - 0s 365us/step - loss: 2.2913 - accuracy: 0.1352\n",
      "Epoch 115/500\n",
      "52/52 [==============================] - 0s 385us/step - loss: 2.2914 - accuracy: 0.1340\n",
      "Epoch 116/500\n",
      "52/52 [==============================] - 0s 385us/step - loss: 2.2912 - accuracy: 0.1280\n",
      "Epoch 117/500\n",
      "52/52 [==============================] - 0s 385us/step - loss: 2.2911 - accuracy: 0.1267\n",
      "Epoch 118/500\n",
      "52/52 [==============================] - 0s 365us/step - loss: 2.2908 - accuracy: 0.1334\n",
      "Epoch 119/500\n",
      "52/52 [==============================] - 0s 404us/step - loss: 2.2907 - accuracy: 0.1322\n",
      "Epoch 120/500\n",
      "52/52 [==============================] - 0s 385us/step - loss: 2.2907 - accuracy: 0.1340\n",
      "Epoch 121/500\n",
      "52/52 [==============================] - 0s 365us/step - loss: 2.2905 - accuracy: 0.1310\n",
      "Epoch 122/500\n",
      "52/52 [==============================] - 0s 385us/step - loss: 2.2904 - accuracy: 0.1334\n",
      "Epoch 123/500\n",
      "52/52 [==============================] - 0s 385us/step - loss: 2.2904 - accuracy: 0.1389\n",
      "Epoch 124/500\n",
      "52/52 [==============================] - 0s 365us/step - loss: 2.2901 - accuracy: 0.1340\n",
      "Epoch 125/500\n",
      "52/52 [==============================] - 0s 365us/step - loss: 2.2899 - accuracy: 0.1352\n",
      "Epoch 126/500\n",
      "52/52 [==============================] - 0s 385us/step - loss: 2.2900 - accuracy: 0.1298\n",
      "Epoch 127/500\n",
      "52/52 [==============================] - 0s 385us/step - loss: 2.2899 - accuracy: 0.1334\n",
      "Epoch 128/500\n",
      "52/52 [==============================] - 0s 385us/step - loss: 2.2897 - accuracy: 0.1237\n",
      "Epoch 129/500\n",
      "52/52 [==============================] - 0s 404us/step - loss: 2.2898 - accuracy: 0.1316\n",
      "Epoch 130/500\n",
      "52/52 [==============================] - 0s 442us/step - loss: 2.2894 - accuracy: 0.1267\n",
      "Epoch 131/500\n",
      "52/52 [==============================] - 0s 385us/step - loss: 2.2894 - accuracy: 0.1310\n",
      "Epoch 132/500\n",
      "52/52 [==============================] - 0s 385us/step - loss: 2.2892 - accuracy: 0.1280\n",
      "Epoch 133/500\n",
      "52/52 [==============================] - 0s 385us/step - loss: 2.2890 - accuracy: 0.1310\n",
      "Epoch 134/500\n",
      "52/52 [==============================] - 0s 385us/step - loss: 2.2887 - accuracy: 0.1395\n",
      "Epoch 135/500\n",
      "52/52 [==============================] - 0s 385us/step - loss: 2.2887 - accuracy: 0.1267\n",
      "Epoch 136/500\n",
      "52/52 [==============================] - 0s 365us/step - loss: 2.2888 - accuracy: 0.1425\n",
      "Epoch 137/500\n",
      "52/52 [==============================] - 0s 385us/step - loss: 2.2884 - accuracy: 0.1304\n",
      "Epoch 138/500\n",
      "52/52 [==============================] - 0s 404us/step - loss: 2.2882 - accuracy: 0.1316\n",
      "Epoch 139/500\n",
      "52/52 [==============================] - 0s 365us/step - loss: 2.2883 - accuracy: 0.1267\n",
      "Epoch 140/500\n",
      "52/52 [==============================] - 0s 385us/step - loss: 2.2879 - accuracy: 0.1346\n",
      "Epoch 141/500\n",
      "52/52 [==============================] - 0s 385us/step - loss: 2.2878 - accuracy: 0.1316\n",
      "Epoch 142/500\n",
      "52/52 [==============================] - 0s 385us/step - loss: 2.2879 - accuracy: 0.1334\n",
      "Epoch 143/500\n",
      "52/52 [==============================] - 0s 385us/step - loss: 2.2876 - accuracy: 0.1395\n",
      "Epoch 144/500\n",
      "52/52 [==============================] - 0s 385us/step - loss: 2.2878 - accuracy: 0.1255\n",
      "Epoch 145/500\n",
      "52/52 [==============================] - 0s 365us/step - loss: 2.2873 - accuracy: 0.1334\n",
      "Epoch 146/500\n",
      "52/52 [==============================] - 0s 365us/step - loss: 2.2874 - accuracy: 0.1280\n",
      "Epoch 147/500\n",
      "52/52 [==============================] - 0s 385us/step - loss: 2.2871 - accuracy: 0.1310\n",
      "Epoch 148/500\n",
      "52/52 [==============================] - 0s 385us/step - loss: 2.2870 - accuracy: 0.1255\n",
      "Epoch 149/500\n",
      "52/52 [==============================] - 0s 404us/step - loss: 2.2868 - accuracy: 0.1364\n",
      "Epoch 150/500\n",
      "52/52 [==============================] - 0s 442us/step - loss: 2.2866 - accuracy: 0.1286\n",
      "Epoch 151/500\n",
      "52/52 [==============================] - 0s 423us/step - loss: 2.2866 - accuracy: 0.1304\n",
      "Epoch 152/500\n",
      "52/52 [==============================] - 0s 423us/step - loss: 2.2863 - accuracy: 0.1286\n",
      "Epoch 153/500\n",
      "52/52 [==============================] - 0s 423us/step - loss: 2.2862 - accuracy: 0.1316\n",
      "Epoch 154/500\n",
      "52/52 [==============================] - 0s 423us/step - loss: 2.2861 - accuracy: 0.1316\n",
      "Epoch 155/500\n",
      "52/52 [==============================] - 0s 442us/step - loss: 2.2859 - accuracy: 0.1255\n",
      "Epoch 156/500\n"
     ]
    },
    {
     "name": "stdout",
     "output_type": "stream",
     "text": [
      "52/52 [==============================] - 0s 385us/step - loss: 2.2860 - accuracy: 0.1267\n",
      "Epoch 157/500\n",
      "52/52 [==============================] - 0s 385us/step - loss: 2.2857 - accuracy: 0.1340\n",
      "Epoch 158/500\n",
      "52/52 [==============================] - 0s 385us/step - loss: 2.2856 - accuracy: 0.1322\n",
      "Epoch 159/500\n",
      "52/52 [==============================] - 0s 385us/step - loss: 2.2859 - accuracy: 0.1286\n",
      "Epoch 160/500\n",
      "52/52 [==============================] - 0s 385us/step - loss: 2.2854 - accuracy: 0.1304\n",
      "Epoch 161/500\n",
      "52/52 [==============================] - 0s 385us/step - loss: 2.2851 - accuracy: 0.1286\n",
      "Epoch 162/500\n",
      "52/52 [==============================] - 0s 404us/step - loss: 2.2852 - accuracy: 0.1383\n",
      "Epoch 163/500\n",
      "52/52 [==============================] - 0s 385us/step - loss: 2.2850 - accuracy: 0.1286\n",
      "Epoch 164/500\n",
      "52/52 [==============================] - 0s 385us/step - loss: 2.2847 - accuracy: 0.1280\n",
      "Epoch 165/500\n",
      "52/52 [==============================] - 0s 385us/step - loss: 2.2848 - accuracy: 0.1310\n",
      "Epoch 166/500\n",
      "52/52 [==============================] - 0s 404us/step - loss: 2.2847 - accuracy: 0.1280\n",
      "Epoch 167/500\n",
      "52/52 [==============================] - 0s 385us/step - loss: 2.2843 - accuracy: 0.1346\n",
      "Epoch 168/500\n",
      "52/52 [==============================] - 0s 365us/step - loss: 2.2844 - accuracy: 0.1352\n",
      "Epoch 169/500\n",
      "52/52 [==============================] - 0s 385us/step - loss: 2.2843 - accuracy: 0.1334\n",
      "Epoch 170/500\n",
      "52/52 [==============================] - 0s 385us/step - loss: 2.2840 - accuracy: 0.1413\n",
      "Epoch 171/500\n",
      "52/52 [==============================] - 0s 385us/step - loss: 2.2838 - accuracy: 0.1280\n",
      "Epoch 172/500\n",
      "52/52 [==============================] - 0s 385us/step - loss: 2.2841 - accuracy: 0.1286\n",
      "Epoch 173/500\n",
      "52/52 [==============================] - 0s 385us/step - loss: 2.2838 - accuracy: 0.1322\n",
      "Epoch 174/500\n",
      "52/52 [==============================] - 0s 365us/step - loss: 2.2836 - accuracy: 0.1316\n",
      "Epoch 175/500\n",
      "52/52 [==============================] - 0s 385us/step - loss: 2.2836 - accuracy: 0.1352\n",
      "Epoch 176/500\n",
      "52/52 [==============================] - 0s 385us/step - loss: 2.2833 - accuracy: 0.1328\n",
      "Epoch 177/500\n",
      "52/52 [==============================] - 0s 404us/step - loss: 2.2834 - accuracy: 0.1322\n",
      "Epoch 178/500\n",
      "52/52 [==============================] - 0s 385us/step - loss: 2.2831 - accuracy: 0.1310\n",
      "Epoch 179/500\n",
      "52/52 [==============================] - 0s 365us/step - loss: 2.2830 - accuracy: 0.1352\n",
      "Epoch 180/500\n",
      "52/52 [==============================] - 0s 365us/step - loss: 2.2828 - accuracy: 0.1358\n",
      "Epoch 181/500\n",
      "52/52 [==============================] - 0s 404us/step - loss: 2.2827 - accuracy: 0.1292\n",
      "Epoch 182/500\n",
      "52/52 [==============================] - 0s 365us/step - loss: 2.2824 - accuracy: 0.1377\n",
      "Epoch 183/500\n",
      "52/52 [==============================] - 0s 385us/step - loss: 2.2828 - accuracy: 0.1231\n",
      "Epoch 184/500\n",
      "52/52 [==============================] - 0s 385us/step - loss: 2.2823 - accuracy: 0.1273\n",
      "Epoch 185/500\n",
      "52/52 [==============================] - 0s 385us/step - loss: 2.2824 - accuracy: 0.1316\n",
      "Epoch 186/500\n",
      "52/52 [==============================] - 0s 385us/step - loss: 2.2819 - accuracy: 0.1364\n",
      "Epoch 187/500\n",
      "52/52 [==============================] - 0s 365us/step - loss: 2.2821 - accuracy: 0.1371\n",
      "Epoch 188/500\n",
      "52/52 [==============================] - 0s 404us/step - loss: 2.2819 - accuracy: 0.1310\n",
      "Epoch 189/500\n",
      "52/52 [==============================] - 0s 385us/step - loss: 2.2818 - accuracy: 0.1261\n",
      "Epoch 190/500\n",
      "52/52 [==============================] - 0s 385us/step - loss: 2.2816 - accuracy: 0.1231\n",
      "Epoch 191/500\n",
      "52/52 [==============================] - 0s 385us/step - loss: 2.2817 - accuracy: 0.1358\n",
      "Epoch 192/500\n",
      "52/52 [==============================] - 0s 365us/step - loss: 2.2811 - accuracy: 0.1255\n",
      "Epoch 193/500\n",
      "52/52 [==============================] - 0s 365us/step - loss: 2.2814 - accuracy: 0.1322\n",
      "Epoch 194/500\n",
      "52/52 [==============================] - 0s 365us/step - loss: 2.2813 - accuracy: 0.1237\n",
      "Epoch 195/500\n",
      "52/52 [==============================] - 0s 423us/step - loss: 2.2809 - accuracy: 0.1371\n",
      "Epoch 196/500\n",
      "52/52 [==============================] - 0s 404us/step - loss: 2.2808 - accuracy: 0.1334\n",
      "Epoch 197/500\n",
      "52/52 [==============================] - 0s 385us/step - loss: 2.2807 - accuracy: 0.1298\n",
      "Epoch 198/500\n",
      "52/52 [==============================] - 0s 385us/step - loss: 2.2809 - accuracy: 0.1340\n",
      "Epoch 199/500\n",
      "52/52 [==============================] - 0s 385us/step - loss: 2.2805 - accuracy: 0.1273\n",
      "Epoch 200/500\n",
      "52/52 [==============================] - 0s 385us/step - loss: 2.2805 - accuracy: 0.1310\n",
      "Epoch 201/500\n",
      "52/52 [==============================] - 0s 385us/step - loss: 2.2803 - accuracy: 0.1255\n",
      "Epoch 202/500\n",
      "52/52 [==============================] - 0s 385us/step - loss: 2.2805 - accuracy: 0.1292\n",
      "Epoch 203/500\n",
      "52/52 [==============================] - 0s 385us/step - loss: 2.2797 - accuracy: 0.1358\n",
      "Epoch 204/500\n",
      "52/52 [==============================] - 0s 404us/step - loss: 2.2798 - accuracy: 0.1334\n",
      "Epoch 205/500\n",
      "52/52 [==============================] - 0s 385us/step - loss: 2.2795 - accuracy: 0.1298\n",
      "Epoch 206/500\n",
      "52/52 [==============================] - 0s 365us/step - loss: 2.2799 - accuracy: 0.1322\n",
      "Epoch 207/500\n",
      "52/52 [==============================] - 0s 404us/step - loss: 2.2795 - accuracy: 0.1310\n",
      "Epoch 208/500\n",
      "52/52 [==============================] - 0s 404us/step - loss: 2.2795 - accuracy: 0.1310\n",
      "Epoch 209/500\n",
      "52/52 [==============================] - 0s 404us/step - loss: 2.2796 - accuracy: 0.1261\n",
      "Epoch 210/500\n",
      "52/52 [==============================] - 0s 385us/step - loss: 2.2791 - accuracy: 0.1267\n",
      "Epoch 211/500\n",
      "52/52 [==============================] - 0s 385us/step - loss: 2.2796 - accuracy: 0.1298\n",
      "Epoch 212/500\n",
      "52/52 [==============================] - 0s 385us/step - loss: 2.2791 - accuracy: 0.1298\n",
      "Epoch 213/500\n",
      "52/52 [==============================] - 0s 385us/step - loss: 2.2790 - accuracy: 0.1243\n",
      "Epoch 214/500\n",
      "52/52 [==============================] - 0s 385us/step - loss: 2.2789 - accuracy: 0.1401\n",
      "Epoch 215/500\n",
      "52/52 [==============================] - 0s 365us/step - loss: 2.2787 - accuracy: 0.1340\n",
      "Epoch 216/500\n",
      "52/52 [==============================] - 0s 365us/step - loss: 2.2787 - accuracy: 0.1346\n",
      "Epoch 217/500\n",
      "52/52 [==============================] - 0s 385us/step - loss: 2.2789 - accuracy: 0.1340\n",
      "Epoch 218/500\n",
      "52/52 [==============================] - 0s 385us/step - loss: 2.2786 - accuracy: 0.1328\n",
      "Epoch 219/500\n",
      "52/52 [==============================] - 0s 404us/step - loss: 2.2782 - accuracy: 0.1364\n",
      "Epoch 220/500\n",
      "52/52 [==============================] - 0s 404us/step - loss: 2.2780 - accuracy: 0.1334\n",
      "Epoch 221/500\n",
      "52/52 [==============================] - 0s 385us/step - loss: 2.2783 - accuracy: 0.1286\n",
      "Epoch 222/500\n",
      "52/52 [==============================] - 0s 385us/step - loss: 2.2781 - accuracy: 0.1304\n",
      "Epoch 223/500\n",
      "52/52 [==============================] - 0s 385us/step - loss: 2.2775 - accuracy: 0.1322\n",
      "Epoch 224/500\n",
      "52/52 [==============================] - 0s 404us/step - loss: 2.2776 - accuracy: 0.1358\n",
      "Epoch 225/500\n",
      "52/52 [==============================] - 0s 404us/step - loss: 2.2780 - accuracy: 0.1371\n",
      "Epoch 226/500\n",
      "52/52 [==============================] - 0s 423us/step - loss: 2.2777 - accuracy: 0.1389\n",
      "Epoch 227/500\n",
      "52/52 [==============================] - 0s 365us/step - loss: 2.2777 - accuracy: 0.1340\n",
      "Epoch 228/500\n",
      "52/52 [==============================] - 0s 365us/step - loss: 2.2770 - accuracy: 0.1280\n",
      "Epoch 229/500\n",
      "52/52 [==============================] - 0s 385us/step - loss: 2.2773 - accuracy: 0.1340\n",
      "Epoch 230/500\n",
      "52/52 [==============================] - 0s 365us/step - loss: 2.2774 - accuracy: 0.1292\n",
      "Epoch 231/500\n",
      "52/52 [==============================] - 0s 385us/step - loss: 2.2771 - accuracy: 0.1298\n",
      "Epoch 232/500\n",
      "52/52 [==============================] - 0s 404us/step - loss: 2.2774 - accuracy: 0.1377\n",
      "Epoch 233/500\n",
      "52/52 [==============================] - 0s 385us/step - loss: 2.2773 - accuracy: 0.1358\n",
      "Epoch 234/500\n",
      "52/52 [==============================] - 0s 385us/step - loss: 2.2770 - accuracy: 0.1322\n",
      "Epoch 235/500\n"
     ]
    },
    {
     "name": "stdout",
     "output_type": "stream",
     "text": [
      "52/52 [==============================] - 0s 385us/step - loss: 2.2773 - accuracy: 0.1316\n",
      "Epoch 236/500\n",
      "52/52 [==============================] - 0s 385us/step - loss: 2.2768 - accuracy: 0.1267\n",
      "Epoch 237/500\n",
      "52/52 [==============================] - 0s 385us/step - loss: 2.2770 - accuracy: 0.1431\n",
      "Epoch 238/500\n",
      "52/52 [==============================] - 0s 385us/step - loss: 2.2763 - accuracy: 0.1395\n",
      "Epoch 239/500\n",
      "52/52 [==============================] - 0s 385us/step - loss: 2.2764 - accuracy: 0.1407\n",
      "Epoch 240/500\n",
      "52/52 [==============================] - 0s 385us/step - loss: 2.2765 - accuracy: 0.1401\n",
      "Epoch 241/500\n",
      "52/52 [==============================] - 0s 365us/step - loss: 2.2761 - accuracy: 0.1340\n",
      "Epoch 242/500\n",
      "52/52 [==============================] - 0s 385us/step - loss: 2.2765 - accuracy: 0.1286\n",
      "Epoch 243/500\n",
      "52/52 [==============================] - 0s 385us/step - loss: 2.2763 - accuracy: 0.1322\n",
      "Epoch 244/500\n",
      "52/52 [==============================] - 0s 385us/step - loss: 2.2763 - accuracy: 0.1328\n",
      "Epoch 245/500\n",
      "52/52 [==============================] - 0s 385us/step - loss: 2.2762 - accuracy: 0.1389\n",
      "Epoch 246/500\n",
      "52/52 [==============================] - 0s 385us/step - loss: 2.2760 - accuracy: 0.1328\n",
      "Epoch 247/500\n",
      "52/52 [==============================] - 0s 385us/step - loss: 2.2752 - accuracy: 0.1413\n",
      "Epoch 248/500\n",
      "52/52 [==============================] - 0s 365us/step - loss: 2.2758 - accuracy: 0.1334\n",
      "Epoch 249/500\n",
      "52/52 [==============================] - 0s 385us/step - loss: 2.2764 - accuracy: 0.1298\n",
      "Epoch 250/500\n",
      "52/52 [==============================] - 0s 385us/step - loss: 2.2760 - accuracy: 0.1334\n",
      "Epoch 251/500\n",
      "52/52 [==============================] - 0s 385us/step - loss: 2.2755 - accuracy: 0.1443\n",
      "Epoch 252/500\n",
      "52/52 [==============================] - 0s 385us/step - loss: 2.2760 - accuracy: 0.1310\n",
      "Epoch 253/500\n",
      "52/52 [==============================] - 0s 365us/step - loss: 2.2758 - accuracy: 0.1358\n",
      "Epoch 254/500\n",
      "52/52 [==============================] - 0s 385us/step - loss: 2.2757 - accuracy: 0.1383\n",
      "Epoch 255/500\n",
      "52/52 [==============================] - 0s 365us/step - loss: 2.2753 - accuracy: 0.1395\n",
      "Epoch 256/500\n",
      "52/52 [==============================] - 0s 385us/step - loss: 2.2752 - accuracy: 0.1383\n",
      "Epoch 257/500\n",
      "52/52 [==============================] - 0s 385us/step - loss: 2.2757 - accuracy: 0.1401\n",
      "Epoch 258/500\n",
      "52/52 [==============================] - 0s 385us/step - loss: 2.2750 - accuracy: 0.1322\n",
      "Epoch 259/500\n",
      "52/52 [==============================] - 0s 385us/step - loss: 2.2752 - accuracy: 0.1340\n",
      "Epoch 260/500\n",
      "52/52 [==============================] - 0s 385us/step - loss: 2.2747 - accuracy: 0.1389\n",
      "Epoch 261/500\n",
      "52/52 [==============================] - 0s 385us/step - loss: 2.2752 - accuracy: 0.1316\n",
      "Epoch 262/500\n",
      "52/52 [==============================] - 0s 365us/step - loss: 2.2746 - accuracy: 0.1419\n",
      "Epoch 263/500\n",
      "52/52 [==============================] - 0s 365us/step - loss: 2.2752 - accuracy: 0.1316\n",
      "Epoch 264/500\n",
      "52/52 [==============================] - 0s 385us/step - loss: 2.2748 - accuracy: 0.1383\n",
      "Epoch 265/500\n",
      "52/52 [==============================] - 0s 365us/step - loss: 2.2752 - accuracy: 0.1407\n",
      "Epoch 266/500\n",
      "52/52 [==============================] - 0s 365us/step - loss: 2.2746 - accuracy: 0.1358\n",
      "Epoch 267/500\n",
      "52/52 [==============================] - 0s 365us/step - loss: 2.2743 - accuracy: 0.1389\n",
      "Epoch 268/500\n",
      "52/52 [==============================] - 0s 385us/step - loss: 2.2745 - accuracy: 0.1401\n",
      "Epoch 269/500\n",
      "52/52 [==============================] - 0s 365us/step - loss: 2.2745 - accuracy: 0.1377\n",
      "Epoch 270/500\n",
      "52/52 [==============================] - 0s 365us/step - loss: 2.2744 - accuracy: 0.1334\n",
      "Epoch 271/500\n",
      "52/52 [==============================] - 0s 385us/step - loss: 2.2738 - accuracy: 0.1401\n",
      "Epoch 272/500\n",
      "52/52 [==============================] - 0s 385us/step - loss: 2.2737 - accuracy: 0.1407\n",
      "Epoch 273/500\n",
      "52/52 [==============================] - 0s 365us/step - loss: 2.2748 - accuracy: 0.1292\n",
      "Epoch 274/500\n",
      "52/52 [==============================] - 0s 385us/step - loss: 2.2740 - accuracy: 0.1383\n",
      "Epoch 275/500\n",
      "52/52 [==============================] - 0s 404us/step - loss: 2.2739 - accuracy: 0.1328\n",
      "Epoch 276/500\n",
      "52/52 [==============================] - 0s 404us/step - loss: 2.2741 - accuracy: 0.1340\n",
      "Epoch 277/500\n",
      "52/52 [==============================] - 0s 385us/step - loss: 2.2736 - accuracy: 0.1364\n",
      "Epoch 278/500\n",
      "52/52 [==============================] - 0s 385us/step - loss: 2.2738 - accuracy: 0.1401\n",
      "Epoch 279/500\n",
      "52/52 [==============================] - 0s 385us/step - loss: 2.2740 - accuracy: 0.1340\n",
      "Epoch 280/500\n",
      "52/52 [==============================] - 0s 385us/step - loss: 2.2734 - accuracy: 0.1352\n",
      "Epoch 281/500\n",
      "52/52 [==============================] - 0s 385us/step - loss: 2.2735 - accuracy: 0.1401\n",
      "Epoch 282/500\n",
      "52/52 [==============================] - 0s 385us/step - loss: 2.2736 - accuracy: 0.1371\n",
      "Epoch 283/500\n",
      "52/52 [==============================] - 0s 365us/step - loss: 2.2737 - accuracy: 0.1316\n",
      "Epoch 284/500\n",
      "52/52 [==============================] - 0s 385us/step - loss: 2.2729 - accuracy: 0.1419\n",
      "Epoch 285/500\n",
      "52/52 [==============================] - 0s 385us/step - loss: 2.2730 - accuracy: 0.1310\n",
      "Epoch 286/500\n",
      "52/52 [==============================] - 0s 365us/step - loss: 2.2726 - accuracy: 0.1407\n",
      "Epoch 287/500\n",
      "52/52 [==============================] - 0s 365us/step - loss: 2.2734 - accuracy: 0.1407\n",
      "Epoch 288/500\n",
      "52/52 [==============================] - 0s 365us/step - loss: 2.2733 - accuracy: 0.1377\n",
      "Epoch 289/500\n",
      "52/52 [==============================] - 0s 404us/step - loss: 2.2733 - accuracy: 0.1383\n",
      "Epoch 290/500\n",
      "52/52 [==============================] - 0s 385us/step - loss: 2.2730 - accuracy: 0.1340\n",
      "Epoch 291/500\n",
      "52/52 [==============================] - 0s 385us/step - loss: 2.2730 - accuracy: 0.1449\n",
      "Epoch 292/500\n",
      "52/52 [==============================] - 0s 385us/step - loss: 2.2729 - accuracy: 0.1304\n",
      "Epoch 293/500\n",
      "52/52 [==============================] - 0s 385us/step - loss: 2.2731 - accuracy: 0.1310\n",
      "Epoch 294/500\n",
      "52/52 [==============================] - 0s 442us/step - loss: 2.2730 - accuracy: 0.1352\n",
      "Epoch 295/500\n",
      "52/52 [==============================] - 0s 404us/step - loss: 2.2727 - accuracy: 0.1304\n",
      "Epoch 296/500\n",
      "52/52 [==============================] - 0s 404us/step - loss: 2.2726 - accuracy: 0.1286\n",
      "Epoch 297/500\n",
      "52/52 [==============================] - 0s 404us/step - loss: 2.2721 - accuracy: 0.1443\n",
      "Epoch 298/500\n",
      "52/52 [==============================] - 0s 404us/step - loss: 2.2724 - accuracy: 0.1468\n",
      "Epoch 299/500\n",
      "52/52 [==============================] - 0s 385us/step - loss: 2.2725 - accuracy: 0.1383\n",
      "Epoch 300/500\n",
      "52/52 [==============================] - 0s 423us/step - loss: 2.2721 - accuracy: 0.1377\n",
      "Epoch 301/500\n",
      "52/52 [==============================] - 0s 404us/step - loss: 2.2724 - accuracy: 0.1395\n",
      "Epoch 302/500\n",
      "52/52 [==============================] - 0s 404us/step - loss: 2.2723 - accuracy: 0.1346\n",
      "Epoch 303/500\n",
      "52/52 [==============================] - 0s 423us/step - loss: 2.2720 - accuracy: 0.1371\n",
      "Epoch 304/500\n",
      "52/52 [==============================] - 0s 404us/step - loss: 2.2716 - accuracy: 0.1395\n",
      "Epoch 305/500\n",
      "52/52 [==============================] - 0s 404us/step - loss: 2.2724 - accuracy: 0.1322\n",
      "Epoch 306/500\n",
      "52/52 [==============================] - 0s 385us/step - loss: 2.2722 - accuracy: 0.1395\n",
      "Epoch 307/500\n",
      "52/52 [==============================] - 0s 404us/step - loss: 2.2722 - accuracy: 0.1340\n",
      "Epoch 308/500\n",
      "52/52 [==============================] - 0s 404us/step - loss: 2.2719 - accuracy: 0.1425\n",
      "Epoch 309/500\n",
      "52/52 [==============================] - 0s 404us/step - loss: 2.2720 - accuracy: 0.1407\n",
      "Epoch 310/500\n",
      "52/52 [==============================] - 0s 404us/step - loss: 2.2723 - accuracy: 0.1437\n",
      "Epoch 311/500\n",
      "52/52 [==============================] - 0s 404us/step - loss: 2.2719 - accuracy: 0.1401\n",
      "Epoch 312/500\n",
      "52/52 [==============================] - 0s 404us/step - loss: 2.2721 - accuracy: 0.1358\n",
      "Epoch 313/500\n",
      "52/52 [==============================] - 0s 404us/step - loss: 2.2717 - accuracy: 0.1401\n",
      "Epoch 314/500\n"
     ]
    },
    {
     "name": "stdout",
     "output_type": "stream",
     "text": [
      "52/52 [==============================] - 0s 385us/step - loss: 2.2716 - accuracy: 0.1346\n",
      "Epoch 315/500\n",
      "52/52 [==============================] - 0s 404us/step - loss: 2.2712 - accuracy: 0.1425\n",
      "Epoch 316/500\n",
      "52/52 [==============================] - 0s 385us/step - loss: 2.2720 - accuracy: 0.1401\n",
      "Epoch 317/500\n",
      "52/52 [==============================] - 0s 404us/step - loss: 2.2720 - accuracy: 0.1352\n",
      "Epoch 318/500\n",
      "52/52 [==============================] - 0s 423us/step - loss: 2.2716 - accuracy: 0.1340\n",
      "Epoch 319/500\n",
      "52/52 [==============================] - 0s 385us/step - loss: 2.2712 - accuracy: 0.1431\n",
      "Epoch 320/500\n",
      "52/52 [==============================] - 0s 385us/step - loss: 2.2715 - accuracy: 0.1389\n",
      "Epoch 321/500\n",
      "52/52 [==============================] - 0s 404us/step - loss: 2.2712 - accuracy: 0.1407\n",
      "Epoch 322/500\n",
      "52/52 [==============================] - 0s 385us/step - loss: 2.2719 - accuracy: 0.1340\n",
      "Epoch 323/500\n",
      "52/52 [==============================] - 0s 385us/step - loss: 2.2709 - accuracy: 0.1407\n",
      "Epoch 324/500\n",
      "52/52 [==============================] - 0s 385us/step - loss: 2.2716 - accuracy: 0.1383\n",
      "Epoch 325/500\n",
      "52/52 [==============================] - 0s 385us/step - loss: 2.2714 - accuracy: 0.1431\n",
      "Epoch 326/500\n",
      "52/52 [==============================] - 0s 365us/step - loss: 2.2715 - accuracy: 0.1389\n",
      "Epoch 327/500\n",
      "52/52 [==============================] - 0s 385us/step - loss: 2.2711 - accuracy: 0.1407\n",
      "Epoch 328/500\n",
      "52/52 [==============================] - 0s 365us/step - loss: 2.2708 - accuracy: 0.1364\n",
      "Epoch 329/500\n",
      "52/52 [==============================] - 0s 365us/step - loss: 2.2710 - accuracy: 0.1407\n",
      "Epoch 330/500\n",
      "52/52 [==============================] - 0s 365us/step - loss: 2.2712 - accuracy: 0.1437\n",
      "Epoch 331/500\n",
      "52/52 [==============================] - 0s 385us/step - loss: 2.2708 - accuracy: 0.1395\n",
      "Epoch 332/500\n",
      "52/52 [==============================] - 0s 385us/step - loss: 2.2708 - accuracy: 0.1455\n",
      "Epoch 333/500\n",
      "52/52 [==============================] - 0s 385us/step - loss: 2.2711 - accuracy: 0.1395\n",
      "Epoch 334/500\n",
      "52/52 [==============================] - 0s 385us/step - loss: 2.2704 - accuracy: 0.1364\n",
      "Epoch 335/500\n",
      "52/52 [==============================] - 0s 385us/step - loss: 2.2703 - accuracy: 0.1480\n",
      "Epoch 336/500\n",
      "52/52 [==============================] - 0s 385us/step - loss: 2.2706 - accuracy: 0.1364\n",
      "Epoch 337/500\n",
      "52/52 [==============================] - 0s 385us/step - loss: 2.2700 - accuracy: 0.1395\n",
      "Epoch 338/500\n",
      "52/52 [==============================] - 0s 385us/step - loss: 2.2708 - accuracy: 0.1419\n",
      "Epoch 339/500\n",
      "52/52 [==============================] - 0s 385us/step - loss: 2.2701 - accuracy: 0.1425\n",
      "Epoch 340/500\n",
      "52/52 [==============================] - 0s 385us/step - loss: 2.2707 - accuracy: 0.1419\n",
      "Epoch 341/500\n",
      "52/52 [==============================] - 0s 365us/step - loss: 2.2702 - accuracy: 0.1449\n",
      "Epoch 342/500\n",
      "52/52 [==============================] - 0s 385us/step - loss: 2.2705 - accuracy: 0.1358\n",
      "Epoch 343/500\n",
      "52/52 [==============================] - 0s 365us/step - loss: 2.2701 - accuracy: 0.1419\n",
      "Epoch 344/500\n",
      "52/52 [==============================] - 0s 365us/step - loss: 2.2699 - accuracy: 0.1425\n",
      "Epoch 345/500\n",
      "52/52 [==============================] - 0s 385us/step - loss: 2.2705 - accuracy: 0.1364\n",
      "Epoch 346/500\n",
      "52/52 [==============================] - 0s 385us/step - loss: 2.2703 - accuracy: 0.1273\n",
      "Epoch 347/500\n",
      "52/52 [==============================] - 0s 365us/step - loss: 2.2700 - accuracy: 0.1304\n",
      "Epoch 348/500\n",
      "52/52 [==============================] - 0s 385us/step - loss: 2.2698 - accuracy: 0.1407\n",
      "Epoch 349/500\n",
      "52/52 [==============================] - 0s 365us/step - loss: 2.2701 - accuracy: 0.1383\n",
      "Epoch 350/500\n",
      "52/52 [==============================] - 0s 385us/step - loss: 2.2697 - accuracy: 0.1346\n",
      "Epoch 351/500\n",
      "52/52 [==============================] - 0s 385us/step - loss: 2.2702 - accuracy: 0.1401\n",
      "Epoch 352/500\n",
      "52/52 [==============================] - 0s 404us/step - loss: 2.2695 - accuracy: 0.1352\n",
      "Epoch 353/500\n",
      "52/52 [==============================] - 0s 385us/step - loss: 2.2704 - accuracy: 0.1267\n",
      "Epoch 354/500\n",
      "52/52 [==============================] - 0s 385us/step - loss: 2.2703 - accuracy: 0.1377\n",
      "Epoch 355/500\n",
      "52/52 [==============================] - 0s 404us/step - loss: 2.2697 - accuracy: 0.1364\n",
      "Epoch 356/500\n",
      "52/52 [==============================] - 0s 365us/step - loss: 2.2696 - accuracy: 0.1431\n",
      "Epoch 357/500\n",
      "52/52 [==============================] - 0s 385us/step - loss: 2.2695 - accuracy: 0.1443\n",
      "Epoch 358/500\n",
      "52/52 [==============================] - 0s 365us/step - loss: 2.2689 - accuracy: 0.1419\n",
      "Epoch 359/500\n",
      "52/52 [==============================] - 0s 385us/step - loss: 2.2694 - accuracy: 0.1395\n",
      "Epoch 360/500\n",
      "52/52 [==============================] - 0s 385us/step - loss: 2.2695 - accuracy: 0.1455\n",
      "Epoch 361/500\n",
      "52/52 [==============================] - 0s 365us/step - loss: 2.2696 - accuracy: 0.1407\n",
      "Epoch 362/500\n",
      "52/52 [==============================] - 0s 385us/step - loss: 2.2697 - accuracy: 0.1425\n",
      "Epoch 363/500\n",
      "52/52 [==============================] - 0s 385us/step - loss: 2.2690 - accuracy: 0.1334\n",
      "Epoch 364/500\n",
      "52/52 [==============================] - 0s 365us/step - loss: 2.2687 - accuracy: 0.1419\n",
      "Epoch 365/500\n",
      "52/52 [==============================] - 0s 385us/step - loss: 2.2692 - accuracy: 0.1358\n",
      "Epoch 366/500\n",
      "52/52 [==============================] - 0s 365us/step - loss: 2.2701 - accuracy: 0.1407\n",
      "Epoch 367/500\n",
      "52/52 [==============================] - 0s 385us/step - loss: 2.2696 - accuracy: 0.1371\n",
      "Epoch 368/500\n",
      "52/52 [==============================] - 0s 385us/step - loss: 2.2692 - accuracy: 0.1431\n",
      "Epoch 369/500\n",
      "52/52 [==============================] - 0s 365us/step - loss: 2.2697 - accuracy: 0.1346\n",
      "Epoch 370/500\n",
      "52/52 [==============================] - 0s 365us/step - loss: 2.2684 - accuracy: 0.1395\n",
      "Epoch 371/500\n",
      "52/52 [==============================] - 0s 385us/step - loss: 2.2694 - accuracy: 0.1340\n",
      "Epoch 372/500\n",
      "52/52 [==============================] - 0s 385us/step - loss: 2.2686 - accuracy: 0.1425\n",
      "Epoch 373/500\n",
      "52/52 [==============================] - 0s 385us/step - loss: 2.2686 - accuracy: 0.1449\n",
      "Epoch 374/500\n",
      "52/52 [==============================] - 0s 385us/step - loss: 2.2691 - accuracy: 0.1431\n",
      "Epoch 375/500\n",
      "52/52 [==============================] - 0s 385us/step - loss: 2.2686 - accuracy: 0.1401\n",
      "Epoch 376/500\n",
      "52/52 [==============================] - 0s 385us/step - loss: 2.2687 - accuracy: 0.1346\n",
      "Epoch 377/500\n",
      "52/52 [==============================] - 0s 365us/step - loss: 2.2690 - accuracy: 0.1437\n",
      "Epoch 378/500\n",
      "52/52 [==============================] - 0s 365us/step - loss: 2.2688 - accuracy: 0.1419\n",
      "Epoch 379/500\n",
      "52/52 [==============================] - 0s 385us/step - loss: 2.2686 - accuracy: 0.1516\n",
      "Epoch 380/500\n",
      "52/52 [==============================] - 0s 385us/step - loss: 2.2689 - accuracy: 0.1443\n",
      "Epoch 381/500\n",
      "52/52 [==============================] - 0s 365us/step - loss: 2.2685 - accuracy: 0.1358\n",
      "Epoch 382/500\n",
      "52/52 [==============================] - 0s 385us/step - loss: 2.2685 - accuracy: 0.1443\n",
      "Epoch 383/500\n",
      "52/52 [==============================] - 0s 385us/step - loss: 2.2686 - accuracy: 0.1346\n",
      "Epoch 384/500\n",
      "52/52 [==============================] - 0s 365us/step - loss: 2.2693 - accuracy: 0.1431\n",
      "Epoch 385/500\n",
      "52/52 [==============================] - 0s 365us/step - loss: 2.2689 - accuracy: 0.1401\n",
      "Epoch 386/500\n",
      "52/52 [==============================] - 0s 385us/step - loss: 2.2683 - accuracy: 0.1431\n",
      "Epoch 387/500\n",
      "52/52 [==============================] - 0s 385us/step - loss: 2.2687 - accuracy: 0.1316\n",
      "Epoch 388/500\n",
      "52/52 [==============================] - 0s 385us/step - loss: 2.2680 - accuracy: 0.1364\n",
      "Epoch 389/500\n",
      "52/52 [==============================] - 0s 385us/step - loss: 2.2688 - accuracy: 0.1419\n",
      "Epoch 390/500\n",
      "52/52 [==============================] - 0s 385us/step - loss: 2.2686 - accuracy: 0.1358\n",
      "Epoch 391/500\n",
      "52/52 [==============================] - 0s 385us/step - loss: 2.2681 - accuracy: 0.1334\n",
      "Epoch 392/500\n",
      "52/52 [==============================] - 0s 385us/step - loss: 2.2677 - accuracy: 0.1340\n",
      "Epoch 393/500\n"
     ]
    },
    {
     "name": "stdout",
     "output_type": "stream",
     "text": [
      "52/52 [==============================] - 0s 385us/step - loss: 2.2680 - accuracy: 0.1480\n",
      "Epoch 394/500\n",
      "52/52 [==============================] - 0s 385us/step - loss: 2.2675 - accuracy: 0.1364\n",
      "Epoch 395/500\n",
      "52/52 [==============================] - 0s 385us/step - loss: 2.2687 - accuracy: 0.1474\n",
      "Epoch 396/500\n",
      "52/52 [==============================] - 0s 385us/step - loss: 2.2683 - accuracy: 0.1364\n",
      "Epoch 397/500\n",
      "52/52 [==============================] - 0s 365us/step - loss: 2.2672 - accuracy: 0.1468\n",
      "Epoch 398/500\n",
      "52/52 [==============================] - 0s 385us/step - loss: 2.2682 - accuracy: 0.1286\n",
      "Epoch 399/500\n",
      "52/52 [==============================] - 0s 385us/step - loss: 2.2680 - accuracy: 0.1358\n",
      "Epoch 400/500\n",
      "52/52 [==============================] - 0s 385us/step - loss: 2.2679 - accuracy: 0.1395\n",
      "Epoch 401/500\n",
      "52/52 [==============================] - 0s 385us/step - loss: 2.2678 - accuracy: 0.1437\n",
      "Epoch 402/500\n",
      "52/52 [==============================] - 0s 365us/step - loss: 2.2680 - accuracy: 0.1468\n",
      "Epoch 403/500\n",
      "52/52 [==============================] - 0s 404us/step - loss: 2.2684 - accuracy: 0.1419\n",
      "Epoch 404/500\n",
      "52/52 [==============================] - 0s 385us/step - loss: 2.2684 - accuracy: 0.1383\n",
      "Epoch 405/500\n",
      "52/52 [==============================] - 0s 365us/step - loss: 2.2677 - accuracy: 0.1516\n",
      "Epoch 406/500\n",
      "52/52 [==============================] - 0s 385us/step - loss: 2.2676 - accuracy: 0.1431\n",
      "Epoch 407/500\n",
      "52/52 [==============================] - 0s 385us/step - loss: 2.2668 - accuracy: 0.1534\n",
      "Epoch 408/500\n",
      "52/52 [==============================] - 0s 385us/step - loss: 2.2677 - accuracy: 0.1383\n",
      "Epoch 409/500\n",
      "52/52 [==============================] - 0s 385us/step - loss: 2.2668 - accuracy: 0.1383\n",
      "Epoch 410/500\n",
      "52/52 [==============================] - 0s 385us/step - loss: 2.2678 - accuracy: 0.1322\n",
      "Epoch 411/500\n",
      "52/52 [==============================] - 0s 385us/step - loss: 2.2675 - accuracy: 0.1522\n",
      "Epoch 412/500\n",
      "52/52 [==============================] - 0s 385us/step - loss: 2.2671 - accuracy: 0.1425\n",
      "Epoch 413/500\n",
      "52/52 [==============================] - 0s 385us/step - loss: 2.2675 - accuracy: 0.1389\n",
      "Epoch 414/500\n",
      "52/52 [==============================] - 0s 385us/step - loss: 2.2673 - accuracy: 0.1401\n",
      "Epoch 415/500\n",
      "52/52 [==============================] - 0s 404us/step - loss: 2.2675 - accuracy: 0.1443\n",
      "Epoch 416/500\n",
      "52/52 [==============================] - 0s 386us/step - loss: 2.2674 - accuracy: 0.1407\n",
      "Epoch 417/500\n",
      "52/52 [==============================] - 0s 404us/step - loss: 2.2675 - accuracy: 0.1425\n",
      "Epoch 418/500\n",
      "52/52 [==============================] - 0s 404us/step - loss: 2.2677 - accuracy: 0.1383\n",
      "Epoch 419/500\n",
      "52/52 [==============================] - 0s 404us/step - loss: 2.2662 - accuracy: 0.1358\n",
      "Epoch 420/500\n",
      "52/52 [==============================] - 0s 404us/step - loss: 2.2678 - accuracy: 0.1431\n",
      "Epoch 421/500\n",
      "52/52 [==============================] - 0s 385us/step - loss: 2.2659 - accuracy: 0.1419\n",
      "Epoch 422/500\n",
      "52/52 [==============================] - 0s 404us/step - loss: 2.2672 - accuracy: 0.1413\n",
      "Epoch 423/500\n",
      "52/52 [==============================] - 0s 385us/step - loss: 2.2665 - accuracy: 0.1437\n",
      "Epoch 424/500\n",
      "52/52 [==============================] - 0s 385us/step - loss: 2.2669 - accuracy: 0.1461\n",
      "Epoch 425/500\n",
      "52/52 [==============================] - 0s 385us/step - loss: 2.2671 - accuracy: 0.1474\n",
      "Epoch 426/500\n",
      "52/52 [==============================] - 0s 385us/step - loss: 2.2679 - accuracy: 0.1534\n",
      "Epoch 427/500\n",
      "52/52 [==============================] - 0s 385us/step - loss: 2.2660 - accuracy: 0.1383\n",
      "Epoch 428/500\n",
      "52/52 [==============================] - 0s 385us/step - loss: 2.2671 - accuracy: 0.1340\n",
      "Epoch 429/500\n",
      "52/52 [==============================] - 0s 385us/step - loss: 2.2659 - accuracy: 0.1413\n",
      "Epoch 430/500\n",
      "52/52 [==============================] - 0s 385us/step - loss: 2.2669 - accuracy: 0.1395\n",
      "Epoch 431/500\n",
      "52/52 [==============================] - 0s 385us/step - loss: 2.2667 - accuracy: 0.1395\n",
      "Epoch 432/500\n",
      "52/52 [==============================] - 0s 385us/step - loss: 2.2664 - accuracy: 0.1413\n",
      "Epoch 433/500\n",
      "52/52 [==============================] - 0s 385us/step - loss: 2.2669 - accuracy: 0.1401\n",
      "Epoch 434/500\n",
      "52/52 [==============================] - 0s 385us/step - loss: 2.2662 - accuracy: 0.1322\n",
      "Epoch 435/500\n",
      "52/52 [==============================] - 0s 385us/step - loss: 2.2665 - accuracy: 0.1516\n",
      "Epoch 436/500\n",
      "52/52 [==============================] - 0s 385us/step - loss: 2.2665 - accuracy: 0.1480\n",
      "Epoch 437/500\n",
      "52/52 [==============================] - 0s 385us/step - loss: 2.2663 - accuracy: 0.1449\n",
      "Epoch 438/500\n",
      "52/52 [==============================] - 0s 385us/step - loss: 2.2659 - accuracy: 0.1395\n",
      "Epoch 439/500\n",
      "52/52 [==============================] - 0s 404us/step - loss: 2.2668 - accuracy: 0.1449\n",
      "Epoch 440/500\n",
      "52/52 [==============================] - 0s 423us/step - loss: 2.2655 - accuracy: 0.1413\n",
      "Epoch 441/500\n",
      "52/52 [==============================] - 0s 365us/step - loss: 2.2665 - accuracy: 0.1431\n",
      "Epoch 442/500\n",
      "52/52 [==============================] - 0s 385us/step - loss: 2.2660 - accuracy: 0.1437\n",
      "Epoch 443/500\n",
      "52/52 [==============================] - 0s 385us/step - loss: 2.2667 - accuracy: 0.1474\n",
      "Epoch 444/500\n",
      "52/52 [==============================] - 0s 385us/step - loss: 2.2666 - accuracy: 0.1425\n",
      "Epoch 445/500\n",
      "52/52 [==============================] - 0s 365us/step - loss: 2.2661 - accuracy: 0.1425\n",
      "Epoch 446/500\n",
      "52/52 [==============================] - 0s 365us/step - loss: 2.2656 - accuracy: 0.1461\n",
      "Epoch 447/500\n",
      "52/52 [==============================] - 0s 365us/step - loss: 2.2663 - accuracy: 0.1413\n",
      "Epoch 448/500\n",
      "52/52 [==============================] - 0s 385us/step - loss: 2.2666 - accuracy: 0.1431\n",
      "Epoch 449/500\n",
      "52/52 [==============================] - 0s 365us/step - loss: 2.2656 - accuracy: 0.1419\n",
      "Epoch 450/500\n",
      "52/52 [==============================] - 0s 365us/step - loss: 2.2658 - accuracy: 0.1407\n",
      "Epoch 451/500\n",
      "52/52 [==============================] - 0s 365us/step - loss: 2.2654 - accuracy: 0.1443\n",
      "Epoch 452/500\n",
      "52/52 [==============================] - 0s 385us/step - loss: 2.2662 - accuracy: 0.1389\n",
      "Epoch 453/500\n",
      "52/52 [==============================] - 0s 385us/step - loss: 2.2657 - accuracy: 0.1340\n",
      "Epoch 454/500\n",
      "52/52 [==============================] - 0s 385us/step - loss: 2.2653 - accuracy: 0.1461\n",
      "Epoch 455/500\n",
      "52/52 [==============================] - 0s 385us/step - loss: 2.2649 - accuracy: 0.1449\n",
      "Epoch 456/500\n",
      "52/52 [==============================] - 0s 365us/step - loss: 2.2659 - accuracy: 0.1474\n",
      "Epoch 457/500\n",
      "52/52 [==============================] - 0s 385us/step - loss: 2.2656 - accuracy: 0.1443\n",
      "Epoch 458/500\n",
      "52/52 [==============================] - 0s 385us/step - loss: 2.2662 - accuracy: 0.1443\n",
      "Epoch 459/500\n",
      "52/52 [==============================] - 0s 385us/step - loss: 2.2647 - accuracy: 0.1528\n",
      "Epoch 460/500\n",
      "52/52 [==============================] - 0s 385us/step - loss: 2.2652 - accuracy: 0.1377\n",
      "Epoch 461/500\n",
      "52/52 [==============================] - 0s 365us/step - loss: 2.2653 - accuracy: 0.1431\n",
      "Epoch 462/500\n",
      "52/52 [==============================] - 0s 385us/step - loss: 2.2650 - accuracy: 0.1468\n",
      "Epoch 463/500\n",
      "52/52 [==============================] - 0s 596us/step - loss: 2.2649 - accuracy: 0.1516\n",
      "Epoch 464/500\n",
      "52/52 [==============================] - 0s 423us/step - loss: 2.2653 - accuracy: 0.1383\n",
      "Epoch 465/500\n",
      "52/52 [==============================] - 0s 385us/step - loss: 2.2646 - accuracy: 0.1492\n",
      "Epoch 466/500\n",
      "52/52 [==============================] - 0s 365us/step - loss: 2.2650 - accuracy: 0.1407\n",
      "Epoch 467/500\n",
      "52/52 [==============================] - 0s 385us/step - loss: 2.2649 - accuracy: 0.1449\n",
      "Epoch 468/500\n",
      "52/52 [==============================] - 0s 385us/step - loss: 2.2651 - accuracy: 0.1498\n",
      "Epoch 469/500\n",
      "52/52 [==============================] - 0s 404us/step - loss: 2.2651 - accuracy: 0.1425\n",
      "Epoch 470/500\n",
      "52/52 [==============================] - 0s 404us/step - loss: 2.2650 - accuracy: 0.1371\n",
      "Epoch 471/500\n",
      "52/52 [==============================] - 0s 385us/step - loss: 2.2645 - accuracy: 0.1437\n",
      "Epoch 472/500\n"
     ]
    },
    {
     "name": "stdout",
     "output_type": "stream",
     "text": [
      "52/52 [==============================] - 0s 365us/step - loss: 2.2649 - accuracy: 0.1522\n",
      "Epoch 473/500\n",
      "52/52 [==============================] - 0s 385us/step - loss: 2.2648 - accuracy: 0.1461\n",
      "Epoch 474/500\n",
      "52/52 [==============================] - 0s 385us/step - loss: 2.2645 - accuracy: 0.1534\n",
      "Epoch 475/500\n",
      "52/52 [==============================] - 0s 385us/step - loss: 2.2648 - accuracy: 0.1389\n",
      "Epoch 476/500\n",
      "52/52 [==============================] - 0s 385us/step - loss: 2.2652 - accuracy: 0.1534\n",
      "Epoch 477/500\n",
      "52/52 [==============================] - 0s 365us/step - loss: 2.2653 - accuracy: 0.1443\n",
      "Epoch 478/500\n",
      "52/52 [==============================] - 0s 385us/step - loss: 2.2651 - accuracy: 0.1474\n",
      "Epoch 479/500\n",
      "52/52 [==============================] - 0s 365us/step - loss: 2.2642 - accuracy: 0.1455\n",
      "Epoch 480/500\n",
      "52/52 [==============================] - 0s 365us/step - loss: 2.2651 - accuracy: 0.1455\n",
      "Epoch 481/500\n",
      "52/52 [==============================] - 0s 385us/step - loss: 2.2639 - accuracy: 0.1546\n",
      "Epoch 482/500\n",
      "52/52 [==============================] - 0s 385us/step - loss: 2.2642 - accuracy: 0.1389\n",
      "Epoch 483/500\n",
      "52/52 [==============================] - 0s 365us/step - loss: 2.2638 - accuracy: 0.1419\n",
      "Epoch 484/500\n",
      "52/52 [==============================] - 0s 385us/step - loss: 2.2647 - accuracy: 0.1449\n",
      "Epoch 485/500\n",
      "52/52 [==============================] - 0s 365us/step - loss: 2.2644 - accuracy: 0.1486\n",
      "Epoch 486/500\n",
      "52/52 [==============================] - 0s 385us/step - loss: 2.2646 - accuracy: 0.1413\n",
      "Epoch 487/500\n",
      "52/52 [==============================] - 0s 385us/step - loss: 2.2644 - accuracy: 0.1522\n",
      "Epoch 488/500\n",
      "52/52 [==============================] - 0s 365us/step - loss: 2.2648 - accuracy: 0.1468\n",
      "Epoch 489/500\n",
      "52/52 [==============================] - 0s 385us/step - loss: 2.2638 - accuracy: 0.1431\n",
      "Epoch 490/500\n",
      "52/52 [==============================] - 0s 385us/step - loss: 2.2634 - accuracy: 0.1437\n",
      "Epoch 491/500\n",
      "52/52 [==============================] - 0s 365us/step - loss: 2.2635 - accuracy: 0.1401\n",
      "Epoch 492/500\n",
      "52/52 [==============================] - 0s 365us/step - loss: 2.2643 - accuracy: 0.1437\n",
      "Epoch 493/500\n",
      "52/52 [==============================] - 0s 365us/step - loss: 2.2635 - accuracy: 0.1413\n",
      "Epoch 494/500\n",
      "52/52 [==============================] - 0s 385us/step - loss: 2.2627 - accuracy: 0.1449\n",
      "Epoch 495/500\n",
      "52/52 [==============================] - 0s 365us/step - loss: 2.2641 - accuracy: 0.1443\n",
      "Epoch 496/500\n",
      "52/52 [==============================] - 0s 365us/step - loss: 2.2641 - accuracy: 0.1443\n",
      "Epoch 497/500\n",
      "52/52 [==============================] - 0s 385us/step - loss: 2.2643 - accuracy: 0.1455\n",
      "Epoch 498/500\n",
      "52/52 [==============================] - 0s 385us/step - loss: 2.2639 - accuracy: 0.1364\n",
      "Epoch 499/500\n",
      "52/52 [==============================] - 0s 385us/step - loss: 2.2644 - accuracy: 0.1413\n",
      "Epoch 500/500\n",
      "52/52 [==============================] - 0s 365us/step - loss: 2.2635 - accuracy: 0.1528\n"
     ]
    }
   ],
   "source": [
    "# Train the model.\n",
    "history = model.fit(\n",
    "  x_train,\n",
    "  y_train_categorical,\n",
    "  epochs=500,\n",
    "  batch_size=32,\n",
    "  verbose=True\n",
    ")"
   ]
  },
  {
   "cell_type": "code",
   "execution_count": 23,
   "id": "211c877c",
   "metadata": {},
   "outputs": [
    {
     "data": {
      "image/png": "[encoded data removed]",
      "text/plain": [
       "<Figure size 432x288 with 1 Axes>"
      ]
     },
     "metadata": {
      "needs_background": "light"
     },
     "output_type": "display_data"
    }
   ],
   "source": [
    "pd.DataFrame(history.history).plot()\n",
    "plt.grid(True)\n",
    "plt.gca().set_ylim(0, 3) \n",
    "plt.show()"
   ]
  },
  {
   "cell_type": "code",
   "execution_count": 24,
   "id": "f428cbc0",
   "metadata": {},
   "outputs": [
    {
     "name": "stdout",
     "output_type": "stream",
     "text": [
      "WARNING:tensorflow:Model was constructed with shape (None, 8, 8) for input Tensor(\"flatten_input:0\", shape=(None, 8, 8), dtype=float32), but it was called on an input with incompatible shape (None, 64).\n",
      "13/13 [==============================] - 0s 385us/step - loss: 2.2842 - accuracy: 0.1065\n"
     ]
    },
    {
     "data": {
      "text/plain": [
       "[2.284184455871582, 0.10653752833604813]"
      ]
     },
     "execution_count": 24,
     "metadata": {},
     "output_type": "execute_result"
    }
   ],
   "source": [
    "#evaluate\n",
    "model.evaluate(\n",
    "  x_test,\n",
    "  to_categorical(y_test)\n",
    ")"
   ]
  },
  {
   "cell_type": "code",
   "execution_count": 25,
   "id": "2b03a8b2",
   "metadata": {},
   "outputs": [
    {
     "name": "stdout",
     "output_type": "stream",
     "text": [
      "(413,)\n"
     ]
    }
   ],
   "source": [
    "print(y_test.shape)"
   ]
  },
  {
   "cell_type": "code",
   "execution_count": 26,
   "id": "4e07621c",
   "metadata": {},
   "outputs": [
    {
     "name": "stdout",
     "output_type": "stream",
     "text": [
      "WARNING:tensorflow:Model was constructed with shape (None, 8, 8) for input Tensor(\"flatten_input:0\", shape=(None, 8, 8), dtype=float32), but it was called on an input with incompatible shape (None, 64).\n",
      "[[0.13812155 0.12008146 0.09773754 0.08165742 0.10373622 0.06528758\n",
      "  0.10184798 0.12269851 0.09334105 0.07549064]\n",
      " [0.04840153 0.05378013 0.08266235 0.10773489 0.11915726 0.12323114\n",
      "  0.12840798 0.10456369 0.10130878 0.13075234]\n",
      " [0.13629302 0.13263698 0.09682776 0.08965857 0.09721289 0.08327985\n",
      "  0.09238733 0.11266457 0.09167794 0.06736103]\n",
      " [0.15731208 0.13600793 0.09792562 0.08209153 0.09756866 0.06415804\n",
      "  0.09126976 0.11725233 0.0900999  0.06631414]\n",
      " [0.09186681 0.09055873 0.07157511 0.06832685 0.11622792 0.06250652\n",
      "  0.14436387 0.14363028 0.11030938 0.10063453]\n",
      " [0.06370009 0.06649297 0.09956017 0.12913159 0.10705756 0.13465561\n",
      "  0.09496424 0.08738829 0.10203282 0.11501671]\n",
      " [0.1451714  0.13254844 0.10324281 0.09020007 0.09586038 0.07786156\n",
      "  0.08779937 0.10772026 0.09158933 0.06800642]\n",
      " [0.0827639  0.08634948 0.09544757 0.10546533 0.11049236 0.10685403\n",
      "  0.10668921 0.10451846 0.10193623 0.09948339]\n",
      " [0.16831906 0.1488481  0.1094984  0.09324595 0.08827821 0.07660218\n",
      "  0.07332406 0.09856123 0.08471163 0.05861114]]\n",
      "[0 9 0 0 6 5 0 4 0]\n",
      "Check the truth\n",
      "1303    6\n",
      "2027    9\n",
      "693     3\n",
      "1914    9\n",
      "29      0\n",
      "1094    5\n",
      "1680    8\n",
      "453     2\n",
      "1117    5\n",
      "Name: 0, dtype: int64\n"
     ]
    }
   ],
   "source": [
    "\n",
    "predictions = model.predict(x_test[0:9])\n",
    "print(predictions)\n",
    "\n",
    "print(np.argmax(predictions, axis=1))\n",
    "\n",
    "print(\"Check the truth\")\n",
    "print(y_test[0:9]) "
   ]
  },
  {
   "cell_type": "markdown",
   "id": "5a3e9215",
   "metadata": {},
   "source": [
    "# Logistic regression"
   ]
  },
  {
   "cell_type": "code",
   "execution_count": 27,
   "id": "a6e9cfee",
   "metadata": {},
   "outputs": [
    {
     "name": "stdout",
     "output_type": "stream",
     "text": [
      "finsihed reading data\n",
      "(2062, 64, 64)\n",
      "(2062,)\n"
     ]
    }
   ],
   "source": [
    "orig_X = np.load('X.npy')\n",
    "orig_Y = np.load('Y.npy')\n",
    "print('finsihed reading data')\n",
    "print(orig_X.shape)\n",
    "print(orig_y.shape)"
   ]
  },
  {
   "cell_type": "code",
   "execution_count": 28,
   "id": "fa365b47",
   "metadata": {},
   "outputs": [],
   "source": [
    "orig_Y= np.argmax(orig_Y, axis = 1)"
   ]
  },
  {
   "cell_type": "code",
   "execution_count": 29,
   "id": "a041f493",
   "metadata": {},
   "outputs": [
    {
     "name": "stdout",
     "output_type": "stream",
     "text": [
      "(1649, 64, 64)\n",
      "(1649,)\n",
      "(413, 64, 64)\n",
      "(413,)\n"
     ]
    }
   ],
   "source": [
    "from sklearn.model_selection import train_test_split\n",
    "\n",
    "X_train, X_test, Y_train, Y_test = train_test_split(orig_X,orig_Y, test_size=0.20, random_state=42)\n",
    "print(X_train.shape)\n",
    "print(Y_train.shape)\n",
    "print(X_test.shape)\n",
    "print(Y_test.shape)"
   ]
  },
  {
   "cell_type": "code",
   "execution_count": 30,
   "id": "f18d5fb7",
   "metadata": {},
   "outputs": [],
   "source": [
    "X_train = X_train.reshape(1649, 64*64)\n",
    "X_test = X_test.reshape(413, 64*64)"
   ]
  },
  {
   "cell_type": "code",
   "execution_count": 31,
   "id": "a8c5b3ef",
   "metadata": {},
   "outputs": [
    {
     "name": "stderr",
     "output_type": "stream",
     "text": [
      "C:\\Users\\ihsan\\anaconda3\\lib\\site-packages\\sklearn\\linear_model\\_logistic.py:763: ConvergenceWarning: lbfgs failed to converge (status=1):\n",
      "STOP: TOTAL NO. of ITERATIONS REACHED LIMIT.\n",
      "\n",
      "Increase the number of iterations (max_iter) or scale the data as shown in:\n",
      "    https://scikit-learn.org/stable/modules/preprocessing.html\n",
      "Please also refer to the documentation for alternative solver options:\n",
      "    https://scikit-learn.org/stable/modules/linear_model.html#logistic-regression\n",
      "  n_iter_i = _check_optimize_result(\n"
     ]
    },
    {
     "data": {
      "text/plain": [
       "LogisticRegression()"
      ]
     },
     "execution_count": 31,
     "metadata": {},
     "output_type": "execute_result"
    }
   ],
   "source": [
    "from sklearn.linear_model import LogisticRegression\n",
    "log_reg = LogisticRegression()\n",
    "log_reg.fit(X_train, Y_train)"
   ]
  },
  {
   "cell_type": "code",
   "execution_count": 32,
   "id": "f79cefc9",
   "metadata": {},
   "outputs": [
    {
     "name": "stderr",
     "output_type": "stream",
     "text": [
      "C:\\Users\\ihsan\\anaconda3\\lib\\site-packages\\sklearn\\linear_model\\_logistic.py:763: ConvergenceWarning: lbfgs failed to converge (status=1):\n",
      "STOP: TOTAL NO. of ITERATIONS REACHED LIMIT.\n",
      "\n",
      "Increase the number of iterations (max_iter) or scale the data as shown in:\n",
      "    https://scikit-learn.org/stable/modules/preprocessing.html\n",
      "Please also refer to the documentation for alternative solver options:\n",
      "    https://scikit-learn.org/stable/modules/linear_model.html#logistic-regression\n",
      "  n_iter_i = _check_optimize_result(\n"
     ]
    },
    {
     "data": {
      "text/plain": [
       "LogisticRegression(multi_class='multinomial')"
      ]
     },
     "execution_count": 32,
     "metadata": {},
     "output_type": "execute_result"
    }
   ],
   "source": [
    "softmax_reg = LogisticRegression(multi_class=\"multinomial\",solver=\"lbfgs\", max_iter=100)\n",
    "softmax_reg.fit(X_train, Y_train)"
   ]
  },
  {
   "cell_type": "code",
   "execution_count": 33,
   "id": "f4a445de",
   "metadata": {},
   "outputs": [
    {
     "name": "stdout",
     "output_type": "stream",
     "text": [
      "0.7530266343825666\n",
      "0.9957550030321407\n"
     ]
    }
   ],
   "source": [
    "print( softmax_reg.score(X_test, Y_test) )\n",
    "print( softmax_reg.score(X_train, Y_train) )"
   ]
  },
  {
   "cell_type": "code",
   "execution_count": 34,
   "id": "03185cee",
   "metadata": {},
   "outputs": [
    {
     "name": "stdout",
     "output_type": "stream",
     "text": [
      "0.7530266343825666\n"
     ]
    }
   ],
   "source": [
    "from sklearn.metrics import accuracy_score\n",
    "y_pred = softmax_reg.predict(X_test)\n",
    "accVal = accuracy_score(Y_test, y_pred)\n",
    "print(accVal)"
   ]
  }
 ],
 "metadata": {
  "kernelspec": {
   "display_name": "Python 3",
   "language": "python",
   "name": "python3"
  },
  "language_info": {
   "codemirror_mode": {
    "name": "ipython",
    "version": 3
   },
   "file_extension": ".py",
   "mimetype": "text/x-python",
   "name": "python",
   "nbconvert_exporter": "python",
   "pygments_lexer": "ipython3",
   "version": "3.8.8"
  }
 },
 "nbformat": 4,
 "nbformat_minor": 5
}
