{
 "cells": [
  {
   "cell_type": "code",
   "execution_count": 1,
   "id": "01f79eca",
   "metadata": {},
   "outputs": [
    {
     "name": "stdout",
     "output_type": "stream",
     "text": [
      "Finsihed loading libs\n"
     ]
    }
   ],
   "source": [
    "import tensorflow as tf\n",
    "from tensorflow import keras\n",
    "import matplotlib\n",
    "import numpy as np\n",
    "import pandas as pd\n",
    "import matplotlib as mpl\n",
    "import matplotlib.pyplot as plt \n",
    "import matplotlib.image as mpimg\n",
    "from sklearn.linear_model import LogisticRegression\n",
    "print('Finsihed loading libs')"
   ]
  },
  {
   "cell_type": "code",
   "execution_count": 2,
   "id": "f02d0408",
   "metadata": {},
   "outputs": [
    {
     "name": "stdout",
     "output_type": "stream",
     "text": [
      "finsihed reading data\n"
     ]
    }
   ],
   "source": [
    "orig_x = np.load('X.npy')\n",
    "orig_y = np.load('Y.npy')\n",
    "print('finsihed reading data')"
   ]
  },
  {
   "cell_type": "code",
   "execution_count": 3,
   "id": "3c76fd63",
   "metadata": {},
   "outputs": [
    {
     "name": "stdout",
     "output_type": "stream",
     "text": [
      "(2062, 64, 64)\n",
      "(2062, 10)\n",
      "<class 'numpy.ndarray'>\n",
      "Finished reading input data\n",
      "(2062,)\n"
     ]
    }
   ],
   "source": [
    "print(orig_x.shape)\n",
    "print(orig_y.shape)\n",
    "print(type(orig_y))\n",
    "print(\"Finished reading input data\")\n",
    "orig_y = np.argmax(orig_y, axis = 1)\n",
    "print(orig_y.shape)"
   ]
  },
  {
   "cell_type": "code",
   "execution_count": 4,
   "id": "333f9cc1",
   "metadata": {},
   "outputs": [
    {
     "name": "stdout",
     "output_type": "stream",
     "text": [
      "(1649, 64, 64)\n",
      "(1649,)\n",
      "(413, 64, 64)\n",
      "(413,)\n"
     ]
    }
   ],
   "source": [
    "from sklearn.model_selection import train_test_split\n",
    "X_train, X_test, Y_train, Y_test = train_test_split(orig_x, orig_y, test_size=0.20, random_state=42)\n",
    "print(X_train.shape)\n",
    "print(Y_train.shape)\n",
    "print(X_test.shape)\n",
    "print(Y_test.shape)"
   ]
  },
  {
   "cell_type": "code",
   "execution_count": 5,
   "id": "bd8733e4",
   "metadata": {},
   "outputs": [],
   "source": [
    "X_train = X_train.reshape(1649, 64*64)\n",
    "X_test = X_test.reshape(413, 64*64)"
   ]
  },
  {
   "cell_type": "code",
   "execution_count": 6,
   "id": "b0d31009",
   "metadata": {},
   "outputs": [
    {
     "name": "stderr",
     "output_type": "stream",
     "text": [
      "C:\\Users\\ihsan\\anaconda3\\lib\\site-packages\\sklearn\\linear_model\\_logistic.py:763: ConvergenceWarning: lbfgs failed to converge (status=1):\n",
      "STOP: TOTAL NO. of ITERATIONS REACHED LIMIT.\n",
      "\n",
      "Increase the number of iterations (max_iter) or scale the data as shown in:\n",
      "    https://scikit-learn.org/stable/modules/preprocessing.html\n",
      "Please also refer to the documentation for alternative solver options:\n",
      "    https://scikit-learn.org/stable/modules/linear_model.html#logistic-regression\n",
      "  n_iter_i = _check_optimize_result(\n"
     ]
    },
    {
     "data": {
      "text/plain": [
       "LogisticRegression(max_iter=200, multi_class='multinomial')"
      ]
     },
     "execution_count": 6,
     "metadata": {},
     "output_type": "execute_result"
    }
   ],
   "source": [
    "softmax_reg = LogisticRegression(multi_class=\"multinomial\",solver=\"lbfgs\", max_iter=200)\n",
    "softmax_reg.fit(X_train, Y_train)"
   ]
  },
  {
   "cell_type": "code",
   "execution_count": 7,
   "id": "4794c787",
   "metadata": {},
   "outputs": [
    {
     "name": "stdout",
     "output_type": "stream",
     "text": [
      "0.7506053268765133\n",
      "1.0\n"
     ]
    }
   ],
   "source": [
    "print( softmax_reg.score(X_test, Y_test) )\n",
    "print( softmax_reg.score(X_train, Y_train) )"
   ]
  },
  {
   "cell_type": "code",
   "execution_count": 8,
   "id": "2aec9a2e",
   "metadata": {},
   "outputs": [
    {
     "name": "stdout",
     "output_type": "stream",
     "text": [
      "0.7506053268765133\n"
     ]
    }
   ],
   "source": [
    "from sklearn.metrics import accuracy_score\n",
    "y_pred = softmax_reg.predict(X_test)\n",
    "accVal = accuracy_score(Y_test, y_pred)\n",
    "print(accVal)"
   ]
  },
  {
   "cell_type": "markdown",
   "id": "2631d5f3",
   "metadata": {},
   "source": [
    "# TensorFlow"
   ]
  },
  {
   "cell_type": "code",
   "execution_count": 9,
   "id": "25f39711",
   "metadata": {},
   "outputs": [],
   "source": [
    "orig_X = np.load('X.npy')\n",
    "orig_Y = np.load('Y.npy')"
   ]
  },
  {
   "cell_type": "code",
   "execution_count": 10,
   "id": "9dd1b4ff",
   "metadata": {},
   "outputs": [
    {
     "data": {
      "text/plain": [
       "<matplotlib.image.AxesImage at 0x29958372be0>"
      ]
     },
     "execution_count": 10,
     "metadata": {},
     "output_type": "execute_result"
    },
    {
     "data": {
      "image/png": "[encoded data removed]",
      "text/plain": [
       "<Figure size 432x288 with 1 Axes>"
      ]
     },
     "metadata": {
      "needs_background": "light"
     },
     "output_type": "display_data"
    }
   ],
   "source": [
    "plt.imshow(orig_X[1751, :])"
   ]
  },
  {
   "cell_type": "code",
   "execution_count": 11,
   "id": "7d997e2f",
   "metadata": {},
   "outputs": [
    {
     "name": "stdout",
     "output_type": "stream",
     "text": [
      "(2062, 64, 64)\n",
      "(2062,)\n"
     ]
    }
   ],
   "source": [
    "orig_Y= np.argmax(orig_Y, axis = 1)\n",
    "print(orig_X.shape)\n",
    "print(orig_Y.shape)"
   ]
  },
  {
   "cell_type": "code",
   "execution_count": 12,
   "id": "982aa2ff",
   "metadata": {},
   "outputs": [
    {
     "name": "stdout",
     "output_type": "stream",
     "text": [
      "(1649, 64, 64)\n",
      "(1649,)\n",
      "(413, 64, 64)\n",
      "(413,)\n"
     ]
    }
   ],
   "source": [
    "x_train, x_test, y_train, y_test = train_test_split(orig_X, orig_Y, test_size=0.2,random_state=1)\n",
    "print(x_train.shape)\n",
    "print(y_train.shape)\n",
    "print(x_test.shape)\n",
    "print(y_test.shape)"
   ]
  },
  {
   "cell_type": "code",
   "execution_count": 13,
   "id": "111a3f6d",
   "metadata": {},
   "outputs": [
    {
     "name": "stdout",
     "output_type": "stream",
     "text": [
      "Initialized model\n"
     ]
    }
   ],
   "source": [
    "model = keras.models.Sequential()\n",
    "print(\"Initialized model\")"
   ]
  },
  {
   "cell_type": "code",
   "execution_count": 14,
   "id": "c37cf996",
   "metadata": {},
   "outputs": [
    {
     "name": "stdout",
     "output_type": "stream",
     "text": [
      "Finsihed setting the input layer\n"
     ]
    }
   ],
   "source": [
    "model.add(keras.layers.Flatten(input_shape=[64, 64]))\n",
    "print('Finsihed setting the input layer')"
   ]
  },
  {
   "cell_type": "code",
   "execution_count": 15,
   "id": "3cb9a831",
   "metadata": {},
   "outputs": [
    {
     "name": "stdout",
     "output_type": "stream",
     "text": [
      "Added hidden layer 1\n"
     ]
    }
   ],
   "source": [
    "model.add(keras.layers.Dense( 64, activation='relu'))\n",
    "print(\"Added hidden layer 1\")"
   ]
  },
  {
   "cell_type": "code",
   "execution_count": 16,
   "id": "deb1e06b",
   "metadata": {},
   "outputs": [
    {
     "name": "stdout",
     "output_type": "stream",
     "text": [
      "Added hidden layer 2\n"
     ]
    }
   ],
   "source": [
    "model.add(keras.layers.Dense(64, activation=\"relu\"))\n",
    "print('Added hidden layer 2')"
   ]
  },
  {
   "cell_type": "code",
   "execution_count": 17,
   "id": "7045e002",
   "metadata": {},
   "outputs": [
    {
     "name": "stdout",
     "output_type": "stream",
     "text": [
      "Added output layer\n"
     ]
    }
   ],
   "source": [
    "model.add(keras.layers.Dense(10, activation='softmax'))\n",
    "print(\"Added output layer\")"
   ]
  },
  {
   "cell_type": "code",
   "execution_count": 18,
   "id": "bc6260aa",
   "metadata": {},
   "outputs": [
    {
     "name": "stdout",
     "output_type": "stream",
     "text": [
      "Model: \"sequential\"\n",
      "_________________________________________________________________\n",
      "Layer (type)                 Output Shape              Param #   \n",
      "=================================================================\n",
      "flatten (Flatten)            (None, 4096)              0         \n",
      "_________________________________________________________________\n",
      "dense (Dense)                (None, 64)                262208    \n",
      "_________________________________________________________________\n",
      "dense_1 (Dense)              (None, 64)                4160      \n",
      "_________________________________________________________________\n",
      "dense_2 (Dense)              (None, 10)                650       \n",
      "=================================================================\n",
      "Total params: 267,018\n",
      "Trainable params: 267,018\n",
      "Non-trainable params: 0\n",
      "_________________________________________________________________\n"
     ]
    }
   ],
   "source": [
    "model.summary()"
   ]
  },
  {
   "cell_type": "code",
   "execution_count": 19,
   "id": "9ca04500",
   "metadata": {},
   "outputs": [
    {
     "name": "stdout",
     "output_type": "stream",
     "text": [
      "Finished compiling\n"
     ]
    }
   ],
   "source": [
    "model.compile(loss=\"categorical_crossentropy\",\n",
    "              optimizer=\"sgd\", \n",
    "              metrics = ['accuracy'])\n",
    "print(\"Finished compiling\")"
   ]
  },
  {
   "cell_type": "code",
   "execution_count": 20,
   "id": "ce5cb69c",
   "metadata": {},
   "outputs": [
    {
     "name": "stdout",
     "output_type": "stream",
     "text": [
      "(1649, 64, 64)\n",
      "(1649,)\n"
     ]
    }
   ],
   "source": [
    "print(x_train.shape)\n",
    "print(y_train.shape)"
   ]
  },
  {
   "cell_type": "code",
   "execution_count": 21,
   "id": "50da38a9",
   "metadata": {},
   "outputs": [
    {
     "name": "stdout",
     "output_type": "stream",
     "text": [
      "Finished categorizing the labels (output)\n"
     ]
    }
   ],
   "source": [
    "from tensorflow.keras.utils import to_categorical\n",
    "y_train_categorical = to_categorical(y_train)\n",
    "print(\"Finished categorizing the labels (output)\")"
   ]
  },
  {
   "cell_type": "code",
   "execution_count": 22,
   "id": "7c695215",
   "metadata": {},
   "outputs": [
    {
     "name": "stdout",
     "output_type": "stream",
     "text": [
      "(1649, 10)\n"
     ]
    }
   ],
   "source": [
    "print(y_train_categorical.shape)"
   ]
  },
  {
   "cell_type": "code",
   "execution_count": 23,
   "id": "517553de",
   "metadata": {},
   "outputs": [
    {
     "name": "stdout",
     "output_type": "stream",
     "text": [
      "Epoch 1/200\n",
      "52/52 [==============================] - 0s 1ms/step - loss: 2.2767 - accuracy: 0.1431\n",
      "Epoch 2/200\n",
      "52/52 [==============================] - 0s 1ms/step - loss: 2.1870 - accuracy: 0.2577\n",
      "Epoch 3/200\n",
      "52/52 [==============================] - 0s 1ms/step - loss: 2.0807 - accuracy: 0.3178\n",
      "Epoch 4/200\n",
      "52/52 [==============================] - 0s 1ms/step - loss: 1.9285 - accuracy: 0.4269\n",
      "Epoch 5/200\n",
      "52/52 [==============================] - 0s 1ms/step - loss: 1.7886 - accuracy: 0.4585\n",
      "Epoch 6/200\n",
      "52/52 [==============================] - 0s 1ms/step - loss: 1.6514 - accuracy: 0.5100\n",
      "Epoch 7/200\n",
      "52/52 [==============================] - 0s 1ms/step - loss: 1.5175 - accuracy: 0.5488\n",
      "Epoch 8/200\n",
      "52/52 [==============================] - 0s 1ms/step - loss: 1.4138 - accuracy: 0.5652\n",
      "Epoch 9/200\n",
      "52/52 [==============================] - 0s 1ms/step - loss: 1.3389 - accuracy: 0.5743\n",
      "Epoch 10/200\n",
      "52/52 [==============================] - 0s 1ms/step - loss: 1.2327 - accuracy: 0.6089\n",
      "Epoch 11/200\n",
      "52/52 [==============================] - 0s 1ms/step - loss: 1.1756 - accuracy: 0.6380\n",
      "Epoch 12/200\n",
      "52/52 [==============================] - 0s 1ms/step - loss: 1.1117 - accuracy: 0.6531\n",
      "Epoch 13/200\n",
      "52/52 [==============================] - 0s 1ms/step - loss: 1.0712 - accuracy: 0.6586\n",
      "Epoch 14/200\n",
      "52/52 [==============================] - 0s 1ms/step - loss: 1.0376 - accuracy: 0.6750\n",
      "Epoch 15/200\n",
      "52/52 [==============================] - 0s 1ms/step - loss: 1.0400 - accuracy: 0.6671\n",
      "Epoch 16/200\n",
      "52/52 [==============================] - 0s 1ms/step - loss: 0.9323 - accuracy: 0.7065\n",
      "Epoch 17/200\n",
      "52/52 [==============================] - 0s 1ms/step - loss: 0.8958 - accuracy: 0.7150\n",
      "Epoch 18/200\n",
      "52/52 [==============================] - 0s 1ms/step - loss: 0.9141 - accuracy: 0.7089\n",
      "Epoch 19/200\n",
      "52/52 [==============================] - 0s 1ms/step - loss: 0.8643 - accuracy: 0.7192\n",
      "Epoch 20/200\n",
      "52/52 [==============================] - 0s 1ms/step - loss: 0.8147 - accuracy: 0.7465\n",
      "Epoch 21/200\n",
      "52/52 [==============================] - 0s 1ms/step - loss: 0.7983 - accuracy: 0.7520\n",
      "Epoch 22/200\n",
      "52/52 [==============================] - 0s 1ms/step - loss: 0.7913 - accuracy: 0.7483\n",
      "Epoch 23/200\n",
      "52/52 [==============================] - 0s 1ms/step - loss: 0.7486 - accuracy: 0.7732\n",
      "Epoch 24/200\n",
      "52/52 [==============================] - 0s 1ms/step - loss: 0.7702 - accuracy: 0.7514\n",
      "Epoch 25/200\n",
      "52/52 [==============================] - 0s 1ms/step - loss: 0.7140 - accuracy: 0.7878\n",
      "Epoch 26/200\n",
      "52/52 [==============================] - 0s 1ms/step - loss: 0.6825 - accuracy: 0.7793\n",
      "Epoch 27/200\n",
      "52/52 [==============================] - 0s 1ms/step - loss: 0.6762 - accuracy: 0.7853\n",
      "Epoch 28/200\n",
      "52/52 [==============================] - 0s 1ms/step - loss: 0.6555 - accuracy: 0.7878\n",
      "Epoch 29/200\n",
      "52/52 [==============================] - 0s 1ms/step - loss: 0.6753 - accuracy: 0.7878\n",
      "Epoch 30/200\n",
      "52/52 [==============================] - 0s 1ms/step - loss: 0.6296 - accuracy: 0.8059\n",
      "Epoch 31/200\n",
      "52/52 [==============================] - 0s 1ms/step - loss: 0.6225 - accuracy: 0.7956\n",
      "Epoch 32/200\n",
      "52/52 [==============================] - 0s 1ms/step - loss: 0.6271 - accuracy: 0.8005\n",
      "Epoch 33/200\n",
      "52/52 [==============================] - 0s 1ms/step - loss: 0.6171 - accuracy: 0.8047\n",
      "Epoch 34/200\n",
      "52/52 [==============================] - 0s 1ms/step - loss: 0.5910 - accuracy: 0.8120\n",
      "Epoch 35/200\n",
      "52/52 [==============================] - 0s 1ms/step - loss: 0.5857 - accuracy: 0.8138\n",
      "Epoch 36/200\n",
      "52/52 [==============================] - 0s 1ms/step - loss: 0.5605 - accuracy: 0.8181\n",
      "Epoch 37/200\n",
      "52/52 [==============================] - 0s 1ms/step - loss: 0.5592 - accuracy: 0.8247\n",
      "Epoch 38/200\n",
      "52/52 [==============================] - 0s 1ms/step - loss: 0.5020 - accuracy: 0.8508\n",
      "Epoch 39/200\n",
      "52/52 [==============================] - 0s 1ms/step - loss: 0.5493 - accuracy: 0.8284\n",
      "Epoch 40/200\n",
      "52/52 [==============================] - 0s 1ms/step - loss: 0.5034 - accuracy: 0.8460\n",
      "Epoch 41/200\n",
      "52/52 [==============================] - 0s 1ms/step - loss: 0.5160 - accuracy: 0.8344\n",
      "Epoch 42/200\n",
      "52/52 [==============================] - 0s 1ms/step - loss: 0.5047 - accuracy: 0.8472\n",
      "Epoch 43/200\n",
      "52/52 [==============================] - 0s 1ms/step - loss: 0.4672 - accuracy: 0.8539\n",
      "Epoch 44/200\n",
      "52/52 [==============================] - 0s 1ms/step - loss: 0.4881 - accuracy: 0.8369: 0s - loss: 0.4933 - accuracy: 0.83\n",
      "Epoch 45/200\n",
      "52/52 [==============================] - 0s 1ms/step - loss: 0.4887 - accuracy: 0.8484\n",
      "Epoch 46/200\n",
      "52/52 [==============================] - 0s 1ms/step - loss: 0.5293 - accuracy: 0.8290\n",
      "Epoch 47/200\n",
      "52/52 [==============================] - 0s 1ms/step - loss: 0.4380 - accuracy: 0.8672\n",
      "Epoch 48/200\n",
      "52/52 [==============================] - 0s 1ms/step - loss: 0.4202 - accuracy: 0.8781\n",
      "Epoch 49/200\n",
      "52/52 [==============================] - 0s 1ms/step - loss: 0.4592 - accuracy: 0.8569\n",
      "Epoch 50/200\n",
      "52/52 [==============================] - 0s 1ms/step - loss: 0.4182 - accuracy: 0.8769\n",
      "Epoch 51/200\n",
      "52/52 [==============================] - 0s 1ms/step - loss: 0.4231 - accuracy: 0.8629\n",
      "Epoch 52/200\n",
      "52/52 [==============================] - 0s 1ms/step - loss: 0.4075 - accuracy: 0.8708\n",
      "Epoch 53/200\n",
      "52/52 [==============================] - 0s 1ms/step - loss: 0.3929 - accuracy: 0.8757\n",
      "Epoch 54/200\n",
      "52/52 [==============================] - 0s 1ms/step - loss: 0.4390 - accuracy: 0.8666\n",
      "Epoch 55/200\n",
      "52/52 [==============================] - 0s 1ms/step - loss: 0.4162 - accuracy: 0.8654\n",
      "Epoch 56/200\n",
      "52/52 [==============================] - 0s 1ms/step - loss: 0.3956 - accuracy: 0.8817\n",
      "Epoch 57/200\n",
      "52/52 [==============================] - 0s 1ms/step - loss: 0.4069 - accuracy: 0.8751\n",
      "Epoch 58/200\n",
      "52/52 [==============================] - 0s 1ms/step - loss: 0.4090 - accuracy: 0.8684\n",
      "Epoch 59/200\n",
      "52/52 [==============================] - 0s 1ms/step - loss: 0.3758 - accuracy: 0.8824\n",
      "Epoch 60/200\n",
      "52/52 [==============================] - 0s 1ms/step - loss: 0.3715 - accuracy: 0.8830\n",
      "Epoch 61/200\n",
      "52/52 [==============================] - 0s 1ms/step - loss: 0.3979 - accuracy: 0.8769\n",
      "Epoch 62/200\n",
      "52/52 [==============================] - 0s 1ms/step - loss: 0.3857 - accuracy: 0.8745\n",
      "Epoch 63/200\n",
      "52/52 [==============================] - 0s 1ms/step - loss: 0.3652 - accuracy: 0.8890\n",
      "Epoch 64/200\n",
      "52/52 [==============================] - 0s 1ms/step - loss: 0.3314 - accuracy: 0.8939\n",
      "Epoch 65/200\n",
      "52/52 [==============================] - 0s 1ms/step - loss: 0.3381 - accuracy: 0.8987\n",
      "Epoch 66/200\n",
      "52/52 [==============================] - 0s 1ms/step - loss: 0.3017 - accuracy: 0.9133\n",
      "Epoch 67/200\n",
      "52/52 [==============================] - 0s 1ms/step - loss: 0.3437 - accuracy: 0.8987\n",
      "Epoch 68/200\n",
      "52/52 [==============================] - 0s 1ms/step - loss: 0.3297 - accuracy: 0.8981\n",
      "Epoch 69/200\n",
      "52/52 [==============================] - 0s 1ms/step - loss: 0.3516 - accuracy: 0.8878\n",
      "Epoch 70/200\n",
      "52/52 [==============================] - 0s 1ms/step - loss: 0.3165 - accuracy: 0.8951\n",
      "Epoch 71/200\n",
      "52/52 [==============================] - 0s 1ms/step - loss: 0.3275 - accuracy: 0.9018\n",
      "Epoch 72/200\n",
      "52/52 [==============================] - 0s 1ms/step - loss: 0.3099 - accuracy: 0.9036\n",
      "Epoch 73/200\n",
      "52/52 [==============================] - 0s 1ms/step - loss: 0.2966 - accuracy: 0.9109\n",
      "Epoch 74/200\n",
      "52/52 [==============================] - 0s 1ms/step - loss: 0.2903 - accuracy: 0.9109\n",
      "Epoch 75/200\n",
      "52/52 [==============================] - 0s 1ms/step - loss: 0.3056 - accuracy: 0.9139\n",
      "Epoch 76/200\n",
      "52/52 [==============================] - 0s 1ms/step - loss: 0.4139 - accuracy: 0.8666\n",
      "Epoch 77/200\n",
      "52/52 [==============================] - 0s 1ms/step - loss: 0.2690 - accuracy: 0.9218\n",
      "Epoch 78/200\n",
      "52/52 [==============================] - 0s 1ms/step - loss: 0.2673 - accuracy: 0.9254\n",
      "Epoch 79/200\n",
      "52/52 [==============================] - 0s 1ms/step - loss: 0.2955 - accuracy: 0.9096\n",
      "Epoch 80/200\n",
      "52/52 [==============================] - 0s 1ms/step - loss: 0.2682 - accuracy: 0.9145\n",
      "Epoch 81/200\n",
      "52/52 [==============================] - 0s 1ms/step - loss: 0.2426 - accuracy: 0.9339\n",
      "Epoch 82/200\n"
     ]
    },
    {
     "name": "stdout",
     "output_type": "stream",
     "text": [
      "52/52 [==============================] - 0s 1ms/step - loss: 0.2479 - accuracy: 0.9260\n",
      "Epoch 83/200\n",
      "52/52 [==============================] - 0s 1ms/step - loss: 0.2453 - accuracy: 0.9266\n",
      "Epoch 84/200\n",
      "52/52 [==============================] - 0s 1ms/step - loss: 0.2505 - accuracy: 0.9254\n",
      "Epoch 85/200\n",
      "52/52 [==============================] - 0s 1ms/step - loss: 0.2475 - accuracy: 0.9290\n",
      "Epoch 86/200\n",
      "52/52 [==============================] - 0s 1ms/step - loss: 0.2286 - accuracy: 0.9339\n",
      "Epoch 87/200\n",
      "52/52 [==============================] - 0s 1ms/step - loss: 0.2362 - accuracy: 0.9315\n",
      "Epoch 88/200\n",
      "52/52 [==============================] - 0s 1ms/step - loss: 0.2426 - accuracy: 0.9212\n",
      "Epoch 89/200\n",
      "52/52 [==============================] - 0s 1ms/step - loss: 0.2313 - accuracy: 0.9333\n",
      "Epoch 90/200\n",
      "52/52 [==============================] - 0s 1ms/step - loss: 0.2487 - accuracy: 0.9242\n",
      "Epoch 91/200\n",
      "52/52 [==============================] - 0s 1ms/step - loss: 0.2234 - accuracy: 0.9345\n",
      "Epoch 92/200\n",
      "52/52 [==============================] - 0s 1ms/step - loss: 0.2226 - accuracy: 0.9351\n",
      "Epoch 93/200\n",
      "52/52 [==============================] - 0s 1ms/step - loss: 0.2465 - accuracy: 0.9266\n",
      "Epoch 94/200\n",
      "52/52 [==============================] - 0s 1ms/step - loss: 0.2058 - accuracy: 0.9406\n",
      "Epoch 95/200\n",
      "52/52 [==============================] - 0s 1ms/step - loss: 0.2263 - accuracy: 0.9327\n",
      "Epoch 96/200\n",
      "52/52 [==============================] - 0s 1ms/step - loss: 0.1949 - accuracy: 0.9497\n",
      "Epoch 97/200\n",
      "52/52 [==============================] - 0s 1ms/step - loss: 0.1891 - accuracy: 0.9497\n",
      "Epoch 98/200\n",
      "52/52 [==============================] - 0s 1ms/step - loss: 0.1805 - accuracy: 0.9509\n",
      "Epoch 99/200\n",
      "52/52 [==============================] - 0s 1ms/step - loss: 0.1778 - accuracy: 0.9557\n",
      "Epoch 100/200\n",
      "52/52 [==============================] - 0s 1ms/step - loss: 0.1764 - accuracy: 0.9527\n",
      "Epoch 101/200\n",
      "52/52 [==============================] - 0s 1ms/step - loss: 0.2059 - accuracy: 0.9363\n",
      "Epoch 102/200\n",
      "52/52 [==============================] - 0s 1ms/step - loss: 0.1769 - accuracy: 0.9588\n",
      "Epoch 103/200\n",
      "52/52 [==============================] - 0s 1ms/step - loss: 0.1777 - accuracy: 0.9515\n",
      "Epoch 104/200\n",
      "52/52 [==============================] - 0s 1ms/step - loss: 0.1662 - accuracy: 0.9582\n",
      "Epoch 105/200\n",
      "52/52 [==============================] - 0s 1ms/step - loss: 0.2343 - accuracy: 0.9272\n",
      "Epoch 106/200\n",
      "52/52 [==============================] - 0s 1ms/step - loss: 0.1628 - accuracy: 0.9588\n",
      "Epoch 107/200\n",
      "52/52 [==============================] - 0s 1ms/step - loss: 0.1656 - accuracy: 0.9551\n",
      "Epoch 108/200\n",
      "52/52 [==============================] - 0s 1ms/step - loss: 0.1432 - accuracy: 0.9636\n",
      "Epoch 109/200\n",
      "52/52 [==============================] - 0s 1ms/step - loss: 0.1574 - accuracy: 0.9551\n",
      "Epoch 110/200\n",
      "52/52 [==============================] - 0s 1ms/step - loss: 0.2014 - accuracy: 0.9345\n",
      "Epoch 111/200\n",
      "52/52 [==============================] - 0s 1ms/step - loss: 0.1409 - accuracy: 0.9624\n",
      "Epoch 112/200\n",
      "52/52 [==============================] - 0s 1ms/step - loss: 0.1390 - accuracy: 0.9685\n",
      "Epoch 113/200\n",
      "52/52 [==============================] - 0s 1ms/step - loss: 0.1530 - accuracy: 0.9551\n",
      "Epoch 114/200\n",
      "52/52 [==============================] - 0s 1ms/step - loss: 0.1651 - accuracy: 0.9527\n",
      "Epoch 115/200\n",
      "52/52 [==============================] - 0s 1ms/step - loss: 0.2066 - accuracy: 0.9442\n",
      "Epoch 116/200\n",
      "52/52 [==============================] - 0s 1ms/step - loss: 0.1338 - accuracy: 0.9703\n",
      "Epoch 117/200\n",
      "52/52 [==============================] - 0s 1ms/step - loss: 0.1777 - accuracy: 0.9515\n",
      "Epoch 118/200\n",
      "52/52 [==============================] - 0s 1ms/step - loss: 0.1799 - accuracy: 0.9448\n",
      "Epoch 119/200\n",
      "52/52 [==============================] - 0s 1ms/step - loss: 0.1393 - accuracy: 0.9654\n",
      "Epoch 120/200\n",
      "52/52 [==============================] - 0s 1ms/step - loss: 0.1497 - accuracy: 0.9606\n",
      "Epoch 121/200\n",
      "52/52 [==============================] - 0s 1ms/step - loss: 0.1192 - accuracy: 0.9751\n",
      "Epoch 122/200\n",
      "52/52 [==============================] - 0s 1ms/step - loss: 0.1160 - accuracy: 0.9709\n",
      "Epoch 123/200\n",
      "52/52 [==============================] - 0s 1ms/step - loss: 0.1202 - accuracy: 0.9691\n",
      "Epoch 124/200\n",
      "52/52 [==============================] - 0s 1ms/step - loss: 0.1194 - accuracy: 0.9733\n",
      "Epoch 125/200\n",
      "52/52 [==============================] - 0s 1ms/step - loss: 0.1178 - accuracy: 0.9739\n",
      "Epoch 126/200\n",
      "52/52 [==============================] - 0s 1ms/step - loss: 0.1145 - accuracy: 0.9733\n",
      "Epoch 127/200\n",
      "52/52 [==============================] - 0s 1ms/step - loss: 0.1278 - accuracy: 0.9666\n",
      "Epoch 128/200\n",
      "52/52 [==============================] - 0s 1ms/step - loss: 0.1077 - accuracy: 0.9751\n",
      "Epoch 129/200\n",
      "52/52 [==============================] - 0s 1ms/step - loss: 0.1752 - accuracy: 0.9539\n",
      "Epoch 130/200\n",
      "52/52 [==============================] - 0s 1ms/step - loss: 0.1011 - accuracy: 0.9812\n",
      "Epoch 131/200\n",
      "52/52 [==============================] - 0s 1ms/step - loss: 0.1018 - accuracy: 0.9776\n",
      "Epoch 132/200\n",
      "52/52 [==============================] - 0s 1ms/step - loss: 0.1099 - accuracy: 0.9745\n",
      "Epoch 133/200\n",
      "52/52 [==============================] - 0s 1ms/step - loss: 0.0986 - accuracy: 0.9824\n",
      "Epoch 134/200\n",
      "52/52 [==============================] - 0s 1ms/step - loss: 0.0965 - accuracy: 0.9776\n",
      "Epoch 135/200\n",
      "52/52 [==============================] - 0s 1ms/step - loss: 0.1173 - accuracy: 0.9685\n",
      "Epoch 136/200\n",
      "52/52 [==============================] - 0s 1ms/step - loss: 0.0957 - accuracy: 0.9812\n",
      "Epoch 137/200\n",
      "52/52 [==============================] - 0s 1ms/step - loss: 0.0831 - accuracy: 0.9873\n",
      "Epoch 138/200\n",
      "52/52 [==============================] - 0s 1ms/step - loss: 0.0946 - accuracy: 0.9763\n",
      "Epoch 139/200\n",
      "52/52 [==============================] - 0s 1ms/step - loss: 0.1212 - accuracy: 0.9691\n",
      "Epoch 140/200\n",
      "52/52 [==============================] - 0s 1ms/step - loss: 0.0915 - accuracy: 0.9788\n",
      "Epoch 141/200\n",
      "52/52 [==============================] - 0s 1ms/step - loss: 0.0884 - accuracy: 0.9824\n",
      "Epoch 142/200\n",
      "52/52 [==============================] - 0s 1ms/step - loss: 0.0997 - accuracy: 0.9733\n",
      "Epoch 143/200\n",
      "52/52 [==============================] - 0s 1ms/step - loss: 0.0794 - accuracy: 0.9885\n",
      "Epoch 144/200\n",
      "52/52 [==============================] - 0s 1ms/step - loss: 0.0920 - accuracy: 0.9788\n",
      "Epoch 145/200\n",
      "52/52 [==============================] - 0s 1ms/step - loss: 0.1729 - accuracy: 0.9582\n",
      "Epoch 146/200\n",
      "52/52 [==============================] - 0s 1ms/step - loss: 0.1176 - accuracy: 0.9703\n",
      "Epoch 147/200\n",
      "52/52 [==============================] - 0s 1ms/step - loss: 0.0753 - accuracy: 0.9879\n",
      "Epoch 148/200\n",
      "52/52 [==============================] - 0s 1ms/step - loss: 0.1113 - accuracy: 0.9727\n",
      "Epoch 149/200\n",
      "52/52 [==============================] - 0s 1ms/step - loss: 0.0689 - accuracy: 0.9903\n",
      "Epoch 150/200\n",
      "52/52 [==============================] - 0s 1ms/step - loss: 0.0721 - accuracy: 0.9867\n",
      "Epoch 151/200\n",
      "52/52 [==============================] - 0s 1ms/step - loss: 0.0689 - accuracy: 0.9909\n",
      "Epoch 152/200\n",
      "52/52 [==============================] - 0s 1ms/step - loss: 0.0746 - accuracy: 0.9891\n",
      "Epoch 153/200\n",
      "52/52 [==============================] - 0s 1ms/step - loss: 0.0702 - accuracy: 0.9885\n",
      "Epoch 154/200\n",
      "52/52 [==============================] - 0s 1ms/step - loss: 0.0763 - accuracy: 0.9836\n",
      "Epoch 155/200\n",
      "52/52 [==============================] - 0s 1ms/step - loss: 0.0581 - accuracy: 0.9927\n",
      "Epoch 156/200\n",
      "52/52 [==============================] - 0s 1ms/step - loss: 0.0668 - accuracy: 0.9861\n",
      "Epoch 157/200\n",
      "52/52 [==============================] - 0s 1ms/step - loss: 0.0717 - accuracy: 0.9891\n",
      "Epoch 158/200\n",
      "52/52 [==============================] - 0s 1ms/step - loss: 0.0598 - accuracy: 0.9909\n",
      "Epoch 159/200\n",
      "52/52 [==============================] - 0s 1ms/step - loss: 0.0599 - accuracy: 0.9933\n",
      "Epoch 160/200\n",
      "52/52 [==============================] - 0s 1ms/step - loss: 0.0616 - accuracy: 0.9921\n",
      "Epoch 161/200\n",
      "52/52 [==============================] - 0s 1ms/step - loss: 0.1245 - accuracy: 0.9673\n",
      "Epoch 162/200\n",
      "52/52 [==============================] - 0s 1ms/step - loss: 0.0598 - accuracy: 0.9927\n",
      "Epoch 163/200\n"
     ]
    },
    {
     "name": "stdout",
     "output_type": "stream",
     "text": [
      "52/52 [==============================] - 0s 1ms/step - loss: 0.0631 - accuracy: 0.9909\n",
      "Epoch 164/200\n",
      "52/52 [==============================] - 0s 1ms/step - loss: 0.1467 - accuracy: 0.9624\n",
      "Epoch 165/200\n",
      "52/52 [==============================] - 0s 1ms/step - loss: 0.0533 - accuracy: 0.9945\n",
      "Epoch 166/200\n",
      "52/52 [==============================] - 0s 1ms/step - loss: 0.0515 - accuracy: 0.9939\n",
      "Epoch 167/200\n",
      "52/52 [==============================] - 0s 1ms/step - loss: 0.0520 - accuracy: 0.9945\n",
      "Epoch 168/200\n",
      "52/52 [==============================] - 0s 1ms/step - loss: 0.0464 - accuracy: 0.9958\n",
      "Epoch 169/200\n",
      "52/52 [==============================] - 0s 1ms/step - loss: 0.0514 - accuracy: 0.9921\n",
      "Epoch 170/200\n",
      "52/52 [==============================] - 0s 1ms/step - loss: 0.0466 - accuracy: 0.9958\n",
      "Epoch 171/200\n",
      "52/52 [==============================] - 0s 1ms/step - loss: 0.0487 - accuracy: 0.9927\n",
      "Epoch 172/200\n",
      "52/52 [==============================] - 0s 1ms/step - loss: 0.0443 - accuracy: 0.9958\n",
      "Epoch 173/200\n",
      "52/52 [==============================] - 0s 1ms/step - loss: 0.0412 - accuracy: 0.9988\n",
      "Epoch 174/200\n",
      "52/52 [==============================] - 0s 1ms/step - loss: 0.0407 - accuracy: 0.9970\n",
      "Epoch 175/200\n",
      "52/52 [==============================] - 0s 1ms/step - loss: 0.0392 - accuracy: 0.9958\n",
      "Epoch 176/200\n",
      "52/52 [==============================] - 0s 1ms/step - loss: 0.0419 - accuracy: 0.9982\n",
      "Epoch 177/200\n",
      "52/52 [==============================] - 0s 1ms/step - loss: 0.0416 - accuracy: 0.9964\n",
      "Epoch 178/200\n",
      "52/52 [==============================] - 0s 1ms/step - loss: 0.0413 - accuracy: 0.9976\n",
      "Epoch 179/200\n",
      "52/52 [==============================] - 0s 1ms/step - loss: 0.0390 - accuracy: 0.9964\n",
      "Epoch 180/200\n",
      "52/52 [==============================] - 0s 1ms/step - loss: 0.0393 - accuracy: 0.9964\n",
      "Epoch 181/200\n",
      "52/52 [==============================] - 0s 1ms/step - loss: 0.0426 - accuracy: 0.9945\n",
      "Epoch 182/200\n",
      "52/52 [==============================] - 0s 1ms/step - loss: 0.0352 - accuracy: 0.9994\n",
      "Epoch 183/200\n",
      "52/52 [==============================] - 0s 1ms/step - loss: 0.0369 - accuracy: 0.9982\n",
      "Epoch 184/200\n",
      "52/52 [==============================] - 0s 1ms/step - loss: 0.0329 - accuracy: 1.0000\n",
      "Epoch 185/200\n",
      "52/52 [==============================] - 0s 1ms/step - loss: 0.0348 - accuracy: 0.9976\n",
      "Epoch 186/200\n",
      "52/52 [==============================] - 0s 1ms/step - loss: 0.0333 - accuracy: 0.9982\n",
      "Epoch 187/200\n",
      "52/52 [==============================] - 0s 1ms/step - loss: 0.0341 - accuracy: 0.9982\n",
      "Epoch 188/200\n",
      "52/52 [==============================] - 0s 1ms/step - loss: 0.0378 - accuracy: 0.9982\n",
      "Epoch 189/200\n",
      "52/52 [==============================] - 0s 1ms/step - loss: 0.0358 - accuracy: 0.9982\n",
      "Epoch 190/200\n",
      "52/52 [==============================] - 0s 1ms/step - loss: 0.0383 - accuracy: 0.9970\n",
      "Epoch 191/200\n",
      "52/52 [==============================] - 0s 1ms/step - loss: 0.0307 - accuracy: 0.9994\n",
      "Epoch 192/200\n",
      "52/52 [==============================] - 0s 1ms/step - loss: 0.0302 - accuracy: 0.9994\n",
      "Epoch 193/200\n",
      "52/52 [==============================] - 0s 1ms/step - loss: 0.0307 - accuracy: 0.9976\n",
      "Epoch 194/200\n",
      "52/52 [==============================] - 0s 1ms/step - loss: 0.0297 - accuracy: 0.9988\n",
      "Epoch 195/200\n",
      "52/52 [==============================] - 0s 1ms/step - loss: 0.0299 - accuracy: 0.9982\n",
      "Epoch 196/200\n",
      "52/52 [==============================] - 0s 1ms/step - loss: 0.0289 - accuracy: 0.9988\n",
      "Epoch 197/200\n",
      "52/52 [==============================] - 0s 1ms/step - loss: 0.0289 - accuracy: 0.9988\n",
      "Epoch 198/200\n",
      "52/52 [==============================] - 0s 1ms/step - loss: 0.0295 - accuracy: 1.0000\n",
      "Epoch 199/200\n",
      "52/52 [==============================] - 0s 1ms/step - loss: 0.0333 - accuracy: 0.9970\n",
      "Epoch 200/200\n",
      "52/52 [==============================] - 0s 1ms/step - loss: 0.0262 - accuracy: 1.0000\n"
     ]
    }
   ],
   "source": [
    "history = model.fit(\n",
    "  x_train,\n",
    "  y_train_categorical,\n",
    "  epochs=200,\n",
    "  batch_size=32,\n",
    "  verbose=True\n",
    ")"
   ]
  },
  {
   "cell_type": "code",
   "execution_count": 24,
   "id": "af80969f",
   "metadata": {},
   "outputs": [
    {
     "data": {
      "image/png": "[encoded data removed]",
      "text/plain": [
       "<Figure size 432x288 with 1 Axes>"
      ]
     },
     "metadata": {
      "needs_background": "light"
     },
     "output_type": "display_data"
    }
   ],
   "source": [
    "pd.DataFrame(history.history).plot()\n",
    "plt.grid(True)\n",
    "plt.gca().set_ylim(0, 3) \n",
    "plt.show()"
   ]
  },
  {
   "cell_type": "code",
   "execution_count": 25,
   "id": "22e95e48",
   "metadata": {},
   "outputs": [
    {
     "name": "stdout",
     "output_type": "stream",
     "text": [
      "13/13 [==============================] - 0s 616us/step - loss: 0.7865 - accuracy: 0.8111\n"
     ]
    },
    {
     "data": {
      "text/plain": [
       "[0.7865468263626099, 0.8111380338668823]"
      ]
     },
     "execution_count": 25,
     "metadata": {},
     "output_type": "execute_result"
    }
   ],
   "source": [
    "model.evaluate(\n",
    "  x_test,\n",
    "  to_categorical(y_test)\n",
    ")"
   ]
  },
  {
   "cell_type": "code",
   "execution_count": 26,
   "id": "71adaa30",
   "metadata": {},
   "outputs": [
    {
     "name": "stdout",
     "output_type": "stream",
     "text": [
      "[[1.3912170e-12 9.9724966e-01 2.6980040e-03 5.1099018e-05 2.5575587e-14\n",
      "  2.5071345e-14 3.7354795e-09 1.2106638e-06 3.9109999e-10 1.4254603e-10]\n",
      " [1.0000000e+00 2.2286559e-16 6.1875188e-12 1.1742229e-11 3.3046966e-08\n",
      "  1.2559767e-10 7.6030133e-09 6.1360576e-11 1.0888025e-09 7.9056512e-14]\n",
      " [5.1393800e-10 4.4087869e-01 3.2947972e-02 1.2884935e-02 2.1008725e-06\n",
      "  5.1154473e-07 5.9926679e-05 4.1112523e-03 4.6796590e-01 4.1148629e-02]\n",
      " [4.3658126e-04 9.2438171e-07 2.1493687e-08 2.8867268e-07 9.4480924e-02\n",
      "  4.5044453e-05 4.8446629e-09 9.0487635e-01 1.5831593e-04 1.5131744e-06]\n",
      " [9.9999464e-01 1.4973238e-11 1.1403871e-10 2.8967228e-11 5.3025574e-06\n",
      "  6.4769544e-11 1.9565947e-08 8.0424364e-08 4.3317433e-10 1.4634036e-14]\n",
      " [2.0690731e-10 3.5398392e-12 4.4884655e-14 4.8838860e-11 3.3714356e-09\n",
      "  1.6201822e-10 8.4476514e-14 1.7857957e-08 9.9999976e-01 1.7939968e-07]\n",
      " [4.5451829e-01 4.9765345e-01 2.2660486e-06 8.6303335e-05 3.4920916e-02\n",
      "  3.7618573e-03 2.6568875e-08 7.8705000e-03 5.2811974e-04 6.5821852e-04]\n",
      " [1.1873441e-05 2.2815685e-08 2.0807500e-05 1.2994867e-06 3.8243851e-01\n",
      "  3.0201743e-05 4.1085415e-05 6.1707705e-01 3.7873292e-04 3.5799471e-07]\n",
      " [4.0749939e-05 2.4452318e-08 1.3007310e-03 3.5003386e-10 4.9911737e-03\n",
      "  4.4824415e-11 9.7737169e-01 1.6295301e-02 4.0008629e-07 1.9028731e-13]]\n",
      "[1 0 8 7 0 8 1 7 6]\n",
      "Check the truth\n",
      "[1 0 1 7 0 8 1 4 0]\n"
     ]
    }
   ],
   "source": [
    "predictions = model.predict(x_test[0:9])\n",
    "print(predictions)\n",
    "\n",
    "print(np.argmax(predictions, axis=1)) \n",
    "\n",
    "print(\"Check the truth\")\n",
    "print(y_test[0:9])"
   ]
  },
  {
   "cell_type": "code",
   "execution_count": 27,
   "id": "a292c9fa",
   "metadata": {},
   "outputs": [],
   "source": [
    "from sklearn.metrics import classification_report\n",
    "y_pred = model.predict(x_test)"
   ]
  },
  {
   "cell_type": "code",
   "execution_count": 28,
   "id": "0210330c",
   "metadata": {},
   "outputs": [
    {
     "name": "stdout",
     "output_type": "stream",
     "text": [
      "              precision    recall  f1-score   support\n",
      "\n",
      "           0       0.86      0.93      0.89        40\n",
      "           1       0.84      0.82      0.83        44\n",
      "           2       0.84      0.80      0.82        40\n",
      "           3       0.88      0.86      0.87        42\n",
      "           4       0.73      0.64      0.68        42\n",
      "           5       0.87      0.93      0.90        44\n",
      "           6       0.76      0.70      0.73        37\n",
      "           7       0.72      0.81      0.76        42\n",
      "           8       0.81      0.74      0.78        47\n",
      "           9       0.78      0.89      0.83        35\n",
      "\n",
      "    accuracy                           0.81       413\n",
      "   macro avg       0.81      0.81      0.81       413\n",
      "weighted avg       0.81      0.81      0.81       413\n",
      "\n"
     ]
    }
   ],
   "source": [
    "print(classification_report(y_test, y_pred.argmax(axis=1)))"
   ]
  },
  {
   "cell_type": "code",
   "execution_count": null,
   "id": "320e28e9",
   "metadata": {},
   "outputs": [],
   "source": []
  }
 ],
 "metadata": {
  "kernelspec": {
   "display_name": "Python 3",
   "language": "python",
   "name": "python3"
  },
  "language_info": {
   "codemirror_mode": {
    "name": "ipython",
    "version": 3
   },
   "file_extension": ".py",
   "mimetype": "text/x-python",
   "name": "python",
   "nbconvert_exporter": "python",
   "pygments_lexer": "ipython3",
   "version": "3.8.8"
  }
 },
 "nbformat": 4,
 "nbformat_minor": 5
}
