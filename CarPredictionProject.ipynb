{
 "cells": [
  {
   "cell_type": "code",
   "execution_count": 142,
   "id": "61c2fcd7",
   "metadata": {},
   "outputs": [],
   "source": [
    "import pandas as pd\n",
    "import seaborn as sns\n",
    "from sklearn import datasets, linear_model\n",
    "import matplotlib.pyplot as plt\n",
    "import numpy as np\n",
    "import sklearn\n",
    "from sklearn.linear_model import LinearRegression\n",
    "from IPython import display"
   ]
  },
  {
   "cell_type": "code",
   "execution_count": 143,
   "id": "a73094a6",
   "metadata": {},
   "outputs": [
    {
     "name": "stdout",
     "output_type": "stream",
     "text": [
      "\n",
      "Data columns:\n",
      "Index(['car_ID', 'symboling', 'CarName', 'fueltype', 'aspiration',\n",
      "       'doornumber', 'carbody', 'drivewheel', 'enginelocation', 'wheelbase',\n",
      "       'carlength', 'carwidth', 'carheight', 'curbweight', 'enginetype',\n",
      "       'cylindernumber', 'enginesize', 'fuelsystem', 'boreratio', 'stroke',\n",
      "       'compressionratio', 'horsepower', 'peakrpm', 'citympg', 'highwaympg',\n",
      "       'price'],\n",
      "      dtype='object')\n",
      "\n",
      "meta data:\n",
      "     car_ID  symboling                   CarName fueltype aspiration  \\\n",
      "0         1          3        alfa-romero giulia      gas        std   \n",
      "1         2          3       alfa-romero stelvio      gas        std   \n",
      "2         3          1  alfa-romero Quadrifoglio      gas        std   \n",
      "3         4          2               audi 100 ls      gas        std   \n",
      "4         5          2                audi 100ls      gas        std   \n",
      "..      ...        ...                       ...      ...        ...   \n",
      "200     201         -1           volvo 145e (sw)      gas        std   \n",
      "201     202         -1               volvo 144ea      gas      turbo   \n",
      "202     203         -1               volvo 244dl      gas        std   \n",
      "203     204         -1                 volvo 246   diesel      turbo   \n",
      "204     205         -1               volvo 264gl      gas      turbo   \n",
      "\n",
      "    doornumber      carbody drivewheel enginelocation  wheelbase  ...  \\\n",
      "0          two  convertible        rwd          front       88.6  ...   \n",
      "1          two  convertible        rwd          front       88.6  ...   \n",
      "2          two    hatchback        rwd          front       94.5  ...   \n",
      "3         four        sedan        fwd          front       99.8  ...   \n",
      "4         four        sedan        4wd          front       99.4  ...   \n",
      "..         ...          ...        ...            ...        ...  ...   \n",
      "200       four        sedan        rwd          front      109.1  ...   \n",
      "201       four        sedan        rwd          front      109.1  ...   \n",
      "202       four        sedan        rwd          front      109.1  ...   \n",
      "203       four        sedan        rwd          front      109.1  ...   \n",
      "204       four        sedan        rwd          front      109.1  ...   \n",
      "\n",
      "     enginesize  fuelsystem  boreratio  stroke compressionratio horsepower  \\\n",
      "0           130        mpfi       3.47    2.68              9.0        111   \n",
      "1           130        mpfi       3.47    2.68              9.0        111   \n",
      "2           152        mpfi       2.68    3.47              9.0        154   \n",
      "3           109        mpfi       3.19    3.40             10.0        102   \n",
      "4           136        mpfi       3.19    3.40              8.0        115   \n",
      "..          ...         ...        ...     ...              ...        ...   \n",
      "200         141        mpfi       3.78    3.15              9.5        114   \n",
      "201         141        mpfi       3.78    3.15              8.7        160   \n",
      "202         173        mpfi       3.58    2.87              8.8        134   \n",
      "203         145         idi       3.01    3.40             23.0        106   \n",
      "204         141        mpfi       3.78    3.15              9.5        114   \n",
      "\n",
      "     peakrpm citympg  highwaympg    price  \n",
      "0       5000      21          27  13495.0  \n",
      "1       5000      21          27  16500.0  \n",
      "2       5000      19          26  16500.0  \n",
      "3       5500      24          30  13950.0  \n",
      "4       5500      18          22  17450.0  \n",
      "..       ...     ...         ...      ...  \n",
      "200     5400      23          28  16845.0  \n",
      "201     5300      19          25  19045.0  \n",
      "202     5500      18          23  21485.0  \n",
      "203     4800      26          27  22470.0  \n",
      "204     5400      19          25  22625.0  \n",
      "\n",
      "[205 rows x 26 columns]\n"
     ]
    }
   ],
   "source": [
    "import pandas as pd\n",
    "fileName='C:/Users/ihsan/Desktop/A.I/HW_4/CarPrice_Assignment.csv'\n",
    "metaDf=pd.read_csv(fileName)\n",
    "\n",
    "#check columns\n",
    "print('\\nData columns:')\n",
    "print(metaDf.columns)\n",
    "\n",
    "#data head\n",
    "print('\\nmeta data:')\n",
    "print(metaDf)"
   ]
  },
  {
   "cell_type": "code",
   "execution_count": 144,
   "id": "bb177975",
   "metadata": {},
   "outputs": [
    {
     "name": "stdout",
     "output_type": "stream",
     "text": [
      "\n",
      "Data shape:\n",
      "(205, 26)\n",
      "\n",
      "Data columns:\n",
      "Index(['car_ID', 'symboling', 'CarName', 'fueltype', 'aspiration',\n",
      "       'doornumber', 'carbody', 'drivewheel', 'enginelocation', 'wheelbase',\n",
      "       'carlength', 'carwidth', 'carheight', 'curbweight', 'enginetype',\n",
      "       'cylindernumber', 'enginesize', 'fuelsystem', 'boreratio', 'stroke',\n",
      "       'compressionratio', 'horsepower', 'peakrpm', 'citympg', 'highwaympg',\n",
      "       'price'],\n",
      "      dtype='object')\n",
      "\n",
      "Data head:\n",
      "   car_ID  symboling                   CarName fueltype aspiration doornumber  \\\n",
      "0       1          3        alfa-romero giulia      gas        std        two   \n",
      "1       2          3       alfa-romero stelvio      gas        std        two   \n",
      "2       3          1  alfa-romero Quadrifoglio      gas        std        two   \n",
      "3       4          2               audi 100 ls      gas        std       four   \n",
      "4       5          2                audi 100ls      gas        std       four   \n",
      "\n",
      "       carbody drivewheel enginelocation  wheelbase  ...  enginesize  \\\n",
      "0  convertible        rwd          front       88.6  ...         130   \n",
      "1  convertible        rwd          front       88.6  ...         130   \n",
      "2    hatchback        rwd          front       94.5  ...         152   \n",
      "3        sedan        fwd          front       99.8  ...         109   \n",
      "4        sedan        4wd          front       99.4  ...         136   \n",
      "\n",
      "   fuelsystem  boreratio  stroke compressionratio horsepower  peakrpm citympg  \\\n",
      "0        mpfi       3.47    2.68              9.0        111     5000      21   \n",
      "1        mpfi       3.47    2.68              9.0        111     5000      21   \n",
      "2        mpfi       2.68    3.47              9.0        154     5000      19   \n",
      "3        mpfi       3.19    3.40             10.0        102     5500      24   \n",
      "4        mpfi       3.19    3.40              8.0        115     5500      18   \n",
      "\n",
      "   highwaympg    price  \n",
      "0          27  13495.0  \n",
      "1          27  16500.0  \n",
      "2          26  16500.0  \n",
      "3          30  13950.0  \n",
      "4          22  17450.0  \n",
      "\n",
      "[5 rows x 26 columns]\n"
     ]
    }
   ],
   "source": [
    "fileName='C:/Users/ihsan/Desktop/A.I/HW_4/CarPrice_Assignment.csv'\n",
    "inputDf=pd.read_csv(fileName)\n",
    "\n",
    "#data dimension\n",
    "print('\\nData shape:')\n",
    "print(inputDf.shape)\n",
    "\n",
    "#data columns\n",
    "print('\\nData columns:')\n",
    "print(inputDf.columns)\n",
    "\n",
    "#data head\n",
    "print('\\nData head:')\n",
    "print(inputDf.head())"
   ]
  },
  {
   "cell_type": "code",
   "execution_count": 145,
   "id": "b1d714fb",
   "metadata": {},
   "outputs": [
    {
     "name": "stdout",
     "output_type": "stream",
     "text": [
      "<class 'pandas.core.frame.DataFrame'>\n",
      "RangeIndex: 205 entries, 0 to 204\n",
      "Data columns (total 26 columns):\n",
      " #   Column            Non-Null Count  Dtype  \n",
      "---  ------            --------------  -----  \n",
      " 0   car_ID            205 non-null    int64  \n",
      " 1   symboling         205 non-null    int64  \n",
      " 2   CarName           205 non-null    object \n",
      " 3   fueltype          205 non-null    object \n",
      " 4   aspiration        205 non-null    object \n",
      " 5   doornumber        205 non-null    object \n",
      " 6   carbody           205 non-null    object \n",
      " 7   drivewheel        205 non-null    object \n",
      " 8   enginelocation    205 non-null    object \n",
      " 9   wheelbase         205 non-null    float64\n",
      " 10  carlength         205 non-null    float64\n",
      " 11  carwidth          205 non-null    float64\n",
      " 12  carheight         205 non-null    float64\n",
      " 13  curbweight        205 non-null    int64  \n",
      " 14  enginetype        205 non-null    object \n",
      " 15  cylindernumber    205 non-null    object \n",
      " 16  enginesize        205 non-null    int64  \n",
      " 17  fuelsystem        205 non-null    object \n",
      " 18  boreratio         205 non-null    float64\n",
      " 19  stroke            205 non-null    float64\n",
      " 20  compressionratio  205 non-null    float64\n",
      " 21  horsepower        205 non-null    int64  \n",
      " 22  peakrpm           205 non-null    int64  \n",
      " 23  citympg           205 non-null    int64  \n",
      " 24  highwaympg        205 non-null    int64  \n",
      " 25  price             205 non-null    float64\n",
      "dtypes: float64(8), int64(8), object(10)\n",
      "memory usage: 41.8+ KB\n"
     ]
    }
   ],
   "source": [
    "inputDf.info()"
   ]
  },
  {
   "cell_type": "code",
   "execution_count": 146,
   "id": "2163eb94",
   "metadata": {},
   "outputs": [
    {
     "data": {
      "text/html": [
       "<div>\n",
       "<style scoped>\n",
       "    .dataframe tbody tr th:only-of-type {\n",
       "        vertical-align: middle;\n",
       "    }\n",
       "\n",
       "    .dataframe tbody tr th {\n",
       "        vertical-align: top;\n",
       "    }\n",
       "\n",
       "    .dataframe thead th {\n",
       "        text-align: right;\n",
       "    }\n",
       "</style>\n",
       "<table border=\"1\" class=\"dataframe\">\n",
       "  <thead>\n",
       "    <tr style=\"text-align: right;\">\n",
       "      <th></th>\n",
       "      <th>car_ID</th>\n",
       "      <th>symboling</th>\n",
       "      <th>wheelbase</th>\n",
       "      <th>carlength</th>\n",
       "      <th>carwidth</th>\n",
       "      <th>carheight</th>\n",
       "      <th>curbweight</th>\n",
       "      <th>enginesize</th>\n",
       "      <th>boreratio</th>\n",
       "      <th>stroke</th>\n",
       "      <th>compressionratio</th>\n",
       "      <th>horsepower</th>\n",
       "      <th>peakrpm</th>\n",
       "      <th>citympg</th>\n",
       "      <th>highwaympg</th>\n",
       "      <th>price</th>\n",
       "    </tr>\n",
       "  </thead>\n",
       "  <tbody>\n",
       "    <tr>\n",
       "      <th>count</th>\n",
       "      <td>205.000000</td>\n",
       "      <td>205.000000</td>\n",
       "      <td>205.000000</td>\n",
       "      <td>205.000000</td>\n",
       "      <td>205.000000</td>\n",
       "      <td>205.000000</td>\n",
       "      <td>205.000000</td>\n",
       "      <td>205.000000</td>\n",
       "      <td>205.000000</td>\n",
       "      <td>205.000000</td>\n",
       "      <td>205.000000</td>\n",
       "      <td>205.000000</td>\n",
       "      <td>205.000000</td>\n",
       "      <td>205.000000</td>\n",
       "      <td>205.000000</td>\n",
       "      <td>205.000000</td>\n",
       "    </tr>\n",
       "    <tr>\n",
       "      <th>mean</th>\n",
       "      <td>103.000000</td>\n",
       "      <td>0.834146</td>\n",
       "      <td>98.756585</td>\n",
       "      <td>174.049268</td>\n",
       "      <td>65.907805</td>\n",
       "      <td>53.724878</td>\n",
       "      <td>2555.565854</td>\n",
       "      <td>126.907317</td>\n",
       "      <td>3.329756</td>\n",
       "      <td>3.255415</td>\n",
       "      <td>10.142537</td>\n",
       "      <td>104.117073</td>\n",
       "      <td>5125.121951</td>\n",
       "      <td>25.219512</td>\n",
       "      <td>30.751220</td>\n",
       "      <td>13276.710571</td>\n",
       "    </tr>\n",
       "    <tr>\n",
       "      <th>std</th>\n",
       "      <td>59.322565</td>\n",
       "      <td>1.245307</td>\n",
       "      <td>6.021776</td>\n",
       "      <td>12.337289</td>\n",
       "      <td>2.145204</td>\n",
       "      <td>2.443522</td>\n",
       "      <td>520.680204</td>\n",
       "      <td>41.642693</td>\n",
       "      <td>0.270844</td>\n",
       "      <td>0.313597</td>\n",
       "      <td>3.972040</td>\n",
       "      <td>39.544167</td>\n",
       "      <td>476.985643</td>\n",
       "      <td>6.542142</td>\n",
       "      <td>6.886443</td>\n",
       "      <td>7988.852332</td>\n",
       "    </tr>\n",
       "    <tr>\n",
       "      <th>min</th>\n",
       "      <td>1.000000</td>\n",
       "      <td>-2.000000</td>\n",
       "      <td>86.600000</td>\n",
       "      <td>141.100000</td>\n",
       "      <td>60.300000</td>\n",
       "      <td>47.800000</td>\n",
       "      <td>1488.000000</td>\n",
       "      <td>61.000000</td>\n",
       "      <td>2.540000</td>\n",
       "      <td>2.070000</td>\n",
       "      <td>7.000000</td>\n",
       "      <td>48.000000</td>\n",
       "      <td>4150.000000</td>\n",
       "      <td>13.000000</td>\n",
       "      <td>16.000000</td>\n",
       "      <td>5118.000000</td>\n",
       "    </tr>\n",
       "    <tr>\n",
       "      <th>25%</th>\n",
       "      <td>52.000000</td>\n",
       "      <td>0.000000</td>\n",
       "      <td>94.500000</td>\n",
       "      <td>166.300000</td>\n",
       "      <td>64.100000</td>\n",
       "      <td>52.000000</td>\n",
       "      <td>2145.000000</td>\n",
       "      <td>97.000000</td>\n",
       "      <td>3.150000</td>\n",
       "      <td>3.110000</td>\n",
       "      <td>8.600000</td>\n",
       "      <td>70.000000</td>\n",
       "      <td>4800.000000</td>\n",
       "      <td>19.000000</td>\n",
       "      <td>25.000000</td>\n",
       "      <td>7788.000000</td>\n",
       "    </tr>\n",
       "    <tr>\n",
       "      <th>50%</th>\n",
       "      <td>103.000000</td>\n",
       "      <td>1.000000</td>\n",
       "      <td>97.000000</td>\n",
       "      <td>173.200000</td>\n",
       "      <td>65.500000</td>\n",
       "      <td>54.100000</td>\n",
       "      <td>2414.000000</td>\n",
       "      <td>120.000000</td>\n",
       "      <td>3.310000</td>\n",
       "      <td>3.290000</td>\n",
       "      <td>9.000000</td>\n",
       "      <td>95.000000</td>\n",
       "      <td>5200.000000</td>\n",
       "      <td>24.000000</td>\n",
       "      <td>30.000000</td>\n",
       "      <td>10295.000000</td>\n",
       "    </tr>\n",
       "    <tr>\n",
       "      <th>75%</th>\n",
       "      <td>154.000000</td>\n",
       "      <td>2.000000</td>\n",
       "      <td>102.400000</td>\n",
       "      <td>183.100000</td>\n",
       "      <td>66.900000</td>\n",
       "      <td>55.500000</td>\n",
       "      <td>2935.000000</td>\n",
       "      <td>141.000000</td>\n",
       "      <td>3.580000</td>\n",
       "      <td>3.410000</td>\n",
       "      <td>9.400000</td>\n",
       "      <td>116.000000</td>\n",
       "      <td>5500.000000</td>\n",
       "      <td>30.000000</td>\n",
       "      <td>34.000000</td>\n",
       "      <td>16503.000000</td>\n",
       "    </tr>\n",
       "    <tr>\n",
       "      <th>max</th>\n",
       "      <td>205.000000</td>\n",
       "      <td>3.000000</td>\n",
       "      <td>120.900000</td>\n",
       "      <td>208.100000</td>\n",
       "      <td>72.300000</td>\n",
       "      <td>59.800000</td>\n",
       "      <td>4066.000000</td>\n",
       "      <td>326.000000</td>\n",
       "      <td>3.940000</td>\n",
       "      <td>4.170000</td>\n",
       "      <td>23.000000</td>\n",
       "      <td>288.000000</td>\n",
       "      <td>6600.000000</td>\n",
       "      <td>49.000000</td>\n",
       "      <td>54.000000</td>\n",
       "      <td>45400.000000</td>\n",
       "    </tr>\n",
       "  </tbody>\n",
       "</table>\n",
       "</div>"
      ],
      "text/plain": [
       "           car_ID   symboling   wheelbase   carlength    carwidth   carheight  \\\n",
       "count  205.000000  205.000000  205.000000  205.000000  205.000000  205.000000   \n",
       "mean   103.000000    0.834146   98.756585  174.049268   65.907805   53.724878   \n",
       "std     59.322565    1.245307    6.021776   12.337289    2.145204    2.443522   \n",
       "min      1.000000   -2.000000   86.600000  141.100000   60.300000   47.800000   \n",
       "25%     52.000000    0.000000   94.500000  166.300000   64.100000   52.000000   \n",
       "50%    103.000000    1.000000   97.000000  173.200000   65.500000   54.100000   \n",
       "75%    154.000000    2.000000  102.400000  183.100000   66.900000   55.500000   \n",
       "max    205.000000    3.000000  120.900000  208.100000   72.300000   59.800000   \n",
       "\n",
       "        curbweight  enginesize   boreratio      stroke  compressionratio  \\\n",
       "count   205.000000  205.000000  205.000000  205.000000        205.000000   \n",
       "mean   2555.565854  126.907317    3.329756    3.255415         10.142537   \n",
       "std     520.680204   41.642693    0.270844    0.313597          3.972040   \n",
       "min    1488.000000   61.000000    2.540000    2.070000          7.000000   \n",
       "25%    2145.000000   97.000000    3.150000    3.110000          8.600000   \n",
       "50%    2414.000000  120.000000    3.310000    3.290000          9.000000   \n",
       "75%    2935.000000  141.000000    3.580000    3.410000          9.400000   \n",
       "max    4066.000000  326.000000    3.940000    4.170000         23.000000   \n",
       "\n",
       "       horsepower      peakrpm     citympg  highwaympg         price  \n",
       "count  205.000000   205.000000  205.000000  205.000000    205.000000  \n",
       "mean   104.117073  5125.121951   25.219512   30.751220  13276.710571  \n",
       "std     39.544167   476.985643    6.542142    6.886443   7988.852332  \n",
       "min     48.000000  4150.000000   13.000000   16.000000   5118.000000  \n",
       "25%     70.000000  4800.000000   19.000000   25.000000   7788.000000  \n",
       "50%     95.000000  5200.000000   24.000000   30.000000  10295.000000  \n",
       "75%    116.000000  5500.000000   30.000000   34.000000  16503.000000  \n",
       "max    288.000000  6600.000000   49.000000   54.000000  45400.000000  "
      ]
     },
     "execution_count": 146,
     "metadata": {},
     "output_type": "execute_result"
    }
   ],
   "source": [
    "inputDf.describe()"
   ]
  },
  {
   "cell_type": "code",
   "execution_count": 147,
   "id": "ffef1834",
   "metadata": {},
   "outputs": [
    {
     "data": {
      "image/png": "[encoded data removed]",
      "text/plain": [
       "<Figure size 1440x720 with 16 Axes>"
      ]
     },
     "metadata": {
      "needs_background": "light"
     },
     "output_type": "display_data"
    }
   ],
   "source": [
    "import matplotlib.pyplot as plt\n",
    "import seaborn as sns\n",
    "\n",
    "numinputDf=inputDf.select_dtypes(include=[\"float64\", 'int64']) \n",
    "\n",
    "fig, axs = plt.subplots(ncols=8, nrows=2, figsize=(20, 10))\n",
    "index = 0\n",
    "axs = axs.flatten()\n",
    "for k,v in numinputDf.items():\n",
    "    sns.boxplot(y=k, data=numinputDf, ax=axs[index])\n",
    "    index += 1\n",
    "plt.tight_layout(pad=0.4, w_pad=0.5, h_pad=5.0)"
   ]
  },
  {
   "cell_type": "code",
   "execution_count": 148,
   "id": "a5bb77ca",
   "metadata": {},
   "outputs": [
    {
     "data": {
      "image/png": "[encoded data removed]",
      "text/plain": [
       "<Figure size 1440x720 with 28 Axes>"
      ]
     },
     "metadata": {
      "needs_background": "light"
     },
     "output_type": "display_data"
    }
   ],
   "source": [
    "fig, axs = plt.subplots(ncols=7, nrows=4, figsize=(20, 10))\n",
    "index = 0\n",
    "axs = axs.flatten()\n",
    "for k,v in inputDf.items():\n",
    "    #sns.displot(v, ax=axs[index])\n",
    "    sns.histplot(x=k, data=inputDf, kde=True, ax=axs[index])\n",
    "    index += 1\n",
    "plt.tight_layout(pad=0.4, w_pad=0.5, h_pad=5.0)"
   ]
  },
  {
   "cell_type": "code",
   "execution_count": 149,
   "id": "673a4faf",
   "metadata": {},
   "outputs": [
    {
     "data": {
      "image/png": "[encoded data removed]",
      "text/plain": [
       "<Figure size 432x288 with 1 Axes>"
      ]
     },
     "metadata": {
      "needs_background": "light"
     },
     "output_type": "display_data"
    },
    {
     "data": {
      "image/png": "[encoded data removed]",
      "text/plain": [
       "<Figure size 432x288 with 1 Axes>"
      ]
     },
     "metadata": {
      "needs_background": "light"
     },
     "output_type": "display_data"
    }
   ],
   "source": [
    "plt.scatter(inputDf.horsepower, inputDf.price)\n",
    "plt.xlabel(\"HorsePower\")\n",
    "plt.ylabel(\"Car Price\")\n",
    "plt.title(\"Relationship between HorsePower and Car Price\")\n",
    "plt.show()\n",
    "\n",
    "plt.scatter(inputDf.citympg, inputDf.price)\n",
    "plt.xlabel(\"Citymapg\")\n",
    "plt.ylabel(\"Car Price\")\n",
    "plt.title(\"Relationship between citympg and Car Price\")\n",
    "plt.show()"
   ]
  },
  {
   "cell_type": "code",
   "execution_count": 150,
   "id": "7bccffa3",
   "metadata": {},
   "outputs": [
    {
     "name": "stdout",
     "output_type": "stream",
     "text": [
      "Num of points: 6\n"
     ]
    }
   ],
   "source": [
    "numPoints=6\n",
    "print('Num of points:', numPoints)"
   ]
  },
  {
   "cell_type": "code",
   "execution_count": 151,
   "id": "1664ba84",
   "metadata": {},
   "outputs": [
    {
     "data": {
      "text/plain": [
       "LinearRegression()"
      ]
     },
     "execution_count": 151,
     "metadata": {},
     "output_type": "execute_result"
    }
   ],
   "source": [
    "from sklearn.linear_model import LinearRegression\n",
    "lm = LinearRegression()\n",
    "lm"
   ]
  },
  {
   "cell_type": "code",
   "execution_count": 152,
   "id": "5df911f7",
   "metadata": {},
   "outputs": [
    {
     "name": "stdout",
     "output_type": "stream",
     "text": [
      "<class 'pandas.core.series.Series'>\n",
      "<class 'numpy.ndarray'>\n"
     ]
    }
   ],
   "source": [
    "type ( inputDf.horsepower )\n",
    "X= inputDf.horsepower\n",
    "print( type(X) )\n",
    "X= X.values.reshape(-1, 1)\n",
    "print (type(X))"
   ]
  },
  {
   "cell_type": "code",
   "execution_count": 153,
   "id": "69c3bfb0",
   "metadata": {},
   "outputs": [
    {
     "data": {
      "text/plain": [
       "pandas.core.series.Series"
      ]
     },
     "execution_count": 153,
     "metadata": {},
     "output_type": "execute_result"
    }
   ],
   "source": [
    "Y= inputDf.price\n",
    "type(Y)"
   ]
  },
  {
   "cell_type": "code",
   "execution_count": 154,
   "id": "03484e07",
   "metadata": {},
   "outputs": [
    {
     "data": {
      "text/plain": [
       "LinearRegression()"
      ]
     },
     "execution_count": 154,
     "metadata": {},
     "output_type": "execute_result"
    }
   ],
   "source": [
    "lm.fit(X,Y)"
   ]
  },
  {
   "cell_type": "code",
   "execution_count": 155,
   "id": "5fb0024c",
   "metadata": {},
   "outputs": [
    {
     "data": {
      "text/plain": [
       "array([163.26306097])"
      ]
     },
     "execution_count": 155,
     "metadata": {},
     "output_type": "execute_result"
    }
   ],
   "source": [
    "lm.coef_"
   ]
  },
  {
   "cell_type": "code",
   "execution_count": 156,
   "id": "677fd133",
   "metadata": {},
   "outputs": [
    {
     "data": {
      "text/plain": [
       "-3721.76149432276"
      ]
     },
     "execution_count": 156,
     "metadata": {},
     "output_type": "execute_result"
    }
   ],
   "source": [
    "lm.intercept_"
   ]
  },
  {
   "cell_type": "code",
   "execution_count": 157,
   "id": "76ba0777",
   "metadata": {},
   "outputs": [
    {
     "data": {
      "text/plain": [
       "array([14400.43827331, 14400.43827331, 21420.749895  , 12931.07072458,\n",
       "       15053.49051719, 14237.17521234])"
      ]
     },
     "execution_count": 157,
     "metadata": {},
     "output_type": "execute_result"
    }
   ],
   "source": [
    "lm.predict(X)[0:numPoints]"
   ]
  },
  {
   "cell_type": "code",
   "execution_count": 158,
   "id": "0540cccf",
   "metadata": {},
   "outputs": [
    {
     "data": {
      "image/png": "[encoded data removed]",
      "text/plain": [
       "<Figure size 432x288 with 1 Axes>"
      ]
     },
     "metadata": {
      "needs_background": "light"
     },
     "output_type": "display_data"
    }
   ],
   "source": [
    "plt.scatter (inputDf.price[0:numPoints], lm.predict(X)[0:numPoints])\n",
    "plt.xlabel(\"Price: $Y_i$\")\n",
    "plt.ylabel(\"Predicted prices: $\\hat{Y}_i$\")\n",
    "plt.title(\"Prices VS Predicted Prices\")\n",
    "plt.show()"
   ]
  },
  {
   "cell_type": "code",
   "execution_count": 159,
   "id": "5cc45c8c",
   "metadata": {},
   "outputs": [
    {
     "data": {
      "text/plain": [
       "Text(0.5, 1.0, 'Car prices vs predicted prices:Blue is Y and red is $\\\\hat{Y}$')"
      ]
     },
     "execution_count": 159,
     "metadata": {},
     "output_type": "execute_result"
    },
    {
     "data": {
      "image/png": "[encoded data removed]",
      "text/plain": [
       "<Figure size 432x288 with 1 Axes>"
      ]
     },
     "metadata": {
      "needs_background": "light"
     },
     "output_type": "display_data"
    }
   ],
   "source": [
    "carIds = list(range(1,numPoints+1))\n",
    "\n",
    "fig, axs = plt.subplots(ncols=1, nrows=1)\n",
    "for i in range(len(carIds)):\n",
    "    axs.plot([i+1,i+1],[lm.predict(X)[i], inputDf.price[i]], color=\"g\", linewidth=0.5, )\n",
    "\n",
    "plt.scatter( carIds,inputDf.price[0:numPoints],color='blue')\n",
    "plt.scatter( carIds,lm.predict(X)[0:numPoints],color='red')\n",
    "plt.xlabel(\"Cars\")\n",
    "plt.ylabel(\"Price\")\n",
    "plt.title(\"Car prices vs predicted prices:Blue is Y and red is $\\\\hat{Y}$\")"
   ]
  },
  {
   "cell_type": "code",
   "execution_count": 160,
   "id": "c9750b22",
   "metadata": {},
   "outputs": [
    {
     "name": "stdout",
     "output_type": "stream",
     "text": [
      "(145, 1)\n",
      "(60, 1)\n",
      "(145,)\n",
      "(60,)\n"
     ]
    }
   ],
   "source": [
    "X_data_train = X[:-60]\n",
    "X_data_test = X[-60:]\n",
    "Y_data_train = inputDf.price[:-60]\n",
    "Y_data_test = inputDf.price[-60:]\n",
    "print (X_data_train.shape)\n",
    "print (X_data_test.shape)\n",
    "print (Y_data_train.shape)\n",
    "print (Y_data_test.shape)"
   ]
  },
  {
   "cell_type": "code",
   "execution_count": 161,
   "id": "e194ae61",
   "metadata": {},
   "outputs": [
    {
     "name": "stdout",
     "output_type": "stream",
     "text": [
      "finished fitting\n"
     ]
    }
   ],
   "source": [
    "lm = LinearRegression()\n",
    "lm.fit(X_data_train, Y_data_train)\n",
    "pred_data_train = lm.predict(X_data_train)\n",
    "print('finished fitting')"
   ]
  },
  {
   "cell_type": "code",
   "execution_count": 162,
   "id": "b4f17c78",
   "metadata": {},
   "outputs": [
    {
     "name": "stdout",
     "output_type": "stream",
     "text": [
      "Finsihed testing\n"
     ]
    }
   ],
   "source": [
    "pred_data_test = lm.predict(X_data_test)\n",
    "print('Finsihed testing')"
   ]
  },
  {
   "cell_type": "code",
   "execution_count": 163,
   "id": "795e422b",
   "metadata": {},
   "outputs": [
    {
     "data": {
      "text/html": [
       "<div>\n",
       "<style scoped>\n",
       "    .dataframe tbody tr th:only-of-type {\n",
       "        vertical-align: middle;\n",
       "    }\n",
       "\n",
       "    .dataframe tbody tr th {\n",
       "        vertical-align: top;\n",
       "    }\n",
       "\n",
       "    .dataframe thead th {\n",
       "        text-align: right;\n",
       "    }\n",
       "</style>\n",
       "<table border=\"1\" class=\"dataframe\">\n",
       "  <thead>\n",
       "    <tr style=\"text-align: right;\">\n",
       "      <th></th>\n",
       "      <th>Actual price</th>\n",
       "      <th>Predicted price</th>\n",
       "    </tr>\n",
       "  </thead>\n",
       "  <tbody>\n",
       "    <tr>\n",
       "      <th>145</th>\n",
       "      <td>11259.0</td>\n",
       "      <td>14749.407471</td>\n",
       "    </tr>\n",
       "    <tr>\n",
       "      <th>146</th>\n",
       "      <td>7463.0</td>\n",
       "      <td>9681.324731</td>\n",
       "    </tr>\n",
       "    <tr>\n",
       "      <th>147</th>\n",
       "      <td>10198.0</td>\n",
       "      <td>11778.462416</td>\n",
       "    </tr>\n",
       "    <tr>\n",
       "      <th>148</th>\n",
       "      <td>8013.0</td>\n",
       "      <td>9681.324731</td>\n",
       "    </tr>\n",
       "    <tr>\n",
       "      <th>149</th>\n",
       "      <td>11694.0</td>\n",
       "      <td>14749.407471</td>\n",
       "    </tr>\n",
       "    <tr>\n",
       "      <th>150</th>\n",
       "      <td>5348.0</td>\n",
       "      <td>6186.095255</td>\n",
       "    </tr>\n",
       "    <tr>\n",
       "      <th>151</th>\n",
       "      <td>6338.0</td>\n",
       "      <td>6186.095255</td>\n",
       "    </tr>\n",
       "    <tr>\n",
       "      <th>152</th>\n",
       "      <td>6488.0</td>\n",
       "      <td>6186.095255</td>\n",
       "    </tr>\n",
       "    <tr>\n",
       "      <th>153</th>\n",
       "      <td>6918.0</td>\n",
       "      <td>6186.095255</td>\n",
       "    </tr>\n",
       "    <tr>\n",
       "      <th>154</th>\n",
       "      <td>7898.0</td>\n",
       "      <td>6186.095255</td>\n",
       "    </tr>\n",
       "    <tr>\n",
       "      <th>155</th>\n",
       "      <td>8778.0</td>\n",
       "      <td>6186.095255</td>\n",
       "    </tr>\n",
       "    <tr>\n",
       "      <th>156</th>\n",
       "      <td>6938.0</td>\n",
       "      <td>7584.187046</td>\n",
       "    </tr>\n",
       "    <tr>\n",
       "      <th>157</th>\n",
       "      <td>7198.0</td>\n",
       "      <td>7584.187046</td>\n",
       "    </tr>\n",
       "    <tr>\n",
       "      <th>158</th>\n",
       "      <td>7898.0</td>\n",
       "      <td>5137.526412</td>\n",
       "    </tr>\n",
       "    <tr>\n",
       "      <th>159</th>\n",
       "      <td>7788.0</td>\n",
       "      <td>5137.526412</td>\n",
       "    </tr>\n",
       "    <tr>\n",
       "      <th>160</th>\n",
       "      <td>7738.0</td>\n",
       "      <td>7584.187046</td>\n",
       "    </tr>\n",
       "    <tr>\n",
       "      <th>161</th>\n",
       "      <td>8358.0</td>\n",
       "      <td>7584.187046</td>\n",
       "    </tr>\n",
       "    <tr>\n",
       "      <th>162</th>\n",
       "      <td>9258.0</td>\n",
       "      <td>7584.187046</td>\n",
       "    </tr>\n",
       "    <tr>\n",
       "      <th>163</th>\n",
       "      <td>8058.0</td>\n",
       "      <td>7584.187046</td>\n",
       "    </tr>\n",
       "    <tr>\n",
       "      <th>164</th>\n",
       "      <td>8238.0</td>\n",
       "      <td>7584.187046</td>\n",
       "    </tr>\n",
       "    <tr>\n",
       "      <th>165</th>\n",
       "      <td>9298.0</td>\n",
       "      <td>14924.168945</td>\n",
       "    </tr>\n",
       "    <tr>\n",
       "      <th>166</th>\n",
       "      <td>9538.0</td>\n",
       "      <td>14924.168945</td>\n",
       "    </tr>\n",
       "    <tr>\n",
       "      <th>167</th>\n",
       "      <td>8449.0</td>\n",
       "      <td>15623.214840</td>\n",
       "    </tr>\n",
       "    <tr>\n",
       "      <th>168</th>\n",
       "      <td>9639.0</td>\n",
       "      <td>15623.214840</td>\n",
       "    </tr>\n",
       "    <tr>\n",
       "      <th>169</th>\n",
       "      <td>9989.0</td>\n",
       "      <td>15623.214840</td>\n",
       "    </tr>\n",
       "    <tr>\n",
       "      <th>170</th>\n",
       "      <td>11199.0</td>\n",
       "      <td>15623.214840</td>\n",
       "    </tr>\n",
       "    <tr>\n",
       "      <th>171</th>\n",
       "      <td>11549.0</td>\n",
       "      <td>15623.214840</td>\n",
       "    </tr>\n",
       "    <tr>\n",
       "      <th>172</th>\n",
       "      <td>17669.0</td>\n",
       "      <td>15623.214840</td>\n",
       "    </tr>\n",
       "    <tr>\n",
       "      <th>173</th>\n",
       "      <td>8948.0</td>\n",
       "      <td>11428.939469</td>\n",
       "    </tr>\n",
       "    <tr>\n",
       "      <th>174</th>\n",
       "      <td>10698.0</td>\n",
       "      <td>8108.471467</td>\n",
       "    </tr>\n",
       "    <tr>\n",
       "      <th>175</th>\n",
       "      <td>9988.0</td>\n",
       "      <td>11428.939469</td>\n",
       "    </tr>\n",
       "    <tr>\n",
       "      <th>176</th>\n",
       "      <td>10898.0</td>\n",
       "      <td>11428.939469</td>\n",
       "    </tr>\n",
       "    <tr>\n",
       "      <th>177</th>\n",
       "      <td>11248.0</td>\n",
       "      <td>11428.939469</td>\n",
       "    </tr>\n",
       "    <tr>\n",
       "      <th>178</th>\n",
       "      <td>16558.0</td>\n",
       "      <td>23487.481160</td>\n",
       "    </tr>\n",
       "    <tr>\n",
       "      <th>179</th>\n",
       "      <td>15998.0</td>\n",
       "      <td>23487.481160</td>\n",
       "    </tr>\n",
       "    <tr>\n",
       "      <th>180</th>\n",
       "      <td>15690.0</td>\n",
       "      <td>22613.673791</td>\n",
       "    </tr>\n",
       "    <tr>\n",
       "      <th>181</th>\n",
       "      <td>15750.0</td>\n",
       "      <td>22613.673791</td>\n",
       "    </tr>\n",
       "    <tr>\n",
       "      <th>182</th>\n",
       "      <td>7775.0</td>\n",
       "      <td>4438.480517</td>\n",
       "    </tr>\n",
       "    <tr>\n",
       "      <th>183</th>\n",
       "      <td>7975.0</td>\n",
       "      <td>10205.609152</td>\n",
       "    </tr>\n",
       "    <tr>\n",
       "      <th>184</th>\n",
       "      <td>7995.0</td>\n",
       "      <td>4438.480517</td>\n",
       "    </tr>\n",
       "    <tr>\n",
       "      <th>185</th>\n",
       "      <td>8195.0</td>\n",
       "      <td>10205.609152</td>\n",
       "    </tr>\n",
       "    <tr>\n",
       "      <th>186</th>\n",
       "      <td>8495.0</td>\n",
       "      <td>10205.609152</td>\n",
       "    </tr>\n",
       "    <tr>\n",
       "      <th>187</th>\n",
       "      <td>9495.0</td>\n",
       "      <td>7234.664098</td>\n",
       "    </tr>\n",
       "    <tr>\n",
       "      <th>188</th>\n",
       "      <td>9995.0</td>\n",
       "      <td>12827.031259</td>\n",
       "    </tr>\n",
       "    <tr>\n",
       "      <th>189</th>\n",
       "      <td>11595.0</td>\n",
       "      <td>11079.416521</td>\n",
       "    </tr>\n",
       "    <tr>\n",
       "      <th>190</th>\n",
       "      <td>9980.0</td>\n",
       "      <td>11079.416521</td>\n",
       "    </tr>\n",
       "    <tr>\n",
       "      <th>191</th>\n",
       "      <td>13295.0</td>\n",
       "      <td>14574.645997</td>\n",
       "    </tr>\n",
       "    <tr>\n",
       "      <th>192</th>\n",
       "      <td>13845.0</td>\n",
       "      <td>7234.664098</td>\n",
       "    </tr>\n",
       "    <tr>\n",
       "      <th>193</th>\n",
       "      <td>12290.0</td>\n",
       "      <td>10729.893574</td>\n",
       "    </tr>\n",
       "    <tr>\n",
       "      <th>194</th>\n",
       "      <td>12940.0</td>\n",
       "      <td>15273.691892</td>\n",
       "    </tr>\n",
       "    <tr>\n",
       "      <th>195</th>\n",
       "      <td>13415.0</td>\n",
       "      <td>15273.691892</td>\n",
       "    </tr>\n",
       "    <tr>\n",
       "      <th>196</th>\n",
       "      <td>15985.0</td>\n",
       "      <td>15273.691892</td>\n",
       "    </tr>\n",
       "    <tr>\n",
       "      <th>197</th>\n",
       "      <td>16515.0</td>\n",
       "      <td>15273.691892</td>\n",
       "    </tr>\n",
       "    <tr>\n",
       "      <th>198</th>\n",
       "      <td>18420.0</td>\n",
       "      <td>23662.242634</td>\n",
       "    </tr>\n",
       "    <tr>\n",
       "      <th>199</th>\n",
       "      <td>18950.0</td>\n",
       "      <td>23662.242634</td>\n",
       "    </tr>\n",
       "    <tr>\n",
       "      <th>200</th>\n",
       "      <td>16845.0</td>\n",
       "      <td>15273.691892</td>\n",
       "    </tr>\n",
       "    <tr>\n",
       "      <th>201</th>\n",
       "      <td>19045.0</td>\n",
       "      <td>23312.719686</td>\n",
       "    </tr>\n",
       "    <tr>\n",
       "      <th>202</th>\n",
       "      <td>21485.0</td>\n",
       "      <td>18768.921368</td>\n",
       "    </tr>\n",
       "    <tr>\n",
       "      <th>203</th>\n",
       "      <td>22470.0</td>\n",
       "      <td>13875.600102</td>\n",
       "    </tr>\n",
       "    <tr>\n",
       "      <th>204</th>\n",
       "      <td>22625.0</td>\n",
       "      <td>15273.691892</td>\n",
       "    </tr>\n",
       "  </tbody>\n",
       "</table>\n",
       "</div>"
      ],
      "text/plain": [
       "     Actual price  Predicted price\n",
       "145       11259.0     14749.407471\n",
       "146        7463.0      9681.324731\n",
       "147       10198.0     11778.462416\n",
       "148        8013.0      9681.324731\n",
       "149       11694.0     14749.407471\n",
       "150        5348.0      6186.095255\n",
       "151        6338.0      6186.095255\n",
       "152        6488.0      6186.095255\n",
       "153        6918.0      6186.095255\n",
       "154        7898.0      6186.095255\n",
       "155        8778.0      6186.095255\n",
       "156        6938.0      7584.187046\n",
       "157        7198.0      7584.187046\n",
       "158        7898.0      5137.526412\n",
       "159        7788.0      5137.526412\n",
       "160        7738.0      7584.187046\n",
       "161        8358.0      7584.187046\n",
       "162        9258.0      7584.187046\n",
       "163        8058.0      7584.187046\n",
       "164        8238.0      7584.187046\n",
       "165        9298.0     14924.168945\n",
       "166        9538.0     14924.168945\n",
       "167        8449.0     15623.214840\n",
       "168        9639.0     15623.214840\n",
       "169        9989.0     15623.214840\n",
       "170       11199.0     15623.214840\n",
       "171       11549.0     15623.214840\n",
       "172       17669.0     15623.214840\n",
       "173        8948.0     11428.939469\n",
       "174       10698.0      8108.471467\n",
       "175        9988.0     11428.939469\n",
       "176       10898.0     11428.939469\n",
       "177       11248.0     11428.939469\n",
       "178       16558.0     23487.481160\n",
       "179       15998.0     23487.481160\n",
       "180       15690.0     22613.673791\n",
       "181       15750.0     22613.673791\n",
       "182        7775.0      4438.480517\n",
       "183        7975.0     10205.609152\n",
       "184        7995.0      4438.480517\n",
       "185        8195.0     10205.609152\n",
       "186        8495.0     10205.609152\n",
       "187        9495.0      7234.664098\n",
       "188        9995.0     12827.031259\n",
       "189       11595.0     11079.416521\n",
       "190        9980.0     11079.416521\n",
       "191       13295.0     14574.645997\n",
       "192       13845.0      7234.664098\n",
       "193       12290.0     10729.893574\n",
       "194       12940.0     15273.691892\n",
       "195       13415.0     15273.691892\n",
       "196       15985.0     15273.691892\n",
       "197       16515.0     15273.691892\n",
       "198       18420.0     23662.242634\n",
       "199       18950.0     23662.242634\n",
       "200       16845.0     15273.691892\n",
       "201       19045.0     23312.719686\n",
       "202       21485.0     18768.921368\n",
       "203       22470.0     13875.600102\n",
       "204       22625.0     15273.691892"
      ]
     },
     "execution_count": 163,
     "metadata": {},
     "output_type": "execute_result"
    }
   ],
   "source": [
    "df = pd.DataFrame({'Actual price': Y_data_test, 'Predicted price': pred_data_test})\n",
    "df"
   ]
  },
  {
   "cell_type": "code",
   "execution_count": 164,
   "id": "a9509b43",
   "metadata": {},
   "outputs": [
    {
     "name": "stdout",
     "output_type": "stream",
     "text": [
      "Mean Absolute Error: 2898.239116787258\n",
      "Mean Squared Error: 13519371.370383428\n",
      "Root Mean Squared Error: 3676.8697788177687\n"
     ]
    }
   ],
   "source": [
    "from sklearn import metrics as MT\n",
    "import numpy as np\n",
    "print (\"Mean Absolute Error:\", MT.mean_absolute_error(Y_data_test,pred_data_test))\n",
    "print (\"Mean Squared Error:\", MT.mean_squared_error(Y_data_test,pred_data_test))\n",
    "print (\"Root Mean Squared Error:\",np.sqrt(MT.mean_squared_error(Y_data_test,pred_data_test)))"
   ]
  },
  {
   "cell_type": "code",
   "execution_count": 165,
   "id": "d49a769e",
   "metadata": {},
   "outputs": [
    {
     "name": "stdout",
     "output_type": "stream",
     "text": [
      "<class 'pandas.core.series.Series'>\n",
      "<class 'numpy.ndarray'>\n"
     ]
    }
   ],
   "source": [
    "type ( inputDf.citympg )\n",
    "A= inputDf.citympg\n",
    "print( type(A) )\n",
    "A= A.values.reshape(-1, 1)\n",
    "print (type(A))"
   ]
  },
  {
   "cell_type": "code",
   "execution_count": 166,
   "id": "0ad2220a",
   "metadata": {},
   "outputs": [
    {
     "data": {
      "text/plain": [
       "pandas.core.series.Series"
      ]
     },
     "execution_count": 166,
     "metadata": {},
     "output_type": "execute_result"
    }
   ],
   "source": [
    "B= inputDf.price\n",
    "type(B)"
   ]
  },
  {
   "cell_type": "code",
   "execution_count": 167,
   "id": "e70e87ba",
   "metadata": {},
   "outputs": [
    {
     "data": {
      "text/plain": [
       "LinearRegression()"
      ]
     },
     "execution_count": 167,
     "metadata": {},
     "output_type": "execute_result"
    }
   ],
   "source": [
    "lm.fit(A,B)"
   ]
  },
  {
   "cell_type": "code",
   "execution_count": 168,
   "id": "fae42afc",
   "metadata": {},
   "outputs": [
    {
     "data": {
      "text/plain": [
       "array([-837.39644453])"
      ]
     },
     "execution_count": 168,
     "metadata": {},
     "output_type": "execute_result"
    }
   ],
   "source": [
    "lm.coef_"
   ]
  },
  {
   "cell_type": "code",
   "execution_count": 169,
   "id": "4702ca27",
   "metadata": {},
   "outputs": [
    {
     "data": {
      "text/plain": [
       "34395.44041563233"
      ]
     },
     "execution_count": 169,
     "metadata": {},
     "output_type": "execute_result"
    }
   ],
   "source": [
    "lm.intercept_"
   ]
  },
  {
   "cell_type": "code",
   "execution_count": 170,
   "id": "67ed477f",
   "metadata": {},
   "outputs": [
    {
     "data": {
      "text/plain": [
       "array([16810.11508057, 16810.11508057, 18484.90796962, 14297.92574698,\n",
       "       19322.30441415, 18484.90796962])"
      ]
     },
     "execution_count": 170,
     "metadata": {},
     "output_type": "execute_result"
    }
   ],
   "source": [
    "lm.predict(A)[0:numPoints]"
   ]
  },
  {
   "cell_type": "code",
   "execution_count": 171,
   "id": "deb53c31",
   "metadata": {},
   "outputs": [
    {
     "data": {
      "image/png": "[encoded data removed]",
      "text/plain": [
       "<Figure size 432x288 with 1 Axes>"
      ]
     },
     "metadata": {
      "needs_background": "light"
     },
     "output_type": "display_data"
    }
   ],
   "source": [
    "plt.scatter (inputDf.price[0:numPoints], lm.predict(X)[0:numPoints])\n",
    "plt.xlabel(\"Price: $B_i$\")\n",
    "plt.ylabel(\"Predicted prices: $\\hat{B}_i$\")\n",
    "plt.title(\"Prices VS Predicted Prices\")\n",
    "plt.show()"
   ]
  },
  {
   "cell_type": "code",
   "execution_count": 172,
   "id": "5a6d0c82",
   "metadata": {},
   "outputs": [
    {
     "data": {
      "text/plain": [
       "Text(0.5, 1.0, 'Car prices vs predicted prices:Blue is B and red is $\\\\hat{B}$')"
      ]
     },
     "execution_count": 172,
     "metadata": {},
     "output_type": "execute_result"
    },
    {
     "data": {
      "image/png": "[encoded data removed]",
      "text/plain": [
       "<Figure size 432x288 with 1 Axes>"
      ]
     },
     "metadata": {
      "needs_background": "light"
     },
     "output_type": "display_data"
    }
   ],
   "source": [
    "carId = list(range(1,numPoints+1))\n",
    "\n",
    "fig, axs = plt.subplots(ncols=1, nrows=1)\n",
    "for i in range(len(carIds)):\n",
    "    axs.plot([i+1,i+1],[lm.predict(A)[i], inputDf.price[i]], color=\"g\", linewidth=0.5, )\n",
    "\n",
    "plt.scatter( carId,inputDf.price[0:numPoints],color='blue')\n",
    "plt.scatter( carId,lm.predict(A)[0:numPoints],color='red')\n",
    "plt.xlabel(\"Cars\")\n",
    "plt.ylabel(\"Price\")\n",
    "plt.title(\"Car prices vs predicted prices:Blue is B and red is $\\\\hat{B}$\")"
   ]
  },
  {
   "cell_type": "code",
   "execution_count": 173,
   "id": "cb5d5cbf",
   "metadata": {},
   "outputs": [
    {
     "name": "stdout",
     "output_type": "stream",
     "text": [
      "(145, 1)\n",
      "(60, 1)\n",
      "(145,)\n",
      "(60,)\n"
     ]
    }
   ],
   "source": [
    "A_data_train = A[:-60]\n",
    "A_data_test = A[-60:]\n",
    "B_data_train = inputDf.price[:-60]\n",
    "B_data_test = inputDf.price[-60:]\n",
    "print (A_data_train.shape)\n",
    "print (A_data_test.shape)\n",
    "print (B_data_train.shape)\n",
    "print (B_data_test.shape)"
   ]
  },
  {
   "cell_type": "code",
   "execution_count": 174,
   "id": "7265c9b7",
   "metadata": {},
   "outputs": [
    {
     "name": "stdout",
     "output_type": "stream",
     "text": [
      "finished fitting\n"
     ]
    }
   ],
   "source": [
    "lm = LinearRegression()\n",
    "lm.fit(A_data_train, B_data_train)\n",
    "pre_data_train = lm.predict(A_data_train)\n",
    "print('finished fitting')"
   ]
  },
  {
   "cell_type": "code",
   "execution_count": 175,
   "id": "8dcd91f6",
   "metadata": {},
   "outputs": [
    {
     "name": "stdout",
     "output_type": "stream",
     "text": [
      "Finsihed testing\n"
     ]
    }
   ],
   "source": [
    "pre_data_test = lm.predict(A_data_test)\n",
    "print('Finsihed testing')"
   ]
  },
  {
   "cell_type": "code",
   "execution_count": 176,
   "id": "c5f9754f",
   "metadata": {},
   "outputs": [
    {
     "data": {
      "text/html": [
       "<div>\n",
       "<style scoped>\n",
       "    .dataframe tbody tr th:only-of-type {\n",
       "        vertical-align: middle;\n",
       "    }\n",
       "\n",
       "    .dataframe tbody tr th {\n",
       "        vertical-align: top;\n",
       "    }\n",
       "\n",
       "    .dataframe thead th {\n",
       "        text-align: right;\n",
       "    }\n",
       "</style>\n",
       "<table border=\"1\" class=\"dataframe\">\n",
       "  <thead>\n",
       "    <tr style=\"text-align: right;\">\n",
       "      <th></th>\n",
       "      <th>Actual price</th>\n",
       "      <th>Predicted price</th>\n",
       "    </tr>\n",
       "  </thead>\n",
       "  <tbody>\n",
       "    <tr>\n",
       "      <th>145</th>\n",
       "      <td>11259.0</td>\n",
       "      <td>14728.893742</td>\n",
       "    </tr>\n",
       "    <tr>\n",
       "      <th>146</th>\n",
       "      <td>7463.0</td>\n",
       "      <td>11177.112641</td>\n",
       "    </tr>\n",
       "    <tr>\n",
       "      <th>147</th>\n",
       "      <td>10198.0</td>\n",
       "      <td>13840.948466</td>\n",
       "    </tr>\n",
       "    <tr>\n",
       "      <th>148</th>\n",
       "      <td>8013.0</td>\n",
       "      <td>15616.839017</td>\n",
       "    </tr>\n",
       "    <tr>\n",
       "      <th>149</th>\n",
       "      <td>11694.0</td>\n",
       "      <td>15616.839017</td>\n",
       "    </tr>\n",
       "    <tr>\n",
       "      <th>150</th>\n",
       "      <td>5348.0</td>\n",
       "      <td>4961.495714</td>\n",
       "    </tr>\n",
       "    <tr>\n",
       "      <th>151</th>\n",
       "      <td>6338.0</td>\n",
       "      <td>8513.276815</td>\n",
       "    </tr>\n",
       "    <tr>\n",
       "      <th>152</th>\n",
       "      <td>6488.0</td>\n",
       "      <td>8513.276815</td>\n",
       "    </tr>\n",
       "    <tr>\n",
       "      <th>153</th>\n",
       "      <td>6918.0</td>\n",
       "      <td>8513.276815</td>\n",
       "    </tr>\n",
       "    <tr>\n",
       "      <th>154</th>\n",
       "      <td>7898.0</td>\n",
       "      <td>12065.057916</td>\n",
       "    </tr>\n",
       "    <tr>\n",
       "      <th>155</th>\n",
       "      <td>8778.0</td>\n",
       "      <td>12065.057916</td>\n",
       "    </tr>\n",
       "    <tr>\n",
       "      <th>156</th>\n",
       "      <td>6938.0</td>\n",
       "      <td>9401.222090</td>\n",
       "    </tr>\n",
       "    <tr>\n",
       "      <th>157</th>\n",
       "      <td>7198.0</td>\n",
       "      <td>9401.222090</td>\n",
       "    </tr>\n",
       "    <tr>\n",
       "      <th>158</th>\n",
       "      <td>7898.0</td>\n",
       "      <td>5849.440989</td>\n",
       "    </tr>\n",
       "    <tr>\n",
       "      <th>159</th>\n",
       "      <td>7788.0</td>\n",
       "      <td>2297.659888</td>\n",
       "    </tr>\n",
       "    <tr>\n",
       "      <th>160</th>\n",
       "      <td>7738.0</td>\n",
       "      <td>2297.659888</td>\n",
       "    </tr>\n",
       "    <tr>\n",
       "      <th>161</th>\n",
       "      <td>8358.0</td>\n",
       "      <td>11177.112641</td>\n",
       "    </tr>\n",
       "    <tr>\n",
       "      <th>162</th>\n",
       "      <td>9258.0</td>\n",
       "      <td>11177.112641</td>\n",
       "    </tr>\n",
       "    <tr>\n",
       "      <th>163</th>\n",
       "      <td>8058.0</td>\n",
       "      <td>10289.167365</td>\n",
       "    </tr>\n",
       "    <tr>\n",
       "      <th>164</th>\n",
       "      <td>8238.0</td>\n",
       "      <td>10289.167365</td>\n",
       "    </tr>\n",
       "    <tr>\n",
       "      <th>165</th>\n",
       "      <td>9298.0</td>\n",
       "      <td>12953.003191</td>\n",
       "    </tr>\n",
       "    <tr>\n",
       "      <th>166</th>\n",
       "      <td>9538.0</td>\n",
       "      <td>12953.003191</td>\n",
       "    </tr>\n",
       "    <tr>\n",
       "      <th>167</th>\n",
       "      <td>8449.0</td>\n",
       "      <td>14728.893742</td>\n",
       "    </tr>\n",
       "    <tr>\n",
       "      <th>168</th>\n",
       "      <td>9639.0</td>\n",
       "      <td>14728.893742</td>\n",
       "    </tr>\n",
       "    <tr>\n",
       "      <th>169</th>\n",
       "      <td>9989.0</td>\n",
       "      <td>14728.893742</td>\n",
       "    </tr>\n",
       "    <tr>\n",
       "      <th>170</th>\n",
       "      <td>11199.0</td>\n",
       "      <td>14728.893742</td>\n",
       "    </tr>\n",
       "    <tr>\n",
       "      <th>171</th>\n",
       "      <td>11549.0</td>\n",
       "      <td>14728.893742</td>\n",
       "    </tr>\n",
       "    <tr>\n",
       "      <th>172</th>\n",
       "      <td>17669.0</td>\n",
       "      <td>14728.893742</td>\n",
       "    </tr>\n",
       "    <tr>\n",
       "      <th>173</th>\n",
       "      <td>8948.0</td>\n",
       "      <td>10289.167365</td>\n",
       "    </tr>\n",
       "    <tr>\n",
       "      <th>174</th>\n",
       "      <td>10698.0</td>\n",
       "      <td>9401.222090</td>\n",
       "    </tr>\n",
       "    <tr>\n",
       "      <th>175</th>\n",
       "      <td>9988.0</td>\n",
       "      <td>12065.057916</td>\n",
       "    </tr>\n",
       "    <tr>\n",
       "      <th>176</th>\n",
       "      <td>10898.0</td>\n",
       "      <td>12065.057916</td>\n",
       "    </tr>\n",
       "    <tr>\n",
       "      <th>177</th>\n",
       "      <td>11248.0</td>\n",
       "      <td>12065.057916</td>\n",
       "    </tr>\n",
       "    <tr>\n",
       "      <th>178</th>\n",
       "      <td>16558.0</td>\n",
       "      <td>18280.674843</td>\n",
       "    </tr>\n",
       "    <tr>\n",
       "      <th>179</th>\n",
       "      <td>15998.0</td>\n",
       "      <td>19168.620118</td>\n",
       "    </tr>\n",
       "    <tr>\n",
       "      <th>180</th>\n",
       "      <td>15690.0</td>\n",
       "      <td>18280.674843</td>\n",
       "    </tr>\n",
       "    <tr>\n",
       "      <th>181</th>\n",
       "      <td>15750.0</td>\n",
       "      <td>19168.620118</td>\n",
       "    </tr>\n",
       "    <tr>\n",
       "      <th>182</th>\n",
       "      <td>7775.0</td>\n",
       "      <td>3185.605163</td>\n",
       "    </tr>\n",
       "    <tr>\n",
       "      <th>183</th>\n",
       "      <td>7975.0</td>\n",
       "      <td>12065.057916</td>\n",
       "    </tr>\n",
       "    <tr>\n",
       "      <th>184</th>\n",
       "      <td>7995.0</td>\n",
       "      <td>3185.605163</td>\n",
       "    </tr>\n",
       "    <tr>\n",
       "      <th>185</th>\n",
       "      <td>8195.0</td>\n",
       "      <td>12065.057916</td>\n",
       "    </tr>\n",
       "    <tr>\n",
       "      <th>186</th>\n",
       "      <td>8495.0</td>\n",
       "      <td>12065.057916</td>\n",
       "    </tr>\n",
       "    <tr>\n",
       "      <th>187</th>\n",
       "      <td>9495.0</td>\n",
       "      <td>3185.605163</td>\n",
       "    </tr>\n",
       "    <tr>\n",
       "      <th>188</th>\n",
       "      <td>9995.0</td>\n",
       "      <td>12953.003191</td>\n",
       "    </tr>\n",
       "    <tr>\n",
       "      <th>189</th>\n",
       "      <td>11595.0</td>\n",
       "      <td>14728.893742</td>\n",
       "    </tr>\n",
       "    <tr>\n",
       "      <th>190</th>\n",
       "      <td>9980.0</td>\n",
       "      <td>14728.893742</td>\n",
       "    </tr>\n",
       "    <tr>\n",
       "      <th>191</th>\n",
       "      <td>13295.0</td>\n",
       "      <td>19168.620118</td>\n",
       "    </tr>\n",
       "    <tr>\n",
       "      <th>192</th>\n",
       "      <td>13845.0</td>\n",
       "      <td>6737.386264</td>\n",
       "    </tr>\n",
       "    <tr>\n",
       "      <th>193</th>\n",
       "      <td>12290.0</td>\n",
       "      <td>13840.948466</td>\n",
       "    </tr>\n",
       "    <tr>\n",
       "      <th>194</th>\n",
       "      <td>12940.0</td>\n",
       "      <td>15616.839017</td>\n",
       "    </tr>\n",
       "    <tr>\n",
       "      <th>195</th>\n",
       "      <td>13415.0</td>\n",
       "      <td>15616.839017</td>\n",
       "    </tr>\n",
       "    <tr>\n",
       "      <th>196</th>\n",
       "      <td>15985.0</td>\n",
       "      <td>14728.893742</td>\n",
       "    </tr>\n",
       "    <tr>\n",
       "      <th>197</th>\n",
       "      <td>16515.0</td>\n",
       "      <td>14728.893742</td>\n",
       "    </tr>\n",
       "    <tr>\n",
       "      <th>198</th>\n",
       "      <td>18420.0</td>\n",
       "      <td>20944.510669</td>\n",
       "    </tr>\n",
       "    <tr>\n",
       "      <th>199</th>\n",
       "      <td>18950.0</td>\n",
       "      <td>20944.510669</td>\n",
       "    </tr>\n",
       "    <tr>\n",
       "      <th>200</th>\n",
       "      <td>16845.0</td>\n",
       "      <td>15616.839017</td>\n",
       "    </tr>\n",
       "    <tr>\n",
       "      <th>201</th>\n",
       "      <td>19045.0</td>\n",
       "      <td>19168.620118</td>\n",
       "    </tr>\n",
       "    <tr>\n",
       "      <th>202</th>\n",
       "      <td>21485.0</td>\n",
       "      <td>20056.565393</td>\n",
       "    </tr>\n",
       "    <tr>\n",
       "      <th>203</th>\n",
       "      <td>22470.0</td>\n",
       "      <td>12953.003191</td>\n",
       "    </tr>\n",
       "    <tr>\n",
       "      <th>204</th>\n",
       "      <td>22625.0</td>\n",
       "      <td>19168.620118</td>\n",
       "    </tr>\n",
       "  </tbody>\n",
       "</table>\n",
       "</div>"
      ],
      "text/plain": [
       "     Actual price  Predicted price\n",
       "145       11259.0     14728.893742\n",
       "146        7463.0     11177.112641\n",
       "147       10198.0     13840.948466\n",
       "148        8013.0     15616.839017\n",
       "149       11694.0     15616.839017\n",
       "150        5348.0      4961.495714\n",
       "151        6338.0      8513.276815\n",
       "152        6488.0      8513.276815\n",
       "153        6918.0      8513.276815\n",
       "154        7898.0     12065.057916\n",
       "155        8778.0     12065.057916\n",
       "156        6938.0      9401.222090\n",
       "157        7198.0      9401.222090\n",
       "158        7898.0      5849.440989\n",
       "159        7788.0      2297.659888\n",
       "160        7738.0      2297.659888\n",
       "161        8358.0     11177.112641\n",
       "162        9258.0     11177.112641\n",
       "163        8058.0     10289.167365\n",
       "164        8238.0     10289.167365\n",
       "165        9298.0     12953.003191\n",
       "166        9538.0     12953.003191\n",
       "167        8449.0     14728.893742\n",
       "168        9639.0     14728.893742\n",
       "169        9989.0     14728.893742\n",
       "170       11199.0     14728.893742\n",
       "171       11549.0     14728.893742\n",
       "172       17669.0     14728.893742\n",
       "173        8948.0     10289.167365\n",
       "174       10698.0      9401.222090\n",
       "175        9988.0     12065.057916\n",
       "176       10898.0     12065.057916\n",
       "177       11248.0     12065.057916\n",
       "178       16558.0     18280.674843\n",
       "179       15998.0     19168.620118\n",
       "180       15690.0     18280.674843\n",
       "181       15750.0     19168.620118\n",
       "182        7775.0      3185.605163\n",
       "183        7975.0     12065.057916\n",
       "184        7995.0      3185.605163\n",
       "185        8195.0     12065.057916\n",
       "186        8495.0     12065.057916\n",
       "187        9495.0      3185.605163\n",
       "188        9995.0     12953.003191\n",
       "189       11595.0     14728.893742\n",
       "190        9980.0     14728.893742\n",
       "191       13295.0     19168.620118\n",
       "192       13845.0      6737.386264\n",
       "193       12290.0     13840.948466\n",
       "194       12940.0     15616.839017\n",
       "195       13415.0     15616.839017\n",
       "196       15985.0     14728.893742\n",
       "197       16515.0     14728.893742\n",
       "198       18420.0     20944.510669\n",
       "199       18950.0     20944.510669\n",
       "200       16845.0     15616.839017\n",
       "201       19045.0     19168.620118\n",
       "202       21485.0     20056.565393\n",
       "203       22470.0     12953.003191\n",
       "204       22625.0     19168.620118"
      ]
     },
     "execution_count": 176,
     "metadata": {},
     "output_type": "execute_result"
    }
   ],
   "source": [
    "df = pd.DataFrame({'Actual price': B_data_test, 'Predicted price': pre_data_test})\n",
    "df"
   ]
  },
  {
   "cell_type": "code",
   "execution_count": 177,
   "id": "18252af0",
   "metadata": {},
   "outputs": [
    {
     "name": "stdout",
     "output_type": "stream",
     "text": [
      "Mean Absolute Error: 2898.239116787258\n",
      "Mean Squared Error: 13519371.370383428\n",
      "Root Mean Squared Error: 3676.8697788177687\n"
     ]
    }
   ],
   "source": [
    "from sklearn import metrics as MT\n",
    "import numpy as np\n",
    "print (\"Mean Absolute Error:\", MT.mean_absolute_error(B_data_test,pred_data_test))\n",
    "print (\"Mean Squared Error:\", MT.mean_squared_error(B_data_test,pred_data_test))\n",
    "print (\"Root Mean Squared Error:\",np.sqrt(MT.mean_squared_error(B_data_test,pred_data_test)))"
   ]
  },
  {
   "cell_type": "code",
   "execution_count": null,
   "id": "f0082544",
   "metadata": {},
   "outputs": [],
   "source": []
  }
 ],
 "metadata": {
  "kernelspec": {
   "display_name": "Python 3",
   "language": "python",
   "name": "python3"
  },
  "language_info": {
   "codemirror_mode": {
    "name": "ipython",
    "version": 3
   },
   "file_extension": ".py",
   "mimetype": "text/x-python",
   "name": "python",
   "nbconvert_exporter": "python",
   "pygments_lexer": "ipython3",
   "version": "3.8.8"
  }
 },
 "nbformat": 4,
 "nbformat_minor": 5
}
